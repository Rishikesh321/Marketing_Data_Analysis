{
 "cells": [
  {
   "attachments": {},
   "cell_type": "markdown",
   "metadata": {},
   "source": [
    "## Importing Libraries"
   ]
  },
  {
   "cell_type": "code",
   "execution_count": 1,
   "metadata": {},
   "outputs": [],
   "source": [
    "import numpy as np\n",
    "import pandas as pd\n",
    "import plotly.express as px"
   ]
  },
  {
   "attachments": {},
   "cell_type": "markdown",
   "metadata": {},
   "source": [
    "## Importing Data"
   ]
  },
  {
   "cell_type": "code",
   "execution_count": 2,
   "metadata": {},
   "outputs": [
    {
     "data": {
      "text/html": [
       "<div>\n",
       "<style scoped>\n",
       "    .dataframe tbody tr th:only-of-type {\n",
       "        vertical-align: middle;\n",
       "    }\n",
       "\n",
       "    .dataframe tbody tr th {\n",
       "        vertical-align: top;\n",
       "    }\n",
       "\n",
       "    .dataframe thead th {\n",
       "        text-align: right;\n",
       "    }\n",
       "</style>\n",
       "<table border=\"1\" class=\"dataframe\">\n",
       "  <thead>\n",
       "    <tr style=\"text-align: right;\">\n",
       "      <th></th>\n",
       "      <th>Income</th>\n",
       "      <th>Kidhome</th>\n",
       "      <th>Teenhome</th>\n",
       "      <th>Recency</th>\n",
       "      <th>MntWines</th>\n",
       "      <th>MntFruits</th>\n",
       "      <th>MntMeatProducts</th>\n",
       "      <th>MntFishProducts</th>\n",
       "      <th>MntSweetProducts</th>\n",
       "      <th>MntGoldProds</th>\n",
       "      <th>...</th>\n",
       "      <th>marital_Together</th>\n",
       "      <th>marital_Widow</th>\n",
       "      <th>education_2n Cycle</th>\n",
       "      <th>education_Basic</th>\n",
       "      <th>education_Graduation</th>\n",
       "      <th>education_Master</th>\n",
       "      <th>education_PhD</th>\n",
       "      <th>MntTotal</th>\n",
       "      <th>MntRegularProds</th>\n",
       "      <th>AcceptedCmpOverall</th>\n",
       "    </tr>\n",
       "  </thead>\n",
       "  <tbody>\n",
       "    <tr>\n",
       "      <th>0</th>\n",
       "      <td>58138.0</td>\n",
       "      <td>0</td>\n",
       "      <td>0</td>\n",
       "      <td>58</td>\n",
       "      <td>635</td>\n",
       "      <td>88</td>\n",
       "      <td>546</td>\n",
       "      <td>172</td>\n",
       "      <td>88</td>\n",
       "      <td>88</td>\n",
       "      <td>...</td>\n",
       "      <td>0</td>\n",
       "      <td>0</td>\n",
       "      <td>0</td>\n",
       "      <td>0</td>\n",
       "      <td>1</td>\n",
       "      <td>0</td>\n",
       "      <td>0</td>\n",
       "      <td>1529</td>\n",
       "      <td>1441</td>\n",
       "      <td>0</td>\n",
       "    </tr>\n",
       "    <tr>\n",
       "      <th>1</th>\n",
       "      <td>46344.0</td>\n",
       "      <td>1</td>\n",
       "      <td>1</td>\n",
       "      <td>38</td>\n",
       "      <td>11</td>\n",
       "      <td>1</td>\n",
       "      <td>6</td>\n",
       "      <td>2</td>\n",
       "      <td>1</td>\n",
       "      <td>6</td>\n",
       "      <td>...</td>\n",
       "      <td>0</td>\n",
       "      <td>0</td>\n",
       "      <td>0</td>\n",
       "      <td>0</td>\n",
       "      <td>1</td>\n",
       "      <td>0</td>\n",
       "      <td>0</td>\n",
       "      <td>21</td>\n",
       "      <td>15</td>\n",
       "      <td>0</td>\n",
       "    </tr>\n",
       "    <tr>\n",
       "      <th>2</th>\n",
       "      <td>71613.0</td>\n",
       "      <td>0</td>\n",
       "      <td>0</td>\n",
       "      <td>26</td>\n",
       "      <td>426</td>\n",
       "      <td>49</td>\n",
       "      <td>127</td>\n",
       "      <td>111</td>\n",
       "      <td>21</td>\n",
       "      <td>42</td>\n",
       "      <td>...</td>\n",
       "      <td>1</td>\n",
       "      <td>0</td>\n",
       "      <td>0</td>\n",
       "      <td>0</td>\n",
       "      <td>1</td>\n",
       "      <td>0</td>\n",
       "      <td>0</td>\n",
       "      <td>734</td>\n",
       "      <td>692</td>\n",
       "      <td>0</td>\n",
       "    </tr>\n",
       "    <tr>\n",
       "      <th>3</th>\n",
       "      <td>26646.0</td>\n",
       "      <td>1</td>\n",
       "      <td>0</td>\n",
       "      <td>26</td>\n",
       "      <td>11</td>\n",
       "      <td>4</td>\n",
       "      <td>20</td>\n",
       "      <td>10</td>\n",
       "      <td>3</td>\n",
       "      <td>5</td>\n",
       "      <td>...</td>\n",
       "      <td>1</td>\n",
       "      <td>0</td>\n",
       "      <td>0</td>\n",
       "      <td>0</td>\n",
       "      <td>1</td>\n",
       "      <td>0</td>\n",
       "      <td>0</td>\n",
       "      <td>48</td>\n",
       "      <td>43</td>\n",
       "      <td>0</td>\n",
       "    </tr>\n",
       "    <tr>\n",
       "      <th>4</th>\n",
       "      <td>58293.0</td>\n",
       "      <td>1</td>\n",
       "      <td>0</td>\n",
       "      <td>94</td>\n",
       "      <td>173</td>\n",
       "      <td>43</td>\n",
       "      <td>118</td>\n",
       "      <td>46</td>\n",
       "      <td>27</td>\n",
       "      <td>15</td>\n",
       "      <td>...</td>\n",
       "      <td>0</td>\n",
       "      <td>0</td>\n",
       "      <td>0</td>\n",
       "      <td>0</td>\n",
       "      <td>0</td>\n",
       "      <td>0</td>\n",
       "      <td>1</td>\n",
       "      <td>407</td>\n",
       "      <td>392</td>\n",
       "      <td>0</td>\n",
       "    </tr>\n",
       "    <tr>\n",
       "      <th>...</th>\n",
       "      <td>...</td>\n",
       "      <td>...</td>\n",
       "      <td>...</td>\n",
       "      <td>...</td>\n",
       "      <td>...</td>\n",
       "      <td>...</td>\n",
       "      <td>...</td>\n",
       "      <td>...</td>\n",
       "      <td>...</td>\n",
       "      <td>...</td>\n",
       "      <td>...</td>\n",
       "      <td>...</td>\n",
       "      <td>...</td>\n",
       "      <td>...</td>\n",
       "      <td>...</td>\n",
       "      <td>...</td>\n",
       "      <td>...</td>\n",
       "      <td>...</td>\n",
       "      <td>...</td>\n",
       "      <td>...</td>\n",
       "      <td>...</td>\n",
       "    </tr>\n",
       "    <tr>\n",
       "      <th>2200</th>\n",
       "      <td>61223.0</td>\n",
       "      <td>0</td>\n",
       "      <td>1</td>\n",
       "      <td>46</td>\n",
       "      <td>709</td>\n",
       "      <td>43</td>\n",
       "      <td>182</td>\n",
       "      <td>42</td>\n",
       "      <td>118</td>\n",
       "      <td>247</td>\n",
       "      <td>...</td>\n",
       "      <td>0</td>\n",
       "      <td>0</td>\n",
       "      <td>0</td>\n",
       "      <td>0</td>\n",
       "      <td>1</td>\n",
       "      <td>0</td>\n",
       "      <td>0</td>\n",
       "      <td>1094</td>\n",
       "      <td>847</td>\n",
       "      <td>0</td>\n",
       "    </tr>\n",
       "    <tr>\n",
       "      <th>2201</th>\n",
       "      <td>64014.0</td>\n",
       "      <td>2</td>\n",
       "      <td>1</td>\n",
       "      <td>56</td>\n",
       "      <td>406</td>\n",
       "      <td>0</td>\n",
       "      <td>30</td>\n",
       "      <td>0</td>\n",
       "      <td>0</td>\n",
       "      <td>8</td>\n",
       "      <td>...</td>\n",
       "      <td>1</td>\n",
       "      <td>0</td>\n",
       "      <td>0</td>\n",
       "      <td>0</td>\n",
       "      <td>0</td>\n",
       "      <td>0</td>\n",
       "      <td>1</td>\n",
       "      <td>436</td>\n",
       "      <td>428</td>\n",
       "      <td>1</td>\n",
       "    </tr>\n",
       "    <tr>\n",
       "      <th>2202</th>\n",
       "      <td>56981.0</td>\n",
       "      <td>0</td>\n",
       "      <td>0</td>\n",
       "      <td>91</td>\n",
       "      <td>908</td>\n",
       "      <td>48</td>\n",
       "      <td>217</td>\n",
       "      <td>32</td>\n",
       "      <td>12</td>\n",
       "      <td>24</td>\n",
       "      <td>...</td>\n",
       "      <td>0</td>\n",
       "      <td>0</td>\n",
       "      <td>0</td>\n",
       "      <td>0</td>\n",
       "      <td>1</td>\n",
       "      <td>0</td>\n",
       "      <td>0</td>\n",
       "      <td>1217</td>\n",
       "      <td>1193</td>\n",
       "      <td>1</td>\n",
       "    </tr>\n",
       "    <tr>\n",
       "      <th>2203</th>\n",
       "      <td>69245.0</td>\n",
       "      <td>0</td>\n",
       "      <td>1</td>\n",
       "      <td>8</td>\n",
       "      <td>428</td>\n",
       "      <td>30</td>\n",
       "      <td>214</td>\n",
       "      <td>80</td>\n",
       "      <td>30</td>\n",
       "      <td>61</td>\n",
       "      <td>...</td>\n",
       "      <td>1</td>\n",
       "      <td>0</td>\n",
       "      <td>0</td>\n",
       "      <td>0</td>\n",
       "      <td>0</td>\n",
       "      <td>1</td>\n",
       "      <td>0</td>\n",
       "      <td>782</td>\n",
       "      <td>721</td>\n",
       "      <td>0</td>\n",
       "    </tr>\n",
       "    <tr>\n",
       "      <th>2204</th>\n",
       "      <td>52869.0</td>\n",
       "      <td>1</td>\n",
       "      <td>1</td>\n",
       "      <td>40</td>\n",
       "      <td>84</td>\n",
       "      <td>3</td>\n",
       "      <td>61</td>\n",
       "      <td>2</td>\n",
       "      <td>1</td>\n",
       "      <td>21</td>\n",
       "      <td>...</td>\n",
       "      <td>0</td>\n",
       "      <td>0</td>\n",
       "      <td>0</td>\n",
       "      <td>0</td>\n",
       "      <td>0</td>\n",
       "      <td>0</td>\n",
       "      <td>1</td>\n",
       "      <td>151</td>\n",
       "      <td>130</td>\n",
       "      <td>0</td>\n",
       "    </tr>\n",
       "  </tbody>\n",
       "</table>\n",
       "<p>2205 rows × 39 columns</p>\n",
       "</div>"
      ],
      "text/plain": [
       "       Income  Kidhome  Teenhome  Recency  MntWines  MntFruits  \\\n",
       "0     58138.0        0         0       58       635         88   \n",
       "1     46344.0        1         1       38        11          1   \n",
       "2     71613.0        0         0       26       426         49   \n",
       "3     26646.0        1         0       26        11          4   \n",
       "4     58293.0        1         0       94       173         43   \n",
       "...       ...      ...       ...      ...       ...        ...   \n",
       "2200  61223.0        0         1       46       709         43   \n",
       "2201  64014.0        2         1       56       406          0   \n",
       "2202  56981.0        0         0       91       908         48   \n",
       "2203  69245.0        0         1        8       428         30   \n",
       "2204  52869.0        1         1       40        84          3   \n",
       "\n",
       "      MntMeatProducts  MntFishProducts  MntSweetProducts  MntGoldProds  ...  \\\n",
       "0                 546              172                88            88  ...   \n",
       "1                   6                2                 1             6  ...   \n",
       "2                 127              111                21            42  ...   \n",
       "3                  20               10                 3             5  ...   \n",
       "4                 118               46                27            15  ...   \n",
       "...               ...              ...               ...           ...  ...   \n",
       "2200              182               42               118           247  ...   \n",
       "2201               30                0                 0             8  ...   \n",
       "2202              217               32                12            24  ...   \n",
       "2203              214               80                30            61  ...   \n",
       "2204               61                2                 1            21  ...   \n",
       "\n",
       "      marital_Together  marital_Widow  education_2n Cycle  education_Basic  \\\n",
       "0                    0              0                   0                0   \n",
       "1                    0              0                   0                0   \n",
       "2                    1              0                   0                0   \n",
       "3                    1              0                   0                0   \n",
       "4                    0              0                   0                0   \n",
       "...                ...            ...                 ...              ...   \n",
       "2200                 0              0                   0                0   \n",
       "2201                 1              0                   0                0   \n",
       "2202                 0              0                   0                0   \n",
       "2203                 1              0                   0                0   \n",
       "2204                 0              0                   0                0   \n",
       "\n",
       "      education_Graduation  education_Master  education_PhD  MntTotal  \\\n",
       "0                        1                 0              0      1529   \n",
       "1                        1                 0              0        21   \n",
       "2                        1                 0              0       734   \n",
       "3                        1                 0              0        48   \n",
       "4                        0                 0              1       407   \n",
       "...                    ...               ...            ...       ...   \n",
       "2200                     1                 0              0      1094   \n",
       "2201                     0                 0              1       436   \n",
       "2202                     1                 0              0      1217   \n",
       "2203                     0                 1              0       782   \n",
       "2204                     0                 0              1       151   \n",
       "\n",
       "      MntRegularProds  AcceptedCmpOverall  \n",
       "0                1441                   0  \n",
       "1                  15                   0  \n",
       "2                 692                   0  \n",
       "3                  43                   0  \n",
       "4                 392                   0  \n",
       "...               ...                 ...  \n",
       "2200              847                   0  \n",
       "2201              428                   1  \n",
       "2202             1193                   1  \n",
       "2203              721                   0  \n",
       "2204              130                   0  \n",
       "\n",
       "[2205 rows x 39 columns]"
      ]
     },
     "execution_count": 2,
     "metadata": {},
     "output_type": "execute_result"
    }
   ],
   "source": [
    "data = pd.read_csv(\"D:\\Marketing_Data_Analysis\\Data\\ifood_df.csv\")\n",
    "data"
   ]
  },
  {
   "cell_type": "code",
   "execution_count": 3,
   "metadata": {},
   "outputs": [
    {
     "name": "stdout",
     "output_type": "stream",
     "text": [
      "<class 'pandas.core.frame.DataFrame'>\n",
      "RangeIndex: 2205 entries, 0 to 2204\n",
      "Data columns (total 39 columns):\n",
      " #   Column                Non-Null Count  Dtype  \n",
      "---  ------                --------------  -----  \n",
      " 0   Income                2205 non-null   float64\n",
      " 1   Kidhome               2205 non-null   int64  \n",
      " 2   Teenhome              2205 non-null   int64  \n",
      " 3   Recency               2205 non-null   int64  \n",
      " 4   MntWines              2205 non-null   int64  \n",
      " 5   MntFruits             2205 non-null   int64  \n",
      " 6   MntMeatProducts       2205 non-null   int64  \n",
      " 7   MntFishProducts       2205 non-null   int64  \n",
      " 8   MntSweetProducts      2205 non-null   int64  \n",
      " 9   MntGoldProds          2205 non-null   int64  \n",
      " 10  NumDealsPurchases     2205 non-null   int64  \n",
      " 11  NumWebPurchases       2205 non-null   int64  \n",
      " 12  NumCatalogPurchases   2205 non-null   int64  \n",
      " 13  NumStorePurchases     2205 non-null   int64  \n",
      " 14  NumWebVisitsMonth     2205 non-null   int64  \n",
      " 15  AcceptedCmp3          2205 non-null   int64  \n",
      " 16  AcceptedCmp4          2205 non-null   int64  \n",
      " 17  AcceptedCmp5          2205 non-null   int64  \n",
      " 18  AcceptedCmp1          2205 non-null   int64  \n",
      " 19  AcceptedCmp2          2205 non-null   int64  \n",
      " 20  Complain              2205 non-null   int64  \n",
      " 21  Z_CostContact         2205 non-null   int64  \n",
      " 22  Z_Revenue             2205 non-null   int64  \n",
      " 23  Response              2205 non-null   int64  \n",
      " 24  Age                   2205 non-null   int64  \n",
      " 25  Customer_Days         2205 non-null   int64  \n",
      " 26  marital_Divorced      2205 non-null   int64  \n",
      " 27  marital_Married       2205 non-null   int64  \n",
      " 28  marital_Single        2205 non-null   int64  \n",
      " 29  marital_Together      2205 non-null   int64  \n",
      " 30  marital_Widow         2205 non-null   int64  \n",
      " 31  education_2n Cycle    2205 non-null   int64  \n",
      " 32  education_Basic       2205 non-null   int64  \n",
      " 33  education_Graduation  2205 non-null   int64  \n",
      " 34  education_Master      2205 non-null   int64  \n",
      " 35  education_PhD         2205 non-null   int64  \n",
      " 36  MntTotal              2205 non-null   int64  \n",
      " 37  MntRegularProds       2205 non-null   int64  \n",
      " 38  AcceptedCmpOverall    2205 non-null   int64  \n",
      "dtypes: float64(1), int64(38)\n",
      "memory usage: 672.0 KB\n"
     ]
    }
   ],
   "source": [
    "data.info()"
   ]
  },
  {
   "cell_type": "code",
   "execution_count": 4,
   "metadata": {},
   "outputs": [
    {
     "data": {
      "text/html": [
       "<div>\n",
       "<style scoped>\n",
       "    .dataframe tbody tr th:only-of-type {\n",
       "        vertical-align: middle;\n",
       "    }\n",
       "\n",
       "    .dataframe tbody tr th {\n",
       "        vertical-align: top;\n",
       "    }\n",
       "\n",
       "    .dataframe thead th {\n",
       "        text-align: right;\n",
       "    }\n",
       "</style>\n",
       "<table border=\"1\" class=\"dataframe\">\n",
       "  <thead>\n",
       "    <tr style=\"text-align: right;\">\n",
       "      <th></th>\n",
       "      <th>Income</th>\n",
       "      <th>Kidhome</th>\n",
       "      <th>Teenhome</th>\n",
       "      <th>Recency</th>\n",
       "      <th>MntWines</th>\n",
       "      <th>MntFruits</th>\n",
       "      <th>MntMeatProducts</th>\n",
       "      <th>MntFishProducts</th>\n",
       "      <th>MntSweetProducts</th>\n",
       "      <th>MntGoldProds</th>\n",
       "      <th>...</th>\n",
       "      <th>marital_Together</th>\n",
       "      <th>marital_Widow</th>\n",
       "      <th>education_2n Cycle</th>\n",
       "      <th>education_Basic</th>\n",
       "      <th>education_Graduation</th>\n",
       "      <th>education_Master</th>\n",
       "      <th>education_PhD</th>\n",
       "      <th>MntTotal</th>\n",
       "      <th>MntRegularProds</th>\n",
       "      <th>AcceptedCmpOverall</th>\n",
       "    </tr>\n",
       "  </thead>\n",
       "  <tbody>\n",
       "    <tr>\n",
       "      <th>count</th>\n",
       "      <td>2205.000000</td>\n",
       "      <td>2205.000000</td>\n",
       "      <td>2205.000000</td>\n",
       "      <td>2205.000000</td>\n",
       "      <td>2205.000000</td>\n",
       "      <td>2205.000000</td>\n",
       "      <td>2205.000000</td>\n",
       "      <td>2205.000000</td>\n",
       "      <td>2205.000000</td>\n",
       "      <td>2205.000000</td>\n",
       "      <td>...</td>\n",
       "      <td>2205.000000</td>\n",
       "      <td>2205.000000</td>\n",
       "      <td>2205.000000</td>\n",
       "      <td>2205.000000</td>\n",
       "      <td>2205.000000</td>\n",
       "      <td>2205.000000</td>\n",
       "      <td>2205.000000</td>\n",
       "      <td>2205.000000</td>\n",
       "      <td>2205.000000</td>\n",
       "      <td>2205.00000</td>\n",
       "    </tr>\n",
       "    <tr>\n",
       "      <th>mean</th>\n",
       "      <td>51622.094785</td>\n",
       "      <td>0.442177</td>\n",
       "      <td>0.506576</td>\n",
       "      <td>49.009070</td>\n",
       "      <td>306.164626</td>\n",
       "      <td>26.403175</td>\n",
       "      <td>165.312018</td>\n",
       "      <td>37.756463</td>\n",
       "      <td>27.128345</td>\n",
       "      <td>44.057143</td>\n",
       "      <td>...</td>\n",
       "      <td>0.257596</td>\n",
       "      <td>0.034467</td>\n",
       "      <td>0.089796</td>\n",
       "      <td>0.024490</td>\n",
       "      <td>0.504762</td>\n",
       "      <td>0.165079</td>\n",
       "      <td>0.215873</td>\n",
       "      <td>562.764626</td>\n",
       "      <td>518.707483</td>\n",
       "      <td>0.29932</td>\n",
       "    </tr>\n",
       "    <tr>\n",
       "      <th>std</th>\n",
       "      <td>20713.063826</td>\n",
       "      <td>0.537132</td>\n",
       "      <td>0.544380</td>\n",
       "      <td>28.932111</td>\n",
       "      <td>337.493839</td>\n",
       "      <td>39.784484</td>\n",
       "      <td>217.784507</td>\n",
       "      <td>54.824635</td>\n",
       "      <td>41.130468</td>\n",
       "      <td>51.736211</td>\n",
       "      <td>...</td>\n",
       "      <td>0.437410</td>\n",
       "      <td>0.182467</td>\n",
       "      <td>0.285954</td>\n",
       "      <td>0.154599</td>\n",
       "      <td>0.500091</td>\n",
       "      <td>0.371336</td>\n",
       "      <td>0.411520</td>\n",
       "      <td>575.936911</td>\n",
       "      <td>553.847248</td>\n",
       "      <td>0.68044</td>\n",
       "    </tr>\n",
       "    <tr>\n",
       "      <th>min</th>\n",
       "      <td>1730.000000</td>\n",
       "      <td>0.000000</td>\n",
       "      <td>0.000000</td>\n",
       "      <td>0.000000</td>\n",
       "      <td>0.000000</td>\n",
       "      <td>0.000000</td>\n",
       "      <td>0.000000</td>\n",
       "      <td>0.000000</td>\n",
       "      <td>0.000000</td>\n",
       "      <td>0.000000</td>\n",
       "      <td>...</td>\n",
       "      <td>0.000000</td>\n",
       "      <td>0.000000</td>\n",
       "      <td>0.000000</td>\n",
       "      <td>0.000000</td>\n",
       "      <td>0.000000</td>\n",
       "      <td>0.000000</td>\n",
       "      <td>0.000000</td>\n",
       "      <td>4.000000</td>\n",
       "      <td>-283.000000</td>\n",
       "      <td>0.00000</td>\n",
       "    </tr>\n",
       "    <tr>\n",
       "      <th>25%</th>\n",
       "      <td>35196.000000</td>\n",
       "      <td>0.000000</td>\n",
       "      <td>0.000000</td>\n",
       "      <td>24.000000</td>\n",
       "      <td>24.000000</td>\n",
       "      <td>2.000000</td>\n",
       "      <td>16.000000</td>\n",
       "      <td>3.000000</td>\n",
       "      <td>1.000000</td>\n",
       "      <td>9.000000</td>\n",
       "      <td>...</td>\n",
       "      <td>0.000000</td>\n",
       "      <td>0.000000</td>\n",
       "      <td>0.000000</td>\n",
       "      <td>0.000000</td>\n",
       "      <td>0.000000</td>\n",
       "      <td>0.000000</td>\n",
       "      <td>0.000000</td>\n",
       "      <td>56.000000</td>\n",
       "      <td>42.000000</td>\n",
       "      <td>0.00000</td>\n",
       "    </tr>\n",
       "    <tr>\n",
       "      <th>50%</th>\n",
       "      <td>51287.000000</td>\n",
       "      <td>0.000000</td>\n",
       "      <td>0.000000</td>\n",
       "      <td>49.000000</td>\n",
       "      <td>178.000000</td>\n",
       "      <td>8.000000</td>\n",
       "      <td>68.000000</td>\n",
       "      <td>12.000000</td>\n",
       "      <td>8.000000</td>\n",
       "      <td>25.000000</td>\n",
       "      <td>...</td>\n",
       "      <td>0.000000</td>\n",
       "      <td>0.000000</td>\n",
       "      <td>0.000000</td>\n",
       "      <td>0.000000</td>\n",
       "      <td>1.000000</td>\n",
       "      <td>0.000000</td>\n",
       "      <td>0.000000</td>\n",
       "      <td>343.000000</td>\n",
       "      <td>288.000000</td>\n",
       "      <td>0.00000</td>\n",
       "    </tr>\n",
       "    <tr>\n",
       "      <th>75%</th>\n",
       "      <td>68281.000000</td>\n",
       "      <td>1.000000</td>\n",
       "      <td>1.000000</td>\n",
       "      <td>74.000000</td>\n",
       "      <td>507.000000</td>\n",
       "      <td>33.000000</td>\n",
       "      <td>232.000000</td>\n",
       "      <td>50.000000</td>\n",
       "      <td>34.000000</td>\n",
       "      <td>56.000000</td>\n",
       "      <td>...</td>\n",
       "      <td>1.000000</td>\n",
       "      <td>0.000000</td>\n",
       "      <td>0.000000</td>\n",
       "      <td>0.000000</td>\n",
       "      <td>1.000000</td>\n",
       "      <td>0.000000</td>\n",
       "      <td>0.000000</td>\n",
       "      <td>964.000000</td>\n",
       "      <td>884.000000</td>\n",
       "      <td>0.00000</td>\n",
       "    </tr>\n",
       "    <tr>\n",
       "      <th>max</th>\n",
       "      <td>113734.000000</td>\n",
       "      <td>2.000000</td>\n",
       "      <td>2.000000</td>\n",
       "      <td>99.000000</td>\n",
       "      <td>1493.000000</td>\n",
       "      <td>199.000000</td>\n",
       "      <td>1725.000000</td>\n",
       "      <td>259.000000</td>\n",
       "      <td>262.000000</td>\n",
       "      <td>321.000000</td>\n",
       "      <td>...</td>\n",
       "      <td>1.000000</td>\n",
       "      <td>1.000000</td>\n",
       "      <td>1.000000</td>\n",
       "      <td>1.000000</td>\n",
       "      <td>1.000000</td>\n",
       "      <td>1.000000</td>\n",
       "      <td>1.000000</td>\n",
       "      <td>2491.000000</td>\n",
       "      <td>2458.000000</td>\n",
       "      <td>4.00000</td>\n",
       "    </tr>\n",
       "  </tbody>\n",
       "</table>\n",
       "<p>8 rows × 39 columns</p>\n",
       "</div>"
      ],
      "text/plain": [
       "              Income      Kidhome     Teenhome      Recency     MntWines  \\\n",
       "count    2205.000000  2205.000000  2205.000000  2205.000000  2205.000000   \n",
       "mean    51622.094785     0.442177     0.506576    49.009070   306.164626   \n",
       "std     20713.063826     0.537132     0.544380    28.932111   337.493839   \n",
       "min      1730.000000     0.000000     0.000000     0.000000     0.000000   \n",
       "25%     35196.000000     0.000000     0.000000    24.000000    24.000000   \n",
       "50%     51287.000000     0.000000     0.000000    49.000000   178.000000   \n",
       "75%     68281.000000     1.000000     1.000000    74.000000   507.000000   \n",
       "max    113734.000000     2.000000     2.000000    99.000000  1493.000000   \n",
       "\n",
       "         MntFruits  MntMeatProducts  MntFishProducts  MntSweetProducts  \\\n",
       "count  2205.000000      2205.000000      2205.000000       2205.000000   \n",
       "mean     26.403175       165.312018        37.756463         27.128345   \n",
       "std      39.784484       217.784507        54.824635         41.130468   \n",
       "min       0.000000         0.000000         0.000000          0.000000   \n",
       "25%       2.000000        16.000000         3.000000          1.000000   \n",
       "50%       8.000000        68.000000        12.000000          8.000000   \n",
       "75%      33.000000       232.000000        50.000000         34.000000   \n",
       "max     199.000000      1725.000000       259.000000        262.000000   \n",
       "\n",
       "       MntGoldProds  ...  marital_Together  marital_Widow  education_2n Cycle  \\\n",
       "count   2205.000000  ...       2205.000000    2205.000000         2205.000000   \n",
       "mean      44.057143  ...          0.257596       0.034467            0.089796   \n",
       "std       51.736211  ...          0.437410       0.182467            0.285954   \n",
       "min        0.000000  ...          0.000000       0.000000            0.000000   \n",
       "25%        9.000000  ...          0.000000       0.000000            0.000000   \n",
       "50%       25.000000  ...          0.000000       0.000000            0.000000   \n",
       "75%       56.000000  ...          1.000000       0.000000            0.000000   \n",
       "max      321.000000  ...          1.000000       1.000000            1.000000   \n",
       "\n",
       "       education_Basic  education_Graduation  education_Master  education_PhD  \\\n",
       "count      2205.000000           2205.000000       2205.000000    2205.000000   \n",
       "mean          0.024490              0.504762          0.165079       0.215873   \n",
       "std           0.154599              0.500091          0.371336       0.411520   \n",
       "min           0.000000              0.000000          0.000000       0.000000   \n",
       "25%           0.000000              0.000000          0.000000       0.000000   \n",
       "50%           0.000000              1.000000          0.000000       0.000000   \n",
       "75%           0.000000              1.000000          0.000000       0.000000   \n",
       "max           1.000000              1.000000          1.000000       1.000000   \n",
       "\n",
       "          MntTotal  MntRegularProds  AcceptedCmpOverall  \n",
       "count  2205.000000      2205.000000          2205.00000  \n",
       "mean    562.764626       518.707483             0.29932  \n",
       "std     575.936911       553.847248             0.68044  \n",
       "min       4.000000      -283.000000             0.00000  \n",
       "25%      56.000000        42.000000             0.00000  \n",
       "50%     343.000000       288.000000             0.00000  \n",
       "75%     964.000000       884.000000             0.00000  \n",
       "max    2491.000000      2458.000000             4.00000  \n",
       "\n",
       "[8 rows x 39 columns]"
      ]
     },
     "execution_count": 4,
     "metadata": {},
     "output_type": "execute_result"
    }
   ],
   "source": [
    "data.describe()"
   ]
  },
  {
   "attachments": {},
   "cell_type": "markdown",
   "metadata": {},
   "source": [
    "## Finding NA values"
   ]
  },
  {
   "cell_type": "code",
   "execution_count": 5,
   "metadata": {},
   "outputs": [
    {
     "data": {
      "text/plain": [
       "Income                  0\n",
       "Kidhome                 0\n",
       "Teenhome                0\n",
       "Recency                 0\n",
       "MntWines                0\n",
       "MntFruits               0\n",
       "MntMeatProducts         0\n",
       "MntFishProducts         0\n",
       "MntSweetProducts        0\n",
       "MntGoldProds            0\n",
       "NumDealsPurchases       0\n",
       "NumWebPurchases         0\n",
       "NumCatalogPurchases     0\n",
       "NumStorePurchases       0\n",
       "NumWebVisitsMonth       0\n",
       "AcceptedCmp3            0\n",
       "AcceptedCmp4            0\n",
       "AcceptedCmp5            0\n",
       "AcceptedCmp1            0\n",
       "AcceptedCmp2            0\n",
       "Complain                0\n",
       "Z_CostContact           0\n",
       "Z_Revenue               0\n",
       "Response                0\n",
       "Age                     0\n",
       "Customer_Days           0\n",
       "marital_Divorced        0\n",
       "marital_Married         0\n",
       "marital_Single          0\n",
       "marital_Together        0\n",
       "marital_Widow           0\n",
       "education_2n Cycle      0\n",
       "education_Basic         0\n",
       "education_Graduation    0\n",
       "education_Master        0\n",
       "education_PhD           0\n",
       "MntTotal                0\n",
       "MntRegularProds         0\n",
       "AcceptedCmpOverall      0\n",
       "dtype: int64"
      ]
     },
     "execution_count": 5,
     "metadata": {},
     "output_type": "execute_result"
    }
   ],
   "source": [
    "data.isna().sum()\n",
    "data.isnull().sum()"
   ]
  },
  {
   "attachments": {},
   "cell_type": "markdown",
   "metadata": {},
   "source": [
    "## Income status associated with Buying habit"
   ]
  },
  {
   "cell_type": "code",
   "execution_count": 6,
   "metadata": {},
   "outputs": [
    {
     "data": {
      "text/plain": [
       "count      2205.000000\n",
       "mean      51622.094785\n",
       "std       20713.063826\n",
       "min        1730.000000\n",
       "25%       35196.000000\n",
       "50%       51287.000000\n",
       "75%       68281.000000\n",
       "max      113734.000000\n",
       "Name: Income, dtype: float64"
      ]
     },
     "execution_count": 6,
     "metadata": {},
     "output_type": "execute_result"
    }
   ],
   "source": [
    "data[\"Income\"].describe()"
   ]
  },
  {
   "attachments": {},
   "cell_type": "markdown",
   "metadata": {},
   "source": [
    "Income Category"
   ]
  },
  {
   "cell_type": "code",
   "execution_count": 32,
   "metadata": {},
   "outputs": [],
   "source": [
    "def income_cat(x):\n",
    "        if x[\"Income\"] > 1000 and x[\"Income\"] <= 20000:\n",
    "            return \"within_20K\"\n",
    "        elif x[\"Income\"] > 20000 and x[\"Income\"] <= 50000:\n",
    "            return \"within_21k-50K\"\n",
    "        elif x[\"Income\"] > 50000 and x[\"Income\"] <= 80000:\n",
    "            return \"within_51k-80K\"\n",
    "        elif x[\"Income\"] > 80000 and x[\"Income\"] <= 100000:\n",
    "            return \"within 81k-100k\"\n",
    "        elif x[\"Income\"] > 100000 and x[\"Income\"] <= 120000:\n",
    "            return \"within_101k-120k\"    "
   ]
  },
  {
   "cell_type": "code",
   "execution_count": 33,
   "metadata": {},
   "outputs": [],
   "source": [
    "data[\"Income_cat\"] = data.apply(income_cat,axis=1)"
   ]
  },
  {
   "attachments": {},
   "cell_type": "markdown",
   "metadata": {},
   "source": [
    "Wines category by price"
   ]
  },
  {
   "cell_type": "code",
   "execution_count": 9,
   "metadata": {},
   "outputs": [
    {
     "data": {
      "text/plain": [
       "count    2205.000000\n",
       "mean      306.164626\n",
       "std       337.493839\n",
       "min         0.000000\n",
       "25%        24.000000\n",
       "50%       178.000000\n",
       "75%       507.000000\n",
       "max      1493.000000\n",
       "Name: MntWines, dtype: float64"
      ]
     },
     "execution_count": 9,
     "metadata": {},
     "output_type": "execute_result"
    }
   ],
   "source": [
    "data['MntWines'].describe()"
   ]
  },
  {
   "cell_type": "code",
   "execution_count": 34,
   "metadata": {},
   "outputs": [],
   "source": [
    "def wines_cat(x):\n",
    "    if x['MntWines'] > 0 and x['MntWines'] <= 375:\n",
    "        return \"wines under 375\"\n",
    "    elif x['MntWines'] > 375 and x['MntWines'] <= 750:\n",
    "        return \"wines under 376-750\"\n",
    "    elif x['MntWines'] > 750 and x['MntWines'] <= 1125:\n",
    "        return \"wines under 751-1125\"\n",
    "    elif x['MntWines'] > 1125 and x['MntWines'] <= 1500:\n",
    "        return \"wines under 1126-1500\""
   ]
  },
  {
   "cell_type": "code",
   "execution_count": 35,
   "metadata": {},
   "outputs": [],
   "source": [
    "data[\"wines_caty\"] = data.apply(wines_cat,axis=1)"
   ]
  },
  {
   "cell_type": "code",
   "execution_count": 36,
   "metadata": {},
   "outputs": [
    {
     "data": {
      "application/vnd.plotly.v1+json": {
       "config": {
        "plotlyServerURL": "https://plot.ly"
       },
       "data": [
        {
         "alignmentgroup": "True",
         "bingroup": "x",
         "hovertemplate": "wines_caty=wines under 376-750<br>Income_cat=%{x}<br>count=%{y}<extra></extra>",
         "legendgroup": "wines under 376-750",
         "marker": {
          "color": "#636efa",
          "pattern": {
           "shape": ""
          }
         },
         "name": "wines under 376-750",
         "offsetgroup": "wines under 376-750",
         "orientation": "v",
         "showlegend": true,
         "texttemplate": "%{value}",
         "type": "histogram",
         "x": [
          "within_51k-80K",
          "within_51k-80K",
          "within_51k-80K",
          "within_51k-80K",
          "within 81k-100k",
          "within_51k-80K",
          "within_51k-80K",
          "within_21k-50K",
          "within 81k-100k",
          "within_51k-80K",
          "within 81k-100k",
          "within_51k-80K",
          "within_51k-80K",
          "within_51k-80K",
          "within_51k-80K",
          "within_51k-80K",
          "within_51k-80K",
          "within 81k-100k",
          "within_51k-80K",
          "within_51k-80K",
          "within_51k-80K",
          "within_51k-80K",
          "within_21k-50K",
          "within 81k-100k",
          "within_51k-80K",
          "within 81k-100k",
          "within_51k-80K",
          "within_51k-80K",
          "within 81k-100k",
          "within_21k-50K",
          "within 81k-100k",
          "within_101k-120k",
          "within_51k-80K",
          "within_51k-80K",
          "within_51k-80K",
          "within_51k-80K",
          "within 81k-100k",
          "within_51k-80K",
          "within_51k-80K",
          "within 81k-100k",
          "within_51k-80K",
          "within_51k-80K",
          "within_51k-80K",
          "within 81k-100k",
          "within_51k-80K",
          "within_51k-80K",
          "within_51k-80K",
          "within_21k-50K",
          "within_51k-80K",
          "within_51k-80K",
          "within_51k-80K",
          "within_51k-80K",
          "within_51k-80K",
          "within_51k-80K",
          "within_51k-80K",
          "within_51k-80K",
          "within 81k-100k",
          "within_51k-80K",
          "within_51k-80K",
          "within_51k-80K",
          "within_51k-80K",
          "within_51k-80K",
          "within 81k-100k",
          "within_51k-80K",
          "within_51k-80K",
          "within_51k-80K",
          "within_51k-80K",
          "within_21k-50K",
          "within_51k-80K",
          "within_51k-80K",
          "within_51k-80K",
          "within_51k-80K",
          "within_51k-80K",
          "within_51k-80K",
          "within_51k-80K",
          "within_51k-80K",
          "within_51k-80K",
          "within_51k-80K",
          "within_51k-80K",
          "within_51k-80K",
          "within 81k-100k",
          "within_51k-80K",
          "within_51k-80K",
          "within_51k-80K",
          "within_51k-80K",
          "within_51k-80K",
          "within_51k-80K",
          "within_21k-50K",
          "within 81k-100k",
          "within_51k-80K",
          "within_51k-80K",
          "within_51k-80K",
          "within_51k-80K",
          "within 81k-100k",
          "within_51k-80K",
          "within_51k-80K",
          "within_51k-80K",
          "within 81k-100k",
          "within_51k-80K",
          "within_51k-80K",
          "within 81k-100k",
          "within_21k-50K",
          "within_51k-80K",
          "within_51k-80K",
          "within_51k-80K",
          "within_51k-80K",
          "within 81k-100k",
          "within_51k-80K",
          "within_51k-80K",
          "within_51k-80K",
          "within_51k-80K",
          "within_51k-80K",
          "within_51k-80K",
          "within_51k-80K",
          "within 81k-100k",
          "within_51k-80K",
          "within_51k-80K",
          "within_51k-80K",
          "within_51k-80K",
          "within 81k-100k",
          "within_51k-80K",
          "within_51k-80K",
          "within_51k-80K",
          "within_51k-80K",
          "within_51k-80K",
          "within_51k-80K",
          "within_51k-80K",
          "within_51k-80K",
          "within 81k-100k",
          "within_21k-50K",
          "within_51k-80K",
          "within_51k-80K",
          "within_51k-80K",
          "within 81k-100k",
          "within 81k-100k",
          "within_51k-80K",
          "within_51k-80K",
          "within_51k-80K",
          "within_51k-80K",
          "within_51k-80K",
          "within_51k-80K",
          "within_51k-80K",
          "within_51k-80K",
          "within_51k-80K",
          "within_51k-80K",
          "within_51k-80K",
          "within_51k-80K",
          "within_51k-80K",
          "within_51k-80K",
          "within_21k-50K",
          "within_51k-80K",
          "within_51k-80K",
          "within_51k-80K",
          "within_51k-80K",
          "within_51k-80K",
          "within_51k-80K",
          "within_51k-80K",
          "within 81k-100k",
          "within 81k-100k",
          "within_51k-80K",
          "within_51k-80K",
          "within 81k-100k",
          "within_51k-80K",
          "within_51k-80K",
          "within_51k-80K",
          "within_51k-80K",
          "within_51k-80K",
          "within_21k-50K",
          "within_51k-80K",
          "within_51k-80K",
          "within_51k-80K",
          "within_51k-80K",
          "within_51k-80K",
          "within_51k-80K",
          "within_51k-80K",
          "within 81k-100k",
          "within_21k-50K",
          "within_51k-80K",
          "within_51k-80K",
          "within_51k-80K",
          "within 81k-100k",
          "within_51k-80K",
          "within_51k-80K",
          "within_51k-80K",
          "within_51k-80K",
          "within 81k-100k",
          "within_51k-80K",
          "within 81k-100k",
          "within_51k-80K",
          "within_51k-80K",
          "within_51k-80K",
          "within 81k-100k",
          "within_21k-50K",
          "within 81k-100k",
          "within_51k-80K",
          "within_51k-80K",
          "within_21k-50K",
          "within 81k-100k",
          "within_21k-50K",
          "within 81k-100k",
          "within 81k-100k",
          "within_51k-80K",
          "within_51k-80K",
          "within_51k-80K",
          "within_51k-80K",
          "within_51k-80K",
          "within_51k-80K",
          "within_51k-80K",
          "within_51k-80K",
          "within_51k-80K",
          "within_51k-80K",
          "within_51k-80K",
          "within 81k-100k",
          "within 81k-100k",
          "within_51k-80K",
          "within_51k-80K",
          "within 81k-100k",
          "within_21k-50K",
          "within_51k-80K",
          "within_51k-80K",
          "within_51k-80K",
          "within_51k-80K",
          "within 81k-100k",
          "within_51k-80K",
          "within_51k-80K",
          "within_51k-80K",
          "within_21k-50K",
          "within_51k-80K",
          "within_51k-80K",
          "within_51k-80K",
          "within_51k-80K",
          "within 81k-100k",
          "within_51k-80K",
          "within_51k-80K",
          "within_51k-80K",
          "within_51k-80K",
          "within_51k-80K",
          "within_51k-80K",
          "within_51k-80K",
          "within_51k-80K",
          "within_51k-80K",
          "within 81k-100k",
          "within_21k-50K",
          "within_51k-80K",
          "within 81k-100k",
          "within 81k-100k",
          "within_51k-80K",
          "within_51k-80K",
          "within_51k-80K",
          "within_51k-80K",
          "within_51k-80K",
          "within_51k-80K",
          "within_51k-80K",
          "within_51k-80K",
          "within_51k-80K",
          "within_51k-80K",
          "within_51k-80K",
          "within 81k-100k",
          "within_51k-80K",
          "within_51k-80K",
          "within_51k-80K",
          "within_51k-80K",
          "within_51k-80K",
          "within_51k-80K",
          "within_51k-80K",
          "within_51k-80K",
          "within 81k-100k",
          "within_51k-80K",
          "within_51k-80K",
          "within_51k-80K",
          "within_21k-50K",
          "within_51k-80K",
          "within_51k-80K",
          "within_51k-80K",
          "within_51k-80K",
          "within_51k-80K",
          "within_51k-80K",
          "within_51k-80K",
          "within_51k-80K",
          "within_51k-80K",
          "within 81k-100k",
          "within_51k-80K",
          "within 81k-100k",
          "within_51k-80K",
          "within_51k-80K",
          "within_51k-80K",
          "within_51k-80K",
          "within_51k-80K",
          "within_51k-80K",
          "within_51k-80K",
          "within_51k-80K",
          "within_51k-80K",
          "within_21k-50K",
          "within_51k-80K",
          "within 81k-100k",
          "within 81k-100k",
          "within_51k-80K",
          "within_51k-80K",
          "within_51k-80K",
          "within_51k-80K",
          "within_51k-80K",
          "within_51k-80K",
          "within_51k-80K",
          "within_21k-50K",
          "within_51k-80K",
          "within_51k-80K",
          "within_51k-80K",
          "within_51k-80K",
          "within_51k-80K",
          "within_51k-80K",
          "within_51k-80K",
          "within_51k-80K",
          "within_51k-80K",
          "within_51k-80K",
          "within 81k-100k",
          "within_51k-80K",
          "within_51k-80K",
          "within_51k-80K",
          "within_51k-80K",
          "within_51k-80K",
          "within_51k-80K",
          "within_51k-80K",
          "within_51k-80K",
          "within_51k-80K",
          "within_51k-80K",
          "within_21k-50K",
          "within_51k-80K",
          "within_51k-80K",
          "within_51k-80K",
          "within_51k-80K",
          "within_51k-80K",
          "within_51k-80K",
          "within_51k-80K",
          "within_51k-80K",
          "within_51k-80K",
          "within_21k-50K",
          "within_51k-80K",
          "within_51k-80K",
          "within_51k-80K",
          "within_51k-80K",
          "within_51k-80K",
          "within_51k-80K",
          "within_51k-80K",
          "within 81k-100k",
          "within_51k-80K",
          "within_51k-80K",
          "within_51k-80K",
          "within_51k-80K",
          "within_51k-80K",
          "within_51k-80K",
          "within 81k-100k",
          "within_21k-50K",
          "within_51k-80K",
          "within 81k-100k",
          "within_51k-80K",
          "within_51k-80K",
          "within_51k-80K",
          "within_51k-80K",
          "within_51k-80K",
          "within 81k-100k",
          "within_51k-80K",
          "within_51k-80K",
          "within 81k-100k",
          "within_51k-80K",
          "within_51k-80K",
          "within_51k-80K",
          "within_51k-80K",
          "within_51k-80K",
          "within_51k-80K",
          "within 81k-100k",
          "within_51k-80K",
          "within_21k-50K",
          "within_51k-80K",
          "within_51k-80K",
          "within 81k-100k",
          "within_51k-80K",
          "within_51k-80K",
          "within_51k-80K",
          "within_51k-80K",
          "within_51k-80K",
          "within_51k-80K",
          "within_51k-80K",
          "within_51k-80K",
          "within_51k-80K",
          "within 81k-100k",
          "within_51k-80K",
          "within_51k-80K",
          "within_51k-80K",
          "within 81k-100k",
          "within_51k-80K",
          "within 81k-100k",
          "within_51k-80K",
          "within_51k-80K",
          "within_51k-80K",
          "within_51k-80K",
          "within_51k-80K",
          "within_51k-80K",
          "within_51k-80K",
          "within_51k-80K",
          "within_51k-80K",
          "within 81k-100k",
          "within_51k-80K",
          "within_51k-80K",
          "within_51k-80K",
          "within_51k-80K",
          "within 81k-100k",
          "within 81k-100k",
          "within_51k-80K",
          "within_51k-80K",
          "within_51k-80K",
          "within 81k-100k",
          "within_51k-80K",
          "within 81k-100k",
          "within_51k-80K",
          "within_51k-80K",
          "within_51k-80K",
          "within_51k-80K",
          "within_51k-80K",
          "within_51k-80K",
          "within 81k-100k",
          "within_51k-80K",
          "within_51k-80K",
          "within_51k-80K",
          "within_51k-80K",
          "within_21k-50K",
          "within_51k-80K",
          "within_51k-80K",
          "within_51k-80K",
          "within 81k-100k",
          "within_51k-80K",
          "within_51k-80K",
          "within 81k-100k",
          "within_51k-80K",
          "within_51k-80K",
          "within_51k-80K",
          "within_51k-80K",
          "within_51k-80K",
          "within_51k-80K",
          "within_51k-80K",
          "within_51k-80K",
          "within_51k-80K",
          "within_21k-50K",
          "within_51k-80K",
          "within_21k-50K",
          "within_51k-80K",
          "within_51k-80K",
          "within_51k-80K",
          "within_51k-80K",
          "within_51k-80K",
          "within_51k-80K",
          "within_51k-80K",
          "within 81k-100k",
          "within_51k-80K",
          "within_51k-80K",
          "within_51k-80K",
          "within 81k-100k",
          "within_21k-50K",
          "within_51k-80K",
          "within_51k-80K",
          "within 81k-100k",
          "within 81k-100k",
          "within 81k-100k",
          "within 81k-100k",
          "within 81k-100k",
          "within_51k-80K",
          "within_51k-80K",
          "within_51k-80K",
          "within_51k-80K",
          "within_51k-80K",
          "within_51k-80K"
         ],
         "xaxis": "x",
         "yaxis": "y"
        },
        {
         "alignmentgroup": "True",
         "bingroup": "x",
         "hovertemplate": "wines_caty=wines under 375<br>Income_cat=%{x}<br>count=%{y}<extra></extra>",
         "legendgroup": "wines under 375",
         "marker": {
          "color": "#EF553B",
          "pattern": {
           "shape": ""
          }
         },
         "name": "wines under 375",
         "offsetgroup": "wines under 375",
         "orientation": "v",
         "showlegend": true,
         "texttemplate": "%{value}",
         "type": "histogram",
         "x": [
          "within_21k-50K",
          "within_21k-50K",
          "within_51k-80K",
          "within_51k-80K",
          "within_21k-50K",
          "within_21k-50K",
          "within_20K",
          "within_20K",
          "within_51k-80K",
          "within_51k-80K",
          "within_20K",
          "within_21k-50K",
          "within_21k-50K",
          "within_21k-50K",
          "within_21k-50K",
          "within_20K",
          "within_21k-50K",
          "within_20K",
          "within_51k-80K",
          "within_21k-50K",
          "within_20K",
          "within_21k-50K",
          "within_21k-50K",
          "within_21k-50K",
          "within_21k-50K",
          "within_21k-50K",
          "within_21k-50K",
          "within_21k-50K",
          "within_21k-50K",
          "within_20K",
          "within_51k-80K",
          "within_20K",
          "within_21k-50K",
          "within_51k-80K",
          "within_21k-50K",
          "within_51k-80K",
          "within_51k-80K",
          "within_21k-50K",
          "within_21k-50K",
          "within_21k-50K",
          "within_51k-80K",
          "within_51k-80K",
          "within_21k-50K",
          "within_21k-50K",
          "within_21k-50K",
          "within_21k-50K",
          "within_21k-50K",
          "within_21k-50K",
          "within_21k-50K",
          "within 81k-100k",
          "within_21k-50K",
          "within_21k-50K",
          "within_51k-80K",
          "within_51k-80K",
          "within_51k-80K",
          "within_21k-50K",
          "within_21k-50K",
          "within_21k-50K",
          "within_51k-80K",
          "within_51k-80K",
          "within_51k-80K",
          "within_21k-50K",
          "within_21k-50K",
          "within 81k-100k",
          "within_21k-50K",
          "within_21k-50K",
          "within_51k-80K",
          "within_21k-50K",
          "within_51k-80K",
          "within_21k-50K",
          "within_21k-50K",
          "within_21k-50K",
          "within_51k-80K",
          "within_21k-50K",
          "within_20K",
          "within_21k-50K",
          "within_51k-80K",
          "within_51k-80K",
          "within_51k-80K",
          "within_51k-80K",
          "within_21k-50K",
          "within_21k-50K",
          "within_21k-50K",
          "within_21k-50K",
          "within_21k-50K",
          "within_21k-50K",
          "within_21k-50K",
          "within_21k-50K",
          "within_21k-50K",
          "within_51k-80K",
          "within_51k-80K",
          "within_21k-50K",
          "within_21k-50K",
          "within_21k-50K",
          "within_51k-80K",
          "within_51k-80K",
          "within_21k-50K",
          "within_21k-50K",
          "within_21k-50K",
          "within_51k-80K",
          "within_51k-80K",
          "within_51k-80K",
          "within_21k-50K",
          "within_21k-50K",
          "within_21k-50K",
          "within_51k-80K",
          "within_51k-80K",
          "within_51k-80K",
          "within_21k-50K",
          "within_21k-50K",
          "within_51k-80K",
          "within_51k-80K",
          "within_20K",
          "within_21k-50K",
          "within_21k-50K",
          "within_21k-50K",
          "within_21k-50K",
          "within_51k-80K",
          "within_21k-50K",
          "within_21k-50K",
          "within_21k-50K",
          "within_51k-80K",
          "within_21k-50K",
          "within 81k-100k",
          "within_21k-50K",
          "within_51k-80K",
          "within_21k-50K",
          "within_20K",
          "within_21k-50K",
          "within_21k-50K",
          "within_21k-50K",
          "within_21k-50K",
          "within_21k-50K",
          "within_51k-80K",
          "within_21k-50K",
          "within_51k-80K",
          "within_21k-50K",
          "within_21k-50K",
          "within_21k-50K",
          "within_21k-50K",
          "within_51k-80K",
          "within_21k-50K",
          "within_21k-50K",
          "within_21k-50K",
          "within_21k-50K",
          "within_21k-50K",
          "within_20K",
          "within_21k-50K",
          "within_21k-50K",
          "within_21k-50K",
          "within_21k-50K",
          "within_101k-120k",
          "within_21k-50K",
          "within_21k-50K",
          "within_21k-50K",
          "within_20K",
          "within_21k-50K",
          "within_20K",
          "within_21k-50K",
          "within_21k-50K",
          "within_21k-50K",
          "within_21k-50K",
          "within_21k-50K",
          "within_51k-80K",
          "within_21k-50K",
          "within_21k-50K",
          "within_51k-80K",
          "within_21k-50K",
          "within_21k-50K",
          "within_51k-80K",
          "within_51k-80K",
          "within_51k-80K",
          "within_21k-50K",
          "within_51k-80K",
          "within_21k-50K",
          "within_51k-80K",
          "within_21k-50K",
          "within_21k-50K",
          "within_51k-80K",
          "within_51k-80K",
          "within_21k-50K",
          "within_21k-50K",
          "within_21k-50K",
          "within_20K",
          "within_21k-50K",
          "within_21k-50K",
          "within_21k-50K",
          "within_21k-50K",
          "within_21k-50K",
          "within_21k-50K",
          "within_21k-50K",
          "within_21k-50K",
          "within_21k-50K",
          "within_20K",
          "within_21k-50K",
          "within_51k-80K",
          "within_21k-50K",
          "within_21k-50K",
          "within_51k-80K",
          "within_21k-50K",
          "within_21k-50K",
          "within_21k-50K",
          "within_20K",
          "within_21k-50K",
          "within_51k-80K",
          "within_21k-50K",
          "within_21k-50K",
          "within_21k-50K",
          "within_21k-50K",
          "within_21k-50K",
          "within_51k-80K",
          "within_21k-50K",
          "within_21k-50K",
          "within_21k-50K",
          "within 81k-100k",
          "within_21k-50K",
          "within 81k-100k",
          "within_21k-50K",
          "within_21k-50K",
          "within_21k-50K",
          "within_51k-80K",
          "within_21k-50K",
          "within_21k-50K",
          "within_21k-50K",
          "within_51k-80K",
          "within_51k-80K",
          "within_21k-50K",
          "within_21k-50K",
          "within_21k-50K",
          "within_21k-50K",
          "within_21k-50K",
          "within_21k-50K",
          "within_21k-50K",
          "within_21k-50K",
          "within_21k-50K",
          "within_21k-50K",
          "within_20K",
          "within_21k-50K",
          "within_21k-50K",
          "within_21k-50K",
          "within_20K",
          "within_21k-50K",
          "within_21k-50K",
          "within_51k-80K",
          "within_51k-80K",
          "within_51k-80K",
          "within_21k-50K",
          "within_20K",
          "within_21k-50K",
          "within_20K",
          "within_21k-50K",
          "within_21k-50K",
          "within_21k-50K",
          "within_21k-50K",
          "within_21k-50K",
          "within_51k-80K",
          "within_21k-50K",
          "within_51k-80K",
          "within_21k-50K",
          "within_21k-50K",
          "within_20K",
          "within_21k-50K",
          "within_21k-50K",
          "within_20K",
          "within_21k-50K",
          "within_20K",
          "within_21k-50K",
          "within_21k-50K",
          "within_51k-80K",
          "within_51k-80K",
          "within_21k-50K",
          "within_20K",
          "within_21k-50K",
          "within_51k-80K",
          "within_20K",
          "within_21k-50K",
          "within_21k-50K",
          "within_21k-50K",
          "within_51k-80K",
          "within_21k-50K",
          "within_51k-80K",
          "within_21k-50K",
          "within_21k-50K",
          "within_51k-80K",
          "within_51k-80K",
          "within_51k-80K",
          "within_21k-50K",
          "within_21k-50K",
          "within_51k-80K",
          "within_21k-50K",
          "within_21k-50K",
          "within_21k-50K",
          "within_21k-50K",
          "within_51k-80K",
          "within_21k-50K",
          "within_21k-50K",
          "within_21k-50K",
          "within_21k-50K",
          "within_21k-50K",
          "within_20K",
          "within_21k-50K",
          "within_21k-50K",
          "within_51k-80K",
          "within_51k-80K",
          "within_21k-50K",
          "within_21k-50K",
          "within_21k-50K",
          "within_51k-80K",
          "within_51k-80K",
          "within_21k-50K",
          "within_21k-50K",
          "within_51k-80K",
          "within_21k-50K",
          "within_21k-50K",
          "within_21k-50K",
          "within_21k-50K",
          "within_51k-80K",
          "within_21k-50K",
          "within_21k-50K",
          "within_21k-50K",
          "within_21k-50K",
          "within_51k-80K",
          "within_21k-50K",
          "within_21k-50K",
          "within_51k-80K",
          "within_21k-50K",
          "within_21k-50K",
          "within_21k-50K",
          "within_51k-80K",
          "within_21k-50K",
          "within_21k-50K",
          "within_21k-50K",
          "within_21k-50K",
          "within_51k-80K",
          "within_21k-50K",
          "within_21k-50K",
          "within_20K",
          "within_21k-50K",
          "within_21k-50K",
          "within_21k-50K",
          "within_21k-50K",
          "within 81k-100k",
          "within_21k-50K",
          "within_51k-80K",
          "within_20K",
          "within_21k-50K",
          "within 81k-100k",
          "within_51k-80K",
          "within_21k-50K",
          "within_51k-80K",
          "within_21k-50K",
          "within_21k-50K",
          "within_21k-50K",
          "within_21k-50K",
          "within_21k-50K",
          "within_21k-50K",
          "within_51k-80K",
          "within_21k-50K",
          "within_51k-80K",
          "within_20K",
          "within_21k-50K",
          "within_51k-80K",
          "within_21k-50K",
          "within_21k-50K",
          "within_21k-50K",
          "within_21k-50K",
          "within_21k-50K",
          "within_21k-50K",
          "within_51k-80K",
          "within_21k-50K",
          "within_21k-50K",
          "within_51k-80K",
          "within_21k-50K",
          "within_51k-80K",
          "within_20K",
          "within_21k-50K",
          "within_21k-50K",
          "within_21k-50K",
          "within_21k-50K",
          "within_21k-50K",
          "within_21k-50K",
          "within_21k-50K",
          "within_21k-50K",
          "within_21k-50K",
          "within_21k-50K",
          "within_21k-50K",
          "within_21k-50K",
          "within_20K",
          "within_21k-50K",
          "within_21k-50K",
          "within_21k-50K",
          "within_51k-80K",
          "within_21k-50K",
          "within_51k-80K",
          "within_21k-50K",
          "within_21k-50K",
          "within_20K",
          "within 81k-100k",
          "within_21k-50K",
          "within_21k-50K",
          "within_51k-80K",
          "within_21k-50K",
          "within_21k-50K",
          "within_51k-80K",
          "within_21k-50K",
          "within_21k-50K",
          "within_51k-80K",
          "within_51k-80K",
          "within_21k-50K",
          "within_51k-80K",
          "within_21k-50K",
          "within_51k-80K",
          "within_21k-50K",
          "within_21k-50K",
          "within_20K",
          "within_21k-50K",
          "within_20K",
          "within_20K",
          "within_21k-50K",
          "within_21k-50K",
          "within_21k-50K",
          "within_51k-80K",
          "within_51k-80K",
          "within_51k-80K",
          "within_51k-80K",
          "within_21k-50K",
          "within_51k-80K",
          "within_21k-50K",
          "within_51k-80K",
          "within_21k-50K",
          "within_21k-50K",
          "within_51k-80K",
          "within_51k-80K",
          "within_21k-50K",
          "within_20K",
          "within_21k-50K",
          "within_51k-80K",
          "within_21k-50K",
          "within_21k-50K",
          "within_21k-50K",
          "within_51k-80K",
          "within_51k-80K",
          "within_21k-50K",
          "within_21k-50K",
          "within_21k-50K",
          "within_21k-50K",
          "within_21k-50K",
          "within_51k-80K",
          "within_51k-80K",
          "within 81k-100k",
          "within_21k-50K",
          "within_21k-50K",
          "within_20K",
          "within_20K",
          "within_21k-50K",
          "within_51k-80K",
          "within_51k-80K",
          "within_21k-50K",
          "within_51k-80K",
          "within_51k-80K",
          "within_21k-50K",
          "within_51k-80K",
          "within_21k-50K",
          "within_21k-50K",
          "within_21k-50K",
          "within 81k-100k",
          "within_20K",
          "within_51k-80K",
          "within_21k-50K",
          "within_51k-80K",
          "within_51k-80K",
          "within_21k-50K",
          "within_21k-50K",
          "within_21k-50K",
          "within_51k-80K",
          "within_21k-50K",
          "within_51k-80K",
          "within_21k-50K",
          "within_21k-50K",
          "within_51k-80K",
          "within_51k-80K",
          "within_21k-50K",
          "within_20K",
          "within_21k-50K",
          "within_21k-50K",
          "within_51k-80K",
          "within_21k-50K",
          "within_21k-50K",
          "within_21k-50K",
          "within_21k-50K",
          "within_21k-50K",
          "within_20K",
          "within_21k-50K",
          "within_21k-50K",
          "within_21k-50K",
          "within 81k-100k",
          "within_20K",
          "within_51k-80K",
          "within_21k-50K",
          "within_21k-50K",
          "within_20K",
          "within_51k-80K",
          "within_21k-50K",
          "within_21k-50K",
          "within_51k-80K",
          "within_51k-80K",
          "within_21k-50K",
          "within_21k-50K",
          "within_51k-80K",
          "within_21k-50K",
          "within_21k-50K",
          "within_21k-50K",
          "within_21k-50K",
          "within_21k-50K",
          "within_21k-50K",
          "within_20K",
          "within_51k-80K",
          "within_21k-50K",
          "within_21k-50K",
          "within_21k-50K",
          "within_51k-80K",
          "within_21k-50K",
          "within_21k-50K",
          "within_21k-50K",
          "within_21k-50K",
          "within_21k-50K",
          "within_20K",
          "within 81k-100k",
          "within_21k-50K",
          "within_20K",
          "within_21k-50K",
          "within_21k-50K",
          "within_51k-80K",
          "within_21k-50K",
          "within_51k-80K",
          "within_21k-50K",
          "within_21k-50K",
          "within_21k-50K",
          "within_21k-50K",
          "within_21k-50K",
          "within_51k-80K",
          "within_21k-50K",
          "within_20K",
          "within_51k-80K",
          "within_21k-50K",
          "within_21k-50K",
          "within_21k-50K",
          "within_21k-50K",
          "within_20K",
          "within_21k-50K",
          "within_21k-50K",
          "within_21k-50K",
          "within_51k-80K",
          "within_21k-50K",
          "within_21k-50K",
          "within_51k-80K",
          "within_21k-50K",
          "within_51k-80K",
          "within_51k-80K",
          "within_51k-80K",
          "within_21k-50K",
          "within_21k-50K",
          "within 81k-100k",
          "within_51k-80K",
          "within_51k-80K",
          "within_51k-80K",
          "within_51k-80K",
          "within_21k-50K",
          "within_21k-50K",
          "within_21k-50K",
          "within_21k-50K",
          "within_21k-50K",
          "within_21k-50K",
          "within_51k-80K",
          "within_21k-50K",
          "within_21k-50K",
          "within_21k-50K",
          "within_51k-80K",
          "within_51k-80K",
          "within_21k-50K",
          "within_21k-50K",
          "within_51k-80K",
          "within_21k-50K",
          "within_51k-80K",
          "within_51k-80K",
          "within 81k-100k",
          "within_20K",
          "within_51k-80K",
          "within_51k-80K",
          "within_21k-50K",
          "within_21k-50K",
          "within_51k-80K",
          "within_21k-50K",
          "within_21k-50K",
          "within_21k-50K",
          "within_20K",
          "within_51k-80K",
          "within_51k-80K",
          "within_51k-80K",
          "within_51k-80K",
          "within_21k-50K",
          "within_21k-50K",
          "within_51k-80K",
          "within_51k-80K",
          "within_21k-50K",
          "within_21k-50K",
          "within_21k-50K",
          "within_21k-50K",
          "within_20K",
          "within_51k-80K",
          "within 81k-100k",
          "within_51k-80K",
          "within_21k-50K",
          "within_21k-50K",
          "within_20K",
          "within_21k-50K",
          "within_51k-80K",
          "within_51k-80K",
          "within_21k-50K",
          "within_21k-50K",
          "within_51k-80K",
          "within_51k-80K",
          "within_21k-50K",
          "within_21k-50K",
          "within_21k-50K",
          "within_51k-80K",
          "within_51k-80K",
          "within_21k-50K",
          "within_21k-50K",
          "within_21k-50K",
          "within_20K",
          "within_21k-50K",
          "within_21k-50K",
          "within_21k-50K",
          "within_21k-50K",
          "within_21k-50K",
          "within_51k-80K",
          "within_51k-80K",
          "within_21k-50K",
          "within_21k-50K",
          "within_21k-50K",
          "within_21k-50K",
          "within_21k-50K",
          "within_20K",
          "within_51k-80K",
          "within_21k-50K",
          "within_20K",
          "within_21k-50K",
          "within_21k-50K",
          "within_51k-80K",
          "within_21k-50K",
          "within_21k-50K",
          "within_21k-50K",
          "within_21k-50K",
          "within_21k-50K",
          "within_21k-50K",
          "within_20K",
          "within_51k-80K",
          "within_21k-50K",
          "within_21k-50K",
          "within_21k-50K",
          "within_21k-50K",
          "within_21k-50K",
          "within_21k-50K",
          "within_21k-50K",
          "within_51k-80K",
          "within_21k-50K",
          "within_51k-80K",
          "within_51k-80K",
          "within_21k-50K",
          "within_21k-50K",
          "within_20K",
          "within_21k-50K",
          "within_21k-50K",
          "within_21k-50K",
          "within_21k-50K",
          "within_21k-50K",
          "within_51k-80K",
          "within_21k-50K",
          "within_51k-80K",
          "within_21k-50K",
          "within_21k-50K",
          "within_21k-50K",
          "within 81k-100k",
          "within_21k-50K",
          "within_51k-80K",
          "within_21k-50K",
          "within_51k-80K",
          "within_21k-50K",
          "within_51k-80K",
          "within_51k-80K",
          "within 81k-100k",
          "within_21k-50K",
          "within_51k-80K",
          "within_21k-50K",
          "within_51k-80K",
          "within_21k-50K",
          "within_51k-80K",
          "within_20K",
          "within_51k-80K",
          "within_51k-80K",
          "within_20K",
          "within_21k-50K",
          "within_21k-50K",
          "within_21k-50K",
          "within_21k-50K",
          "within_51k-80K",
          "within_21k-50K",
          "within_21k-50K",
          "within_21k-50K",
          "within_21k-50K",
          "within_20K",
          "within_51k-80K",
          "within_21k-50K",
          "within_21k-50K",
          "within_21k-50K",
          "within_21k-50K",
          "within_20K",
          "within_21k-50K",
          "within_51k-80K",
          "within_21k-50K",
          "within_21k-50K",
          "within_21k-50K",
          "within_21k-50K",
          "within_21k-50K",
          "within_51k-80K",
          "within_21k-50K",
          "within_20K",
          "within_51k-80K",
          "within_21k-50K",
          "within_21k-50K",
          "within_51k-80K",
          "within_51k-80K",
          "within_21k-50K",
          "within 81k-100k",
          "within_21k-50K",
          "within_21k-50K",
          "within_21k-50K",
          "within 81k-100k",
          "within_51k-80K",
          "within_21k-50K",
          "within_21k-50K",
          "within_21k-50K",
          "within_51k-80K",
          "within_21k-50K",
          "within_21k-50K",
          "within_21k-50K",
          "within_20K",
          "within_21k-50K",
          "within_21k-50K",
          "within_21k-50K",
          "within_21k-50K",
          "within_21k-50K",
          "within_51k-80K",
          "within_51k-80K",
          "within_21k-50K",
          "within_21k-50K",
          "within_51k-80K",
          "within_51k-80K",
          "within_51k-80K",
          "within_51k-80K",
          "within_20K",
          "within_51k-80K",
          "within_20K",
          "within_21k-50K",
          "within_21k-50K",
          "within_21k-50K",
          "within_51k-80K",
          "within_51k-80K",
          "within_21k-50K",
          "within_51k-80K",
          "within_21k-50K",
          "within_21k-50K",
          "within_20K",
          "within_21k-50K",
          "within_21k-50K",
          "within_21k-50K",
          "within_21k-50K",
          "within_51k-80K",
          "within_21k-50K",
          "within_21k-50K",
          "within_21k-50K",
          "within_21k-50K",
          "within_21k-50K",
          "within_21k-50K",
          "within_51k-80K",
          "within_51k-80K",
          "within_21k-50K",
          "within_21k-50K",
          "within_21k-50K",
          "within_51k-80K",
          "within_51k-80K",
          "within_21k-50K",
          "within_20K",
          "within_20K",
          "within_21k-50K",
          "within_21k-50K",
          "within_51k-80K",
          "within_51k-80K",
          "within_51k-80K",
          "within_51k-80K",
          "within_21k-50K",
          "within_21k-50K",
          "within_21k-50K",
          "within_21k-50K",
          "within_20K",
          "within_21k-50K",
          "within_21k-50K",
          "within_21k-50K",
          "within_21k-50K",
          "within_21k-50K",
          "within_21k-50K",
          "within_21k-50K",
          "within_21k-50K",
          "within_21k-50K",
          "within_21k-50K",
          "within_21k-50K",
          "within_51k-80K",
          "within_20K",
          "within_21k-50K",
          "within_21k-50K",
          "within_21k-50K",
          "within_21k-50K",
          "within_51k-80K",
          "within_21k-50K",
          "within_20K",
          "within_21k-50K",
          "within_21k-50K",
          "within_51k-80K",
          "within_51k-80K",
          "within_21k-50K",
          "within_51k-80K",
          "within_51k-80K",
          "within_21k-50K",
          "within_21k-50K",
          "within_21k-50K",
          "within_21k-50K",
          "within_21k-50K",
          "within_21k-50K",
          "within_21k-50K",
          "within_20K",
          "within_21k-50K",
          "within_21k-50K",
          "within_20K",
          "within_51k-80K",
          "within_21k-50K",
          "within_21k-50K",
          "within 81k-100k",
          "within_51k-80K",
          "within_51k-80K",
          "within_21k-50K",
          "within_21k-50K",
          "within_21k-50K",
          "within_51k-80K",
          "within_21k-50K",
          "within_20K",
          "within_21k-50K",
          "within_21k-50K",
          "within_21k-50K",
          "within_51k-80K",
          "within_20K",
          "within_51k-80K",
          "within_51k-80K",
          "within_21k-50K",
          "within_51k-80K",
          "within_21k-50K",
          "within_51k-80K",
          "within_20K",
          "within_51k-80K",
          "within_21k-50K",
          "within_21k-50K",
          "within_21k-50K",
          "within_51k-80K",
          "within_51k-80K",
          "within_51k-80K",
          "within_21k-50K",
          "within_21k-50K",
          "within_51k-80K",
          "within_21k-50K",
          "within_51k-80K",
          "within_21k-50K",
          "within_51k-80K",
          "within_21k-50K",
          "within_21k-50K",
          "within_21k-50K",
          "within_51k-80K",
          "within_21k-50K",
          "within_21k-50K",
          "within_21k-50K",
          "within_21k-50K",
          "within_21k-50K",
          "within_21k-50K",
          "within_51k-80K",
          "within_51k-80K",
          "within_21k-50K",
          "within_21k-50K",
          "within_21k-50K",
          "within_21k-50K",
          "within_51k-80K",
          "within_51k-80K",
          "within_21k-50K",
          "within_21k-50K",
          "within_21k-50K",
          "within_51k-80K",
          "within_21k-50K",
          "within_51k-80K",
          "within_21k-50K",
          "within_21k-50K",
          "within_21k-50K",
          "within_51k-80K",
          "within_51k-80K",
          "within_20K",
          "within_21k-50K",
          "within_21k-50K",
          "within_21k-50K",
          "within_21k-50K",
          "within_21k-50K",
          "within_21k-50K",
          "within_21k-50K",
          "within_21k-50K",
          "within_51k-80K",
          "within_21k-50K",
          "within_51k-80K",
          "within_21k-50K",
          "within_21k-50K",
          "within_21k-50K",
          "within_21k-50K",
          "within_21k-50K",
          "within_21k-50K",
          "within_51k-80K",
          "within_21k-50K",
          "within_51k-80K",
          "within_21k-50K",
          "within_21k-50K",
          "within_21k-50K",
          "within_21k-50K",
          "within_21k-50K",
          "within_51k-80K",
          "within_21k-50K",
          "within_20K",
          "within_21k-50K",
          "within_21k-50K",
          "within_21k-50K",
          "within_21k-50K",
          "within_21k-50K",
          "within 81k-100k",
          "within_21k-50K",
          "within_51k-80K",
          "within_21k-50K",
          "within_51k-80K",
          "within_20K",
          "within_20K",
          "within_21k-50K",
          "within_51k-80K",
          "within_21k-50K",
          "within_51k-80K",
          "within_21k-50K",
          "within_51k-80K",
          "within_21k-50K",
          "within_51k-80K",
          "within_21k-50K",
          "within_21k-50K",
          "within_51k-80K",
          "within_21k-50K",
          "within_51k-80K",
          "within_21k-50K",
          "within_21k-50K",
          "within_51k-80K",
          "within_21k-50K",
          "within_21k-50K",
          "within_21k-50K",
          "within_51k-80K",
          "within_21k-50K",
          "within_21k-50K",
          "within_20K",
          "within 81k-100k",
          "within_21k-50K",
          "within_20K",
          "within_51k-80K",
          "within_21k-50K",
          "within_21k-50K",
          "within_21k-50K",
          "within_20K",
          "within_21k-50K",
          "within_51k-80K",
          "within_51k-80K",
          "within_21k-50K",
          "within_21k-50K",
          "within_21k-50K",
          "within_51k-80K",
          "within_21k-50K",
          "within_51k-80K",
          "within_51k-80K",
          "within_51k-80K",
          "within_21k-50K",
          "within_21k-50K",
          "within_21k-50K",
          "within_21k-50K",
          "within_21k-50K",
          "within_21k-50K",
          "within_51k-80K",
          "within_21k-50K",
          "within_21k-50K",
          "within_21k-50K",
          "within_21k-50K",
          "within_21k-50K",
          "within_21k-50K",
          "within_21k-50K",
          "within_21k-50K",
          "within_51k-80K",
          "within_21k-50K",
          "within_51k-80K",
          "within 81k-100k",
          "within_21k-50K",
          "within 81k-100k",
          "within_21k-50K",
          "within_21k-50K",
          "within_51k-80K",
          "within_21k-50K",
          "within_21k-50K",
          "within_51k-80K",
          "within_20K",
          "within_21k-50K",
          "within_51k-80K",
          "within_21k-50K",
          "within_20K",
          "within_21k-50K",
          "within_21k-50K",
          "within_21k-50K",
          "within_21k-50K",
          "within_51k-80K",
          "within_51k-80K",
          "within_51k-80K",
          "within_20K",
          "within_21k-50K",
          "within_21k-50K",
          "within_51k-80K",
          "within_21k-50K",
          "within_51k-80K",
          "within_51k-80K",
          "within_51k-80K",
          "within_20K",
          "within_51k-80K",
          "within_51k-80K",
          "within_51k-80K",
          "within_21k-50K",
          "within_20K",
          "within_21k-50K",
          "within_21k-50K",
          "within_51k-80K",
          "within_21k-50K",
          "within_21k-50K",
          "within_51k-80K",
          "within_21k-50K",
          "within_21k-50K",
          "within_21k-50K",
          "within_51k-80K",
          "within_21k-50K",
          "within_51k-80K",
          "within_21k-50K",
          "within_51k-80K",
          "within_51k-80K",
          "within_51k-80K",
          "within_21k-50K",
          "within_21k-50K",
          "within_21k-50K",
          "within_21k-50K",
          "within_21k-50K",
          "within_51k-80K",
          "within_51k-80K",
          "within_21k-50K",
          "within_21k-50K",
          "within_21k-50K",
          "within_21k-50K",
          "within_21k-50K",
          "within_21k-50K",
          "within_21k-50K",
          "within_21k-50K",
          "within_20K",
          "within_21k-50K",
          "within_21k-50K",
          "within_21k-50K",
          "within_21k-50K",
          "within_21k-50K",
          "within_21k-50K",
          "within_21k-50K",
          "within_20K",
          "within_21k-50K",
          "within_20K",
          "within_51k-80K",
          "within_21k-50K",
          "within_21k-50K",
          "within_21k-50K",
          "within_20K",
          "within_20K",
          "within_21k-50K",
          "within_51k-80K",
          "within_51k-80K",
          "within_51k-80K",
          "within_21k-50K",
          "within 81k-100k",
          "within_20K",
          "within_21k-50K",
          "within_21k-50K",
          "within_21k-50K",
          "within_20K",
          "within_21k-50K",
          "within_20K",
          "within_21k-50K",
          "within_21k-50K",
          "within_21k-50K",
          "within_20K",
          "within_21k-50K",
          "within_51k-80K",
          "within_51k-80K",
          "within_51k-80K",
          "within_21k-50K",
          "within_51k-80K",
          "within_21k-50K",
          "within_21k-50K",
          "within_51k-80K",
          "within 81k-100k",
          "within_21k-50K",
          "within_51k-80K",
          "within_21k-50K",
          "within_21k-50K",
          "within_21k-50K",
          "within_20K",
          "within_21k-50K",
          "within_21k-50K",
          "within_21k-50K",
          "within_51k-80K",
          "within_51k-80K",
          "within_20K",
          "within_51k-80K",
          "within_21k-50K",
          "within_21k-50K",
          "within_51k-80K",
          "within_21k-50K",
          "within_21k-50K",
          "within_21k-50K",
          "within_51k-80K",
          "within_51k-80K",
          "within_21k-50K",
          "within_21k-50K",
          "within_21k-50K",
          "within_21k-50K",
          "within_21k-50K",
          "within_51k-80K",
          "within_21k-50K",
          "within_21k-50K",
          "within_21k-50K",
          "within_21k-50K",
          "within_21k-50K",
          "within_21k-50K",
          "within_21k-50K",
          "within_21k-50K",
          "within_21k-50K",
          "within_51k-80K",
          "within_21k-50K",
          "within_51k-80K",
          "within_51k-80K",
          "within_21k-50K",
          "within_21k-50K",
          "within_20K",
          "within_20K",
          "within 81k-100k",
          "within_21k-50K",
          "within_21k-50K",
          "within_51k-80K",
          "within_21k-50K",
          "within_51k-80K",
          "within_21k-50K",
          "within_21k-50K",
          "within_51k-80K",
          "within_21k-50K",
          "within_51k-80K",
          "within_51k-80K",
          "within_21k-50K",
          "within_21k-50K",
          "within_21k-50K",
          "within_21k-50K",
          "within_51k-80K",
          "within_21k-50K",
          "within 81k-100k",
          "within_21k-50K",
          "within_51k-80K",
          "within_21k-50K",
          "within 81k-100k",
          "within_21k-50K",
          "within_51k-80K",
          "within 81k-100k",
          "within_20K",
          "within_21k-50K",
          "within_21k-50K",
          "within_21k-50K",
          "within_51k-80K",
          "within_51k-80K",
          "within_21k-50K",
          "within_51k-80K",
          "within_51k-80K",
          "within_21k-50K",
          "within_21k-50K",
          "within_21k-50K",
          "within_21k-50K",
          "within_21k-50K",
          "within_21k-50K",
          "within_21k-50K",
          "within_21k-50K",
          "within_21k-50K",
          "within_51k-80K",
          "within_21k-50K",
          "within_51k-80K",
          "within_21k-50K",
          "within_51k-80K",
          "within_21k-50K",
          "within_21k-50K",
          "within_51k-80K",
          "within_21k-50K",
          "within_21k-50K",
          "within_101k-120k",
          "within_21k-50K",
          "within_21k-50K",
          "within_51k-80K",
          "within_21k-50K",
          "within_21k-50K",
          "within_21k-50K",
          "within_21k-50K",
          "within_21k-50K",
          "within_51k-80K",
          "within_20K",
          "within_21k-50K",
          "within_21k-50K",
          "within_21k-50K",
          "within_21k-50K",
          "within_51k-80K",
          "within_21k-50K",
          "within_51k-80K",
          "within_51k-80K",
          "within_51k-80K",
          "within_21k-50K",
          "within_21k-50K",
          "within_51k-80K",
          "within_21k-50K",
          "within_51k-80K",
          "within_21k-50K",
          "within_21k-50K",
          "within_21k-50K",
          "within_21k-50K",
          "within_51k-80K",
          "within_21k-50K",
          "within_51k-80K",
          "within_51k-80K",
          "within 81k-100k",
          "within_21k-50K",
          "within_21k-50K",
          "within_51k-80K",
          "within_51k-80K",
          "within_51k-80K",
          "within_21k-50K",
          "within_21k-50K",
          "within_51k-80K",
          "within_21k-50K",
          "within_21k-50K",
          "within_21k-50K",
          "within_21k-50K",
          "within_21k-50K",
          "within_21k-50K",
          "within_51k-80K",
          "within_20K",
          "within_21k-50K",
          "within_21k-50K",
          "within_21k-50K",
          "within_21k-50K",
          "within_21k-50K",
          "within_21k-50K",
          "within_51k-80K",
          "within_51k-80K",
          "within_21k-50K",
          "within_51k-80K",
          "within_51k-80K",
          "within_21k-50K",
          "within_51k-80K",
          "within_21k-50K",
          "within_20K",
          "within_51k-80K",
          "within_21k-50K",
          "within_51k-80K",
          "within_21k-50K",
          "within_21k-50K",
          "within_21k-50K",
          "within_21k-50K",
          "within_21k-50K",
          "within_21k-50K",
          "within_21k-50K",
          "within_51k-80K",
          "within_21k-50K",
          "within_21k-50K",
          "within_21k-50K",
          "within_21k-50K",
          "within_21k-50K",
          "within_21k-50K",
          "within_21k-50K",
          "within_21k-50K",
          "within_21k-50K",
          "within_21k-50K",
          "within_21k-50K",
          "within_21k-50K",
          "within_21k-50K",
          "within_20K",
          "within_51k-80K",
          "within_20K",
          "within_21k-50K",
          "within_51k-80K",
          "within_51k-80K",
          "within_21k-50K",
          "within_21k-50K",
          "within_21k-50K",
          "within_21k-50K",
          "within_21k-50K",
          "within_21k-50K",
          "within_51k-80K",
          "within_21k-50K",
          "within_51k-80K",
          "within_21k-50K",
          "within_21k-50K",
          "within_21k-50K",
          "within_21k-50K",
          "within_21k-50K",
          "within_21k-50K",
          "within_21k-50K",
          "within_21k-50K",
          "within_51k-80K",
          "within_21k-50K",
          "within_21k-50K",
          "within_51k-80K",
          "within_21k-50K",
          "within_21k-50K",
          "within_21k-50K",
          "within_51k-80K",
          "within 81k-100k",
          "within_21k-50K",
          "within_21k-50K",
          "within_51k-80K",
          "within_51k-80K",
          "within_21k-50K",
          "within 81k-100k",
          "within_51k-80K",
          "within_51k-80K",
          "within_20K",
          "within_20K",
          "within_21k-50K",
          "within_51k-80K",
          "within_51k-80K",
          "within_21k-50K",
          "within_51k-80K",
          "within_21k-50K",
          "within_21k-50K",
          "within_21k-50K",
          "within_21k-50K",
          "within_21k-50K",
          "within_21k-50K",
          "within_21k-50K",
          "within_51k-80K",
          "within_51k-80K",
          "within_51k-80K",
          "within_21k-50K",
          "within_21k-50K",
          "within_20K",
          "within_51k-80K",
          "within_51k-80K",
          "within_21k-50K",
          "within_21k-50K",
          "within_51k-80K",
          "within_21k-50K",
          "within_20K",
          "within_21k-50K",
          "within_21k-50K",
          "within_21k-50K",
          "within_21k-50K",
          "within_21k-50K",
          "within_51k-80K",
          "within_21k-50K",
          "within_21k-50K",
          "within_20K",
          "within_21k-50K",
          "within_21k-50K",
          "within_21k-50K",
          "within_21k-50K",
          "within_21k-50K",
          "within_51k-80K",
          "within_51k-80K",
          "within_21k-50K",
          "within_20K",
          "within_21k-50K",
          "within 81k-100k",
          "within_21k-50K",
          "within_51k-80K",
          "within_21k-50K",
          "within_51k-80K",
          "within_21k-50K",
          "within_21k-50K",
          "within_21k-50K",
          "within_21k-50K",
          "within_51k-80K",
          "within_51k-80K",
          "within_21k-50K",
          "within_21k-50K",
          "within_21k-50K",
          "within_20K",
          "within_21k-50K",
          "within_51k-80K",
          "within_51k-80K",
          "within_21k-50K",
          "within_20K",
          "within_51k-80K",
          "within_21k-50K",
          "within_51k-80K",
          "within_20K",
          "within_21k-50K",
          "within_51k-80K",
          "within_21k-50K",
          "within_20K",
          "within_21k-50K",
          "within_21k-50K",
          "within_21k-50K",
          "within_20K",
          "within_21k-50K",
          "within_21k-50K",
          "within 81k-100k",
          "within_21k-50K",
          "within_21k-50K",
          "within_51k-80K",
          "within_20K",
          "within_21k-50K",
          "within_51k-80K",
          "within_51k-80K",
          "within_21k-50K",
          "within_20K",
          "within_21k-50K",
          "within_21k-50K",
          "within_51k-80K"
         ],
         "xaxis": "x",
         "yaxis": "y"
        },
        {
         "alignmentgroup": "True",
         "bingroup": "x",
         "hovertemplate": "wines_caty=wines under 751-1125<br>Income_cat=%{x}<br>count=%{y}<extra></extra>",
         "legendgroup": "wines under 751-1125",
         "marker": {
          "color": "#00cc96",
          "pattern": {
           "shape": ""
          }
         },
         "name": "wines under 751-1125",
         "offsetgroup": "wines under 751-1125",
         "orientation": "v",
         "showlegend": true,
         "texttemplate": "%{value}",
         "type": "histogram",
         "x": [
          "within 81k-100k",
          "within_51k-80K",
          "within_51k-80K",
          "within_51k-80K",
          "within 81k-100k",
          "within_51k-80K",
          "within_51k-80K",
          "within_51k-80K",
          "within 81k-100k",
          "within_51k-80K",
          "within_51k-80K",
          "within_51k-80K",
          "within 81k-100k",
          "within_51k-80K",
          "within_101k-120k",
          "within 81k-100k",
          "within_51k-80K",
          "within_51k-80K",
          "within_51k-80K",
          "within_51k-80K",
          "within 81k-100k",
          "within_51k-80K",
          "within_51k-80K",
          "within_51k-80K",
          "within_51k-80K",
          "within_51k-80K",
          "within_51k-80K",
          "within_51k-80K",
          "within 81k-100k",
          "within_51k-80K",
          "within_51k-80K",
          "within_51k-80K",
          "within_51k-80K",
          "within_51k-80K",
          "within 81k-100k",
          "within_51k-80K",
          "within_51k-80K",
          "within_51k-80K",
          "within_51k-80K",
          "within_51k-80K",
          "within_51k-80K",
          "within 81k-100k",
          "within_51k-80K",
          "within 81k-100k",
          "within 81k-100k",
          "within 81k-100k",
          "within_51k-80K",
          "within_51k-80K",
          "within_51k-80K",
          "within_51k-80K",
          "within_51k-80K",
          "within 81k-100k",
          "within_51k-80K",
          "within_51k-80K",
          "within_51k-80K",
          "within_51k-80K",
          "within_51k-80K",
          "within 81k-100k",
          "within_51k-80K",
          "within_51k-80K",
          "within_51k-80K",
          "within_101k-120k",
          "within 81k-100k",
          "within_51k-80K",
          "within_51k-80K",
          "within 81k-100k",
          "within 81k-100k",
          "within_51k-80K",
          "within_51k-80K",
          "within_51k-80K",
          "within_51k-80K",
          "within 81k-100k",
          "within_51k-80K",
          "within 81k-100k",
          "within_51k-80K",
          "within_51k-80K",
          "within_51k-80K",
          "within_21k-50K",
          "within_51k-80K",
          "within_51k-80K",
          "within 81k-100k",
          "within 81k-100k",
          "within 81k-100k",
          "within 81k-100k",
          "within_51k-80K",
          "within_51k-80K",
          "within_51k-80K",
          "within_51k-80K",
          "within 81k-100k",
          "within_51k-80K",
          "within 81k-100k",
          "within_51k-80K",
          "within_51k-80K",
          "within_51k-80K",
          "within 81k-100k",
          "within 81k-100k",
          "within 81k-100k",
          "within_51k-80K",
          "within 81k-100k",
          "within_51k-80K",
          "within_51k-80K",
          "within_51k-80K",
          "within 81k-100k",
          "within 81k-100k",
          "within_51k-80K",
          "within 81k-100k",
          "within 81k-100k",
          "within_51k-80K",
          "within 81k-100k",
          "within 81k-100k",
          "within_51k-80K",
          "within_51k-80K",
          "within_51k-80K",
          "within 81k-100k",
          "within_51k-80K",
          "within_51k-80K",
          "within_51k-80K",
          "within_51k-80K",
          "within_51k-80K",
          "within_51k-80K",
          "within_51k-80K",
          "within 81k-100k",
          "within_51k-80K",
          "within_51k-80K",
          "within_51k-80K",
          "within 81k-100k",
          "within 81k-100k",
          "within_51k-80K",
          "within_51k-80K",
          "within_51k-80K",
          "within 81k-100k",
          "within 81k-100k",
          "within_51k-80K",
          "within_51k-80K",
          "within 81k-100k",
          "within 81k-100k",
          "within_51k-80K",
          "within_51k-80K",
          "within_51k-80K",
          "within 81k-100k",
          "within_51k-80K",
          "within_51k-80K",
          "within 81k-100k",
          "within 81k-100k",
          "within_51k-80K",
          "within_51k-80K",
          "within_51k-80K",
          "within_51k-80K",
          "within_51k-80K",
          "within_51k-80K",
          "within_51k-80K",
          "within 81k-100k",
          "within_51k-80K",
          "within_51k-80K",
          "within_51k-80K",
          "within_51k-80K",
          "within 81k-100k",
          "within_51k-80K",
          "within 81k-100k",
          "within_51k-80K",
          "within_51k-80K",
          "within_51k-80K",
          "within 81k-100k",
          "within_51k-80K",
          "within_51k-80K",
          "within_51k-80K",
          "within 81k-100k",
          "within_51k-80K",
          "within 81k-100k",
          "within 81k-100k",
          "within_51k-80K",
          "within_51k-80K",
          "within_51k-80K",
          "within_51k-80K",
          "within_51k-80K",
          "within_21k-50K",
          "within_51k-80K",
          "within_51k-80K",
          "within_51k-80K",
          "within 81k-100k",
          "within_51k-80K",
          "within_51k-80K",
          "within 81k-100k",
          "within 81k-100k",
          "within_51k-80K",
          "within 81k-100k",
          "within_51k-80K",
          "within_51k-80K",
          "within_51k-80K",
          "within_51k-80K",
          "within 81k-100k",
          "within 81k-100k",
          "within_51k-80K",
          "within 81k-100k",
          "within 81k-100k",
          "within_51k-80K",
          "within_51k-80K",
          "within_51k-80K",
          "within_51k-80K",
          "within_51k-80K",
          "within_51k-80K",
          "within_51k-80K",
          "within_51k-80K",
          "within_51k-80K",
          "within_51k-80K",
          "within 81k-100k",
          "within_51k-80K",
          "within 81k-100k",
          "within_51k-80K",
          "within_51k-80K",
          "within_51k-80K",
          "within_51k-80K",
          "within_51k-80K",
          "within_51k-80K",
          "within_51k-80K",
          "within_21k-50K",
          "within_51k-80K"
         ],
         "xaxis": "x",
         "yaxis": "y"
        },
        {
         "alignmentgroup": "True",
         "bingroup": "x",
         "hovertemplate": "wines_caty=wines under 1126-1500<br>Income_cat=%{x}<br>count=%{y}<extra></extra>",
         "legendgroup": "wines under 1126-1500",
         "marker": {
          "color": "#ab63fa",
          "pattern": {
           "shape": ""
          }
         },
         "name": "wines under 1126-1500",
         "offsetgroup": "wines under 1126-1500",
         "orientation": "v",
         "showlegend": true,
         "texttemplate": "%{value}",
         "type": "histogram",
         "x": [
          "within_51k-80K",
          "within_51k-80K",
          "within 81k-100k",
          "within_51k-80K",
          "within 81k-100k",
          "within_51k-80K",
          "within_51k-80K",
          "within 81k-100k",
          "within 81k-100k",
          "within_51k-80K",
          "within_51k-80K",
          "within_51k-80K",
          "within 81k-100k",
          "within 81k-100k",
          "within_51k-80K",
          "within 81k-100k",
          "within 81k-100k",
          "within_51k-80K",
          "within_51k-80K",
          "within_51k-80K",
          "within 81k-100k",
          "within 81k-100k",
          "within 81k-100k",
          "within 81k-100k",
          "within_51k-80K",
          "within 81k-100k",
          "within_51k-80K",
          "within_51k-80K",
          "within 81k-100k",
          "within_51k-80K",
          "within 81k-100k",
          "within 81k-100k",
          "within_51k-80K",
          "within_51k-80K",
          "within_51k-80K",
          "within_51k-80K",
          "within 81k-100k",
          "within_51k-80K",
          "within_51k-80K",
          "within_51k-80K",
          "within 81k-100k",
          "within_51k-80K",
          "within 81k-100k",
          "within 81k-100k",
          "within_51k-80K",
          "within 81k-100k",
          "within_21k-50K",
          "within_51k-80K",
          "within 81k-100k",
          "within 81k-100k",
          "within_51k-80K",
          "within_51k-80K",
          "within 81k-100k",
          "within 81k-100k",
          "within_51k-80K",
          "within 81k-100k",
          "within_51k-80K",
          "within_51k-80K",
          "within_51k-80K",
          "within 81k-100k",
          "within_51k-80K",
          "within 81k-100k",
          "within 81k-100k"
         ],
         "xaxis": "x",
         "yaxis": "y"
        }
       ],
       "layout": {
        "barmode": "group",
        "legend": {
         "title": {
          "text": "wines_caty"
         },
         "tracegroupgap": 0
        },
        "margin": {
         "t": 60
        },
        "template": {
         "data": {
          "bar": [
           {
            "error_x": {
             "color": "#2a3f5f"
            },
            "error_y": {
             "color": "#2a3f5f"
            },
            "marker": {
             "line": {
              "color": "#E5ECF6",
              "width": 0.5
             },
             "pattern": {
              "fillmode": "overlay",
              "size": 10,
              "solidity": 0.2
             }
            },
            "type": "bar"
           }
          ],
          "barpolar": [
           {
            "marker": {
             "line": {
              "color": "#E5ECF6",
              "width": 0.5
             },
             "pattern": {
              "fillmode": "overlay",
              "size": 10,
              "solidity": 0.2
             }
            },
            "type": "barpolar"
           }
          ],
          "carpet": [
           {
            "aaxis": {
             "endlinecolor": "#2a3f5f",
             "gridcolor": "white",
             "linecolor": "white",
             "minorgridcolor": "white",
             "startlinecolor": "#2a3f5f"
            },
            "baxis": {
             "endlinecolor": "#2a3f5f",
             "gridcolor": "white",
             "linecolor": "white",
             "minorgridcolor": "white",
             "startlinecolor": "#2a3f5f"
            },
            "type": "carpet"
           }
          ],
          "choropleth": [
           {
            "colorbar": {
             "outlinewidth": 0,
             "ticks": ""
            },
            "type": "choropleth"
           }
          ],
          "contour": [
           {
            "colorbar": {
             "outlinewidth": 0,
             "ticks": ""
            },
            "colorscale": [
             [
              0,
              "#0d0887"
             ],
             [
              0.1111111111111111,
              "#46039f"
             ],
             [
              0.2222222222222222,
              "#7201a8"
             ],
             [
              0.3333333333333333,
              "#9c179e"
             ],
             [
              0.4444444444444444,
              "#bd3786"
             ],
             [
              0.5555555555555556,
              "#d8576b"
             ],
             [
              0.6666666666666666,
              "#ed7953"
             ],
             [
              0.7777777777777778,
              "#fb9f3a"
             ],
             [
              0.8888888888888888,
              "#fdca26"
             ],
             [
              1,
              "#f0f921"
             ]
            ],
            "type": "contour"
           }
          ],
          "contourcarpet": [
           {
            "colorbar": {
             "outlinewidth": 0,
             "ticks": ""
            },
            "type": "contourcarpet"
           }
          ],
          "heatmap": [
           {
            "colorbar": {
             "outlinewidth": 0,
             "ticks": ""
            },
            "colorscale": [
             [
              0,
              "#0d0887"
             ],
             [
              0.1111111111111111,
              "#46039f"
             ],
             [
              0.2222222222222222,
              "#7201a8"
             ],
             [
              0.3333333333333333,
              "#9c179e"
             ],
             [
              0.4444444444444444,
              "#bd3786"
             ],
             [
              0.5555555555555556,
              "#d8576b"
             ],
             [
              0.6666666666666666,
              "#ed7953"
             ],
             [
              0.7777777777777778,
              "#fb9f3a"
             ],
             [
              0.8888888888888888,
              "#fdca26"
             ],
             [
              1,
              "#f0f921"
             ]
            ],
            "type": "heatmap"
           }
          ],
          "heatmapgl": [
           {
            "colorbar": {
             "outlinewidth": 0,
             "ticks": ""
            },
            "colorscale": [
             [
              0,
              "#0d0887"
             ],
             [
              0.1111111111111111,
              "#46039f"
             ],
             [
              0.2222222222222222,
              "#7201a8"
             ],
             [
              0.3333333333333333,
              "#9c179e"
             ],
             [
              0.4444444444444444,
              "#bd3786"
             ],
             [
              0.5555555555555556,
              "#d8576b"
             ],
             [
              0.6666666666666666,
              "#ed7953"
             ],
             [
              0.7777777777777778,
              "#fb9f3a"
             ],
             [
              0.8888888888888888,
              "#fdca26"
             ],
             [
              1,
              "#f0f921"
             ]
            ],
            "type": "heatmapgl"
           }
          ],
          "histogram": [
           {
            "marker": {
             "pattern": {
              "fillmode": "overlay",
              "size": 10,
              "solidity": 0.2
             }
            },
            "type": "histogram"
           }
          ],
          "histogram2d": [
           {
            "colorbar": {
             "outlinewidth": 0,
             "ticks": ""
            },
            "colorscale": [
             [
              0,
              "#0d0887"
             ],
             [
              0.1111111111111111,
              "#46039f"
             ],
             [
              0.2222222222222222,
              "#7201a8"
             ],
             [
              0.3333333333333333,
              "#9c179e"
             ],
             [
              0.4444444444444444,
              "#bd3786"
             ],
             [
              0.5555555555555556,
              "#d8576b"
             ],
             [
              0.6666666666666666,
              "#ed7953"
             ],
             [
              0.7777777777777778,
              "#fb9f3a"
             ],
             [
              0.8888888888888888,
              "#fdca26"
             ],
             [
              1,
              "#f0f921"
             ]
            ],
            "type": "histogram2d"
           }
          ],
          "histogram2dcontour": [
           {
            "colorbar": {
             "outlinewidth": 0,
             "ticks": ""
            },
            "colorscale": [
             [
              0,
              "#0d0887"
             ],
             [
              0.1111111111111111,
              "#46039f"
             ],
             [
              0.2222222222222222,
              "#7201a8"
             ],
             [
              0.3333333333333333,
              "#9c179e"
             ],
             [
              0.4444444444444444,
              "#bd3786"
             ],
             [
              0.5555555555555556,
              "#d8576b"
             ],
             [
              0.6666666666666666,
              "#ed7953"
             ],
             [
              0.7777777777777778,
              "#fb9f3a"
             ],
             [
              0.8888888888888888,
              "#fdca26"
             ],
             [
              1,
              "#f0f921"
             ]
            ],
            "type": "histogram2dcontour"
           }
          ],
          "mesh3d": [
           {
            "colorbar": {
             "outlinewidth": 0,
             "ticks": ""
            },
            "type": "mesh3d"
           }
          ],
          "parcoords": [
           {
            "line": {
             "colorbar": {
              "outlinewidth": 0,
              "ticks": ""
             }
            },
            "type": "parcoords"
           }
          ],
          "pie": [
           {
            "automargin": true,
            "type": "pie"
           }
          ],
          "scatter": [
           {
            "fillpattern": {
             "fillmode": "overlay",
             "size": 10,
             "solidity": 0.2
            },
            "type": "scatter"
           }
          ],
          "scatter3d": [
           {
            "line": {
             "colorbar": {
              "outlinewidth": 0,
              "ticks": ""
             }
            },
            "marker": {
             "colorbar": {
              "outlinewidth": 0,
              "ticks": ""
             }
            },
            "type": "scatter3d"
           }
          ],
          "scattercarpet": [
           {
            "marker": {
             "colorbar": {
              "outlinewidth": 0,
              "ticks": ""
             }
            },
            "type": "scattercarpet"
           }
          ],
          "scattergeo": [
           {
            "marker": {
             "colorbar": {
              "outlinewidth": 0,
              "ticks": ""
             }
            },
            "type": "scattergeo"
           }
          ],
          "scattergl": [
           {
            "marker": {
             "colorbar": {
              "outlinewidth": 0,
              "ticks": ""
             }
            },
            "type": "scattergl"
           }
          ],
          "scattermapbox": [
           {
            "marker": {
             "colorbar": {
              "outlinewidth": 0,
              "ticks": ""
             }
            },
            "type": "scattermapbox"
           }
          ],
          "scatterpolar": [
           {
            "marker": {
             "colorbar": {
              "outlinewidth": 0,
              "ticks": ""
             }
            },
            "type": "scatterpolar"
           }
          ],
          "scatterpolargl": [
           {
            "marker": {
             "colorbar": {
              "outlinewidth": 0,
              "ticks": ""
             }
            },
            "type": "scatterpolargl"
           }
          ],
          "scatterternary": [
           {
            "marker": {
             "colorbar": {
              "outlinewidth": 0,
              "ticks": ""
             }
            },
            "type": "scatterternary"
           }
          ],
          "surface": [
           {
            "colorbar": {
             "outlinewidth": 0,
             "ticks": ""
            },
            "colorscale": [
             [
              0,
              "#0d0887"
             ],
             [
              0.1111111111111111,
              "#46039f"
             ],
             [
              0.2222222222222222,
              "#7201a8"
             ],
             [
              0.3333333333333333,
              "#9c179e"
             ],
             [
              0.4444444444444444,
              "#bd3786"
             ],
             [
              0.5555555555555556,
              "#d8576b"
             ],
             [
              0.6666666666666666,
              "#ed7953"
             ],
             [
              0.7777777777777778,
              "#fb9f3a"
             ],
             [
              0.8888888888888888,
              "#fdca26"
             ],
             [
              1,
              "#f0f921"
             ]
            ],
            "type": "surface"
           }
          ],
          "table": [
           {
            "cells": {
             "fill": {
              "color": "#EBF0F8"
             },
             "line": {
              "color": "white"
             }
            },
            "header": {
             "fill": {
              "color": "#C8D4E3"
             },
             "line": {
              "color": "white"
             }
            },
            "type": "table"
           }
          ]
         },
         "layout": {
          "annotationdefaults": {
           "arrowcolor": "#2a3f5f",
           "arrowhead": 0,
           "arrowwidth": 1
          },
          "autotypenumbers": "strict",
          "coloraxis": {
           "colorbar": {
            "outlinewidth": 0,
            "ticks": ""
           }
          },
          "colorscale": {
           "diverging": [
            [
             0,
             "#8e0152"
            ],
            [
             0.1,
             "#c51b7d"
            ],
            [
             0.2,
             "#de77ae"
            ],
            [
             0.3,
             "#f1b6da"
            ],
            [
             0.4,
             "#fde0ef"
            ],
            [
             0.5,
             "#f7f7f7"
            ],
            [
             0.6,
             "#e6f5d0"
            ],
            [
             0.7,
             "#b8e186"
            ],
            [
             0.8,
             "#7fbc41"
            ],
            [
             0.9,
             "#4d9221"
            ],
            [
             1,
             "#276419"
            ]
           ],
           "sequential": [
            [
             0,
             "#0d0887"
            ],
            [
             0.1111111111111111,
             "#46039f"
            ],
            [
             0.2222222222222222,
             "#7201a8"
            ],
            [
             0.3333333333333333,
             "#9c179e"
            ],
            [
             0.4444444444444444,
             "#bd3786"
            ],
            [
             0.5555555555555556,
             "#d8576b"
            ],
            [
             0.6666666666666666,
             "#ed7953"
            ],
            [
             0.7777777777777778,
             "#fb9f3a"
            ],
            [
             0.8888888888888888,
             "#fdca26"
            ],
            [
             1,
             "#f0f921"
            ]
           ],
           "sequentialminus": [
            [
             0,
             "#0d0887"
            ],
            [
             0.1111111111111111,
             "#46039f"
            ],
            [
             0.2222222222222222,
             "#7201a8"
            ],
            [
             0.3333333333333333,
             "#9c179e"
            ],
            [
             0.4444444444444444,
             "#bd3786"
            ],
            [
             0.5555555555555556,
             "#d8576b"
            ],
            [
             0.6666666666666666,
             "#ed7953"
            ],
            [
             0.7777777777777778,
             "#fb9f3a"
            ],
            [
             0.8888888888888888,
             "#fdca26"
            ],
            [
             1,
             "#f0f921"
            ]
           ]
          },
          "colorway": [
           "#636efa",
           "#EF553B",
           "#00cc96",
           "#ab63fa",
           "#FFA15A",
           "#19d3f3",
           "#FF6692",
           "#B6E880",
           "#FF97FF",
           "#FECB52"
          ],
          "font": {
           "color": "#2a3f5f"
          },
          "geo": {
           "bgcolor": "white",
           "lakecolor": "white",
           "landcolor": "#E5ECF6",
           "showlakes": true,
           "showland": true,
           "subunitcolor": "white"
          },
          "hoverlabel": {
           "align": "left"
          },
          "hovermode": "closest",
          "mapbox": {
           "style": "light"
          },
          "paper_bgcolor": "white",
          "plot_bgcolor": "#E5ECF6",
          "polar": {
           "angularaxis": {
            "gridcolor": "white",
            "linecolor": "white",
            "ticks": ""
           },
           "bgcolor": "#E5ECF6",
           "radialaxis": {
            "gridcolor": "white",
            "linecolor": "white",
            "ticks": ""
           }
          },
          "scene": {
           "xaxis": {
            "backgroundcolor": "#E5ECF6",
            "gridcolor": "white",
            "gridwidth": 2,
            "linecolor": "white",
            "showbackground": true,
            "ticks": "",
            "zerolinecolor": "white"
           },
           "yaxis": {
            "backgroundcolor": "#E5ECF6",
            "gridcolor": "white",
            "gridwidth": 2,
            "linecolor": "white",
            "showbackground": true,
            "ticks": "",
            "zerolinecolor": "white"
           },
           "zaxis": {
            "backgroundcolor": "#E5ECF6",
            "gridcolor": "white",
            "gridwidth": 2,
            "linecolor": "white",
            "showbackground": true,
            "ticks": "",
            "zerolinecolor": "white"
           }
          },
          "shapedefaults": {
           "line": {
            "color": "#2a3f5f"
           }
          },
          "ternary": {
           "aaxis": {
            "gridcolor": "white",
            "linecolor": "white",
            "ticks": ""
           },
           "baxis": {
            "gridcolor": "white",
            "linecolor": "white",
            "ticks": ""
           },
           "bgcolor": "#E5ECF6",
           "caxis": {
            "gridcolor": "white",
            "linecolor": "white",
            "ticks": ""
           }
          },
          "title": {
           "x": 0.05
          },
          "xaxis": {
           "automargin": true,
           "gridcolor": "white",
           "linecolor": "white",
           "ticks": "",
           "title": {
            "standoff": 15
           },
           "zerolinecolor": "white",
           "zerolinewidth": 2
          },
          "yaxis": {
           "automargin": true,
           "gridcolor": "white",
           "linecolor": "white",
           "ticks": "",
           "title": {
            "standoff": 15
           },
           "zerolinecolor": "white",
           "zerolinewidth": 2
          }
         }
        },
        "xaxis": {
         "anchor": "y",
         "domain": [
          0,
          1
         ],
         "title": {
          "text": "Income_cat"
         }
        },
        "yaxis": {
         "anchor": "x",
         "domain": [
          0,
          1
         ],
         "title": {
          "text": "count"
         }
        }
       }
      }
     },
     "metadata": {},
     "output_type": "display_data"
    }
   ],
   "source": [
    "px.histogram(data,x = data[\"Income_cat\"], color=data[\"wines_caty\"],barmode='group',text_auto=True)"
   ]
  },
  {
   "attachments": {},
   "cell_type": "markdown",
   "metadata": {},
   "source": [
    "People with income range between 21k to 50k are most likely to take wines under $375"
   ]
  },
  {
   "attachments": {},
   "cell_type": "markdown",
   "metadata": {},
   "source": [
    "Fish category by price"
   ]
  },
  {
   "attachments": {},
   "cell_type": "markdown",
   "metadata": {},
   "source": [
    "Meat category by price"
   ]
  },
  {
   "attachments": {},
   "cell_type": "markdown",
   "metadata": {},
   "source": [
    "Fruits category by price"
   ]
  },
  {
   "attachments": {},
   "cell_type": "markdown",
   "metadata": {},
   "source": [
    "Sweets category by price"
   ]
  },
  {
   "attachments": {},
   "cell_type": "markdown",
   "metadata": {},
   "source": [
    "Golds category by price"
   ]
  },
  {
   "attachments": {},
   "cell_type": "markdown",
   "metadata": {},
   "source": [
    "## Income group related with recency of customers"
   ]
  },
  {
   "cell_type": "code",
   "execution_count": 37,
   "metadata": {},
   "outputs": [
    {
     "data": {
      "text/plain": [
       "count    2205.000000\n",
       "mean       49.009070\n",
       "std        28.932111\n",
       "min         0.000000\n",
       "25%        24.000000\n",
       "50%        49.000000\n",
       "75%        74.000000\n",
       "max        99.000000\n",
       "Name: Recency, dtype: float64"
      ]
     },
     "execution_count": 37,
     "metadata": {},
     "output_type": "execute_result"
    }
   ],
   "source": [
    "data['Recency'].describe()"
   ]
  },
  {
   "cell_type": "code",
   "execution_count": 44,
   "metadata": {},
   "outputs": [],
   "source": [
    "def recency_cat(x):\n",
    "    if x['Recency'] > 0 and x['Recency'] <= 10:\n",
    "        return 'Most Frequent within 10 days'\n",
    "    elif x['Recency'] > 10 and x['Recency'] <= 20:\n",
    "        return 'Frequent between 11 to 20 days'\n",
    "    elif x['Recency'] > 20 and x['Recency'] <= 30:\n",
    "        return 'Frequent between 21 to 30 days'\n",
    "    elif x['Recency'] > 30 and x['Recency'] <= 40:\n",
    "        return 'Frequent between 31 to 40 days'\n",
    "    elif x['Recency'] > 40 and x['Recency'] <= 50:\n",
    "        return 'Frequent between 41 to 50 days'\n",
    "    elif x['Recency'] > 50 and x['Recency'] <= 60:\n",
    "        return 'Frequent between 51 to 60 days'\n",
    "    elif x['Recency'] > 60 and x['Recency'] <= 70:\n",
    "        return 'Frequent between 61 to 70 days'\n",
    "    elif x['Recency'] > 70 and x['Recency'] <= 80:\n",
    "        return 'Frequent between 71 to 80 days'\n",
    "    elif x['Recency'] > 80 and x['Recency'] <= 90:\n",
    "        return 'Frequent between 81 to 90 days'\n",
    "    elif x['Recency'] > 90 and x['Recency'] <= 100:\n",
    "        return 'Frequent between 91 to 100 days'"
   ]
  },
  {
   "cell_type": "code",
   "execution_count": 45,
   "metadata": {},
   "outputs": [],
   "source": [
    "data['Recency_caty'] = data.apply(recency_cat,axis=1)"
   ]
  },
  {
   "cell_type": "code",
   "execution_count": 46,
   "metadata": {},
   "outputs": [
    {
     "data": {
      "application/vnd.plotly.v1+json": {
       "config": {
        "plotlyServerURL": "https://plot.ly"
       },
       "data": [
        {
         "alignmentgroup": "True",
         "bingroup": "x",
         "hovertemplate": "Recency_caty=Frequent between 51 to 60 days<br>Income_cat=%{x}<br>count=%{y}<extra></extra>",
         "legendgroup": "Frequent between 51 to 60 days",
         "marker": {
          "color": "#636efa",
          "pattern": {
           "shape": ""
          }
         },
         "name": "Frequent between 51 to 60 days",
         "offsetgroup": "Frequent between 51 to 60 days",
         "orientation": "v",
         "showlegend": true,
         "texttemplate": "%{value}",
         "type": "histogram",
         "x": [
          "within_51k-80K",
          "within_20K",
          "within_51k-80K",
          "within_21k-50K",
          "within_21k-50K",
          "within_21k-50K",
          "within_21k-50K",
          "within_21k-50K",
          "within 81k-100k",
          "within_51k-80K",
          "within 81k-100k",
          "within_21k-50K",
          "within_21k-50K",
          "within 81k-100k",
          "within_51k-80K",
          "within_51k-80K",
          "within_21k-50K",
          "within_51k-80K",
          "within_51k-80K",
          "within_21k-50K",
          "within 81k-100k",
          "within_21k-50K",
          "within_51k-80K",
          "within_101k-120k",
          "within_51k-80K",
          "within_20K",
          "within_51k-80K",
          "within_21k-50K",
          "within_21k-50K",
          "within_20K",
          "within_21k-50K",
          "within_51k-80K",
          "within_21k-50K",
          "within_21k-50K",
          "within_21k-50K",
          "within 81k-100k",
          "within_51k-80K",
          "within_21k-50K",
          "within_21k-50K",
          "within_21k-50K",
          "within_21k-50K",
          "within 81k-100k",
          "within_51k-80K",
          "within_20K",
          "within_21k-50K",
          "within_20K",
          "within_21k-50K",
          "within_51k-80K",
          "within_51k-80K",
          "within_21k-50K",
          "within_21k-50K",
          "within_21k-50K",
          "within_51k-80K",
          "within_21k-50K",
          "within_51k-80K",
          "within_51k-80K",
          "within_21k-50K",
          "within_21k-50K",
          "within_21k-50K",
          "within_21k-50K",
          "within_21k-50K",
          "within_21k-50K",
          "within_51k-80K",
          "within_51k-80K",
          "within 81k-100k",
          "within_51k-80K",
          "within_51k-80K",
          "within_51k-80K",
          "within_21k-50K",
          "within_51k-80K",
          "within_51k-80K",
          "within_51k-80K",
          "within_51k-80K",
          "within 81k-100k",
          "within_51k-80K",
          "within_51k-80K",
          "within_51k-80K",
          "within_51k-80K",
          "within 81k-100k",
          "within_51k-80K",
          "within_51k-80K",
          "within_51k-80K",
          "within_51k-80K",
          "within_51k-80K",
          "within_21k-50K",
          "within_51k-80K",
          "within_21k-50K",
          "within_21k-50K",
          "within_51k-80K",
          "within_21k-50K",
          "within_51k-80K",
          "within_51k-80K",
          "within_51k-80K",
          "within_51k-80K",
          "within_51k-80K",
          "within_51k-80K",
          "within_51k-80K",
          "within_21k-50K",
          "within_51k-80K",
          "within_21k-50K",
          "within_21k-50K",
          "within 81k-100k",
          "within_21k-50K",
          "within_21k-50K",
          "within_51k-80K",
          "within_21k-50K",
          "within_21k-50K",
          "within_51k-80K",
          "within 81k-100k",
          "within_51k-80K",
          "within_51k-80K",
          "within_51k-80K",
          "within_21k-50K",
          "within_20K",
          "within_21k-50K",
          "within_21k-50K",
          "within_51k-80K",
          "within_51k-80K",
          "within 81k-100k",
          "within_51k-80K",
          "within_51k-80K",
          "within_51k-80K",
          "within_51k-80K",
          "within_20K",
          "within_21k-50K",
          "within_21k-50K",
          "within_51k-80K",
          "within_51k-80K",
          "within_21k-50K",
          "within_21k-50K",
          "within_21k-50K",
          "within_51k-80K",
          "within_51k-80K",
          "within_51k-80K",
          "within_51k-80K",
          "within_51k-80K",
          "within_21k-50K",
          "within_21k-50K",
          "within 81k-100k",
          "within_51k-80K",
          "within_21k-50K",
          "within_51k-80K",
          "within_21k-50K",
          "within_21k-50K",
          "within_51k-80K",
          "within_21k-50K",
          "within_51k-80K",
          "within_21k-50K",
          "within_21k-50K",
          "within_21k-50K",
          "within_21k-50K",
          "within_51k-80K",
          "within 81k-100k",
          "within_51k-80K",
          "within_21k-50K",
          "within_21k-50K",
          "within_20K",
          "within 81k-100k",
          "within_51k-80K",
          "within_51k-80K",
          "within_21k-50K",
          "within_51k-80K",
          "within_21k-50K",
          "within_51k-80K",
          "within_21k-50K",
          "within_51k-80K",
          "within_51k-80K",
          "within_21k-50K",
          "within_21k-50K",
          "within_21k-50K",
          "within_51k-80K",
          "within_51k-80K",
          "within_21k-50K",
          "within_51k-80K",
          "within_51k-80K",
          "within_51k-80K",
          "within_51k-80K",
          "within_21k-50K",
          "within_51k-80K",
          "within_51k-80K",
          "within 81k-100k",
          "within_21k-50K",
          "within 81k-100k",
          "within_21k-50K",
          "within_21k-50K",
          "within_21k-50K",
          "within_51k-80K",
          "within_21k-50K",
          "within_21k-50K",
          "within_51k-80K",
          "within_21k-50K",
          "within 81k-100k",
          "within_51k-80K",
          "within_21k-50K",
          "within_51k-80K",
          "within_51k-80K",
          "within_21k-50K",
          "within_51k-80K",
          "within_51k-80K",
          "within_51k-80K",
          "within_51k-80K",
          "within_21k-50K",
          "within 81k-100k",
          "within_21k-50K",
          "within_21k-50K",
          "within 81k-100k",
          "within_51k-80K",
          "within_51k-80K",
          "within_51k-80K",
          "within_21k-50K",
          "within_21k-50K",
          "within_21k-50K",
          "within_51k-80K",
          "within_51k-80K",
          "within_21k-50K",
          "within_51k-80K",
          "within_21k-50K",
          "within_51k-80K",
          "within 81k-100k",
          "within_21k-50K",
          "within 81k-100k",
          "within_51k-80K",
          "within_21k-50K",
          "within_51k-80K",
          "within 81k-100k",
          "within 81k-100k",
          "within_20K",
          "within_20K",
          "within 81k-100k",
          "within_51k-80K",
          "within_51k-80K"
         ],
         "xaxis": "x",
         "yaxis": "y"
        },
        {
         "alignmentgroup": "True",
         "bingroup": "x",
         "hovertemplate": "Recency_caty=Frequent between 31 to 40 days<br>Income_cat=%{x}<br>count=%{y}<extra></extra>",
         "legendgroup": "Frequent between 31 to 40 days",
         "marker": {
          "color": "#EF553B",
          "pattern": {
           "shape": ""
          }
         },
         "name": "Frequent between 31 to 40 days",
         "offsetgroup": "Frequent between 31 to 40 days",
         "orientation": "v",
         "showlegend": true,
         "texttemplate": "%{value}",
         "type": "histogram",
         "x": [
          "within_21k-50K",
          "within_51k-80K",
          "within_21k-50K",
          "within_20K",
          "within_20K",
          "within_21k-50K",
          "within_51k-80K",
          "within_51k-80K",
          "within_21k-50K",
          "within_51k-80K",
          "within_51k-80K",
          "within_51k-80K",
          "within_51k-80K",
          "within 81k-100k",
          "within_51k-80K",
          "within_21k-50K",
          "within_51k-80K",
          "within_20K",
          "within_21k-50K",
          "within_51k-80K",
          "within_51k-80K",
          "within_51k-80K",
          "within_51k-80K",
          "within_20K",
          "within_51k-80K",
          "within_51k-80K",
          "within_21k-50K",
          "within 81k-100k",
          "within_21k-50K",
          "within_21k-50K",
          "within_51k-80K",
          "within_21k-50K",
          "within 81k-100k",
          "within_51k-80K",
          "within_21k-50K",
          "within_20K",
          "within_51k-80K",
          "within_51k-80K",
          "within_21k-50K",
          "within_51k-80K",
          "within_51k-80K",
          "within_21k-50K",
          "within_21k-50K",
          "within_21k-50K",
          "within_20K",
          "within 81k-100k",
          "within_51k-80K",
          "within_51k-80K",
          "within_21k-50K",
          "within_21k-50K",
          "within_21k-50K",
          "within_21k-50K",
          "within_21k-50K",
          "within_21k-50K",
          "within_51k-80K",
          "within_51k-80K",
          "within_101k-120k",
          "within_21k-50K",
          "within_51k-80K",
          "within_21k-50K",
          "within_51k-80K",
          "within_51k-80K",
          "within_21k-50K",
          "within_51k-80K",
          "within_21k-50K",
          "within_21k-50K",
          "within_20K",
          "within_20K",
          "within_21k-50K",
          "within_51k-80K",
          "within_21k-50K",
          "within_21k-50K",
          "within_51k-80K",
          "within_21k-50K",
          "within_20K",
          "within_21k-50K",
          "within 81k-100k",
          "within_21k-50K",
          "within_21k-50K",
          "within_51k-80K",
          "within_21k-50K",
          "within_21k-50K",
          "within_21k-50K",
          "within_51k-80K",
          "within_51k-80K",
          "within_51k-80K",
          "within 81k-100k",
          "within_21k-50K",
          "within_21k-50K",
          "within_21k-50K",
          "within_21k-50K",
          "within_51k-80K",
          "within_51k-80K",
          "within_51k-80K",
          "within_21k-50K",
          "within 81k-100k",
          "within_21k-50K",
          "within_21k-50K",
          "within_21k-50K",
          "within_20K",
          "within_21k-50K",
          "within_21k-50K",
          "within_21k-50K",
          "within_21k-50K",
          "within_51k-80K",
          "within_21k-50K",
          "within_51k-80K",
          "within_51k-80K",
          "within_21k-50K",
          "within_21k-50K",
          "within_21k-50K",
          "within_51k-80K",
          "within_21k-50K",
          "within_21k-50K",
          "within_51k-80K",
          "within_21k-50K",
          "within_51k-80K",
          "within_51k-80K",
          "within_21k-50K",
          "within_51k-80K",
          "within_21k-50K",
          "within_21k-50K",
          "within_51k-80K",
          "within_51k-80K",
          "within 81k-100k",
          "within_21k-50K",
          "within_51k-80K",
          "within_51k-80K",
          "within_21k-50K",
          "within_20K",
          "within_21k-50K",
          "within_51k-80K",
          "within_21k-50K",
          "within_51k-80K",
          "within_51k-80K",
          "within_21k-50K",
          "within_21k-50K",
          "within_51k-80K",
          "within_51k-80K",
          "within_21k-50K",
          "within_20K",
          "within_21k-50K",
          "within_21k-50K",
          "within_51k-80K",
          "within_21k-50K",
          "within_21k-50K",
          "within_51k-80K",
          "within_20K",
          "within 81k-100k",
          "within 81k-100k",
          "within_21k-50K",
          "within 81k-100k",
          "within_51k-80K",
          "within_51k-80K",
          "within_21k-50K",
          "within_51k-80K",
          "within_21k-50K",
          "within_51k-80K",
          "within_21k-50K",
          "within_21k-50K",
          "within_51k-80K",
          "within_51k-80K",
          "within_51k-80K",
          "within_21k-50K",
          "within 81k-100k",
          "within_51k-80K",
          "within_21k-50K",
          "within_21k-50K",
          "within_51k-80K",
          "within_51k-80K",
          "within_21k-50K",
          "within_21k-50K",
          "within 81k-100k",
          "within_51k-80K",
          "within_21k-50K",
          "within_51k-80K",
          "within_21k-50K",
          "within_21k-50K",
          "within_51k-80K",
          "within_21k-50K",
          "within_51k-80K",
          "within_51k-80K",
          "within_21k-50K",
          "within_21k-50K",
          "within_51k-80K",
          "within_21k-50K",
          "within_51k-80K",
          "within_51k-80K",
          "within_20K",
          "within_21k-50K",
          "within_51k-80K",
          "within_21k-50K",
          "within_21k-50K",
          "within_21k-50K",
          "within_51k-80K",
          "within_21k-50K",
          "within 81k-100k",
          "within 81k-100k",
          "within_21k-50K",
          "within_21k-50K",
          "within_21k-50K",
          "within_51k-80K",
          "within_51k-80K"
         ],
         "xaxis": "x",
         "yaxis": "y"
        },
        {
         "alignmentgroup": "True",
         "bingroup": "x",
         "hovertemplate": "Recency_caty=Frequent between 21 to 30 days<br>Income_cat=%{x}<br>count=%{y}<extra></extra>",
         "legendgroup": "Frequent between 21 to 30 days",
         "marker": {
          "color": "#00cc96",
          "pattern": {
           "shape": ""
          }
         },
         "name": "Frequent between 21 to 30 days",
         "offsetgroup": "Frequent between 21 to 30 days",
         "orientation": "v",
         "showlegend": true,
         "texttemplate": "%{value}",
         "type": "histogram",
         "x": [
          "within_51k-80K",
          "within_21k-50K",
          "within 81k-100k",
          "within_21k-50K",
          "within_20K",
          "within_51k-80K",
          "within_51k-80K",
          "within_51k-80K",
          "within_51k-80K",
          "within_51k-80K",
          "within_21k-50K",
          "within_51k-80K",
          "within_51k-80K",
          "within 81k-100k",
          "within_51k-80K",
          "within_21k-50K",
          "within_51k-80K",
          "within_51k-80K",
          "within_21k-50K",
          "within_21k-50K",
          "within_21k-50K",
          "within_51k-80K",
          "within_21k-50K",
          "within_21k-50K",
          "within_21k-50K",
          "within_51k-80K",
          "within_51k-80K",
          "within_21k-50K",
          "within_51k-80K",
          "within_51k-80K",
          "within_21k-50K",
          "within_51k-80K",
          "within_21k-50K",
          "within_21k-50K",
          "within_51k-80K",
          "within_20K",
          "within_21k-50K",
          "within 81k-100k",
          "within_51k-80K",
          "within_51k-80K",
          "within_21k-50K",
          "within_51k-80K",
          "within_51k-80K",
          "within_51k-80K",
          "within_21k-50K",
          "within_21k-50K",
          "within_20K",
          "within_51k-80K",
          "within_51k-80K",
          "within_51k-80K",
          "within_51k-80K",
          "within_20K",
          "within_21k-50K",
          "within_51k-80K",
          "within_51k-80K",
          "within 81k-100k",
          "within_21k-50K",
          "within_21k-50K",
          "within_21k-50K",
          "within_51k-80K",
          "within_51k-80K",
          "within_21k-50K",
          "within_51k-80K",
          "within 81k-100k",
          "within_21k-50K",
          "within_21k-50K",
          "within_21k-50K",
          "within_20K",
          "within_51k-80K",
          "within_51k-80K",
          "within_51k-80K",
          "within 81k-100k",
          "within_21k-50K",
          "within_21k-50K",
          "within_21k-50K",
          "within 81k-100k",
          "within_51k-80K",
          "within_51k-80K",
          "within_21k-50K",
          "within_51k-80K",
          "within_51k-80K",
          "within_51k-80K",
          "within_21k-50K",
          "within_51k-80K",
          "within_21k-50K",
          "within_21k-50K",
          "within_21k-50K",
          "within_51k-80K",
          "within_20K",
          "within_51k-80K",
          "within_51k-80K",
          "within_51k-80K",
          "within_51k-80K",
          "within_51k-80K",
          "within_21k-50K",
          "within_21k-50K",
          "within_51k-80K",
          "within 81k-100k",
          "within_21k-50K",
          "within_21k-50K",
          "within_51k-80K",
          "within_51k-80K",
          "within 81k-100k",
          "within_51k-80K",
          "within_51k-80K",
          "within_51k-80K",
          "within_21k-50K",
          "within_51k-80K",
          "within_21k-50K",
          "within_51k-80K",
          "within_21k-50K",
          "within_51k-80K",
          "within_51k-80K",
          "within 81k-100k",
          "within_51k-80K",
          "within_51k-80K",
          "within_21k-50K",
          "within_20K",
          "within 81k-100k",
          "within_21k-50K",
          "within_21k-50K",
          "within_21k-50K",
          "within 81k-100k",
          "within_51k-80K",
          "within_21k-50K",
          "within_21k-50K",
          "within_20K",
          "within_21k-50K",
          "within_21k-50K",
          "within_51k-80K",
          "within_51k-80K",
          "within_21k-50K",
          "within_21k-50K",
          "within_51k-80K",
          "within_51k-80K",
          "within_21k-50K",
          "within 81k-100k",
          "within_51k-80K",
          "within_21k-50K",
          "within_21k-50K",
          "within_20K",
          "within_51k-80K",
          "within_51k-80K",
          "within_21k-50K",
          "within_51k-80K",
          "within_51k-80K",
          "within_21k-50K",
          "within_21k-50K",
          "within_21k-50K",
          "within 81k-100k",
          "within_21k-50K",
          "within_21k-50K",
          "within_51k-80K",
          "within_51k-80K",
          "within_21k-50K",
          "within_21k-50K",
          "within_51k-80K",
          "within_51k-80K",
          "within_51k-80K",
          "within_51k-80K",
          "within 81k-100k",
          "within_51k-80K",
          "within_21k-50K",
          "within_21k-50K",
          "within_51k-80K",
          "within 81k-100k",
          "within 81k-100k",
          "within_21k-50K",
          "within 81k-100k",
          "within_51k-80K",
          "within_51k-80K",
          "within_21k-50K",
          "within_51k-80K",
          "within_51k-80K",
          "within_51k-80K",
          "within_51k-80K",
          "within_51k-80K",
          "within_51k-80K",
          "within_20K",
          "within_21k-50K",
          "within_51k-80K",
          "within_51k-80K",
          "within 81k-100k",
          "within_51k-80K",
          "within_21k-50K",
          "within_21k-50K",
          "within_51k-80K",
          "within_21k-50K",
          "within_21k-50K",
          "within_51k-80K",
          "within_21k-50K",
          "within_51k-80K",
          "within_21k-50K",
          "within_21k-50K",
          "within_21k-50K",
          "within_20K",
          "within 81k-100k",
          "within_21k-50K",
          "within 81k-100k",
          "within_21k-50K",
          "within_21k-50K",
          "within_51k-80K",
          "within_21k-50K",
          "within_51k-80K",
          "within_21k-50K",
          "within_51k-80K",
          "within_21k-50K",
          "within 81k-100k",
          "within_21k-50K",
          "within_51k-80K",
          "within_51k-80K",
          "within_21k-50K",
          "within_21k-50K",
          "within_21k-50K",
          "within_51k-80K",
          "within_21k-50K",
          "within_51k-80K",
          "within_51k-80K",
          "within_51k-80K",
          "within_21k-50K",
          "within_51k-80K",
          "within_21k-50K",
          "within_51k-80K",
          "within_51k-80K",
          "within_21k-50K",
          "within_21k-50K",
          "within_21k-50K",
          "within_51k-80K",
          "within_21k-50K",
          "within_20K",
          "within_21k-50K",
          "within_51k-80K",
          "within_21k-50K",
          "within_21k-50K",
          "within_51k-80K",
          "within_51k-80K",
          "within_21k-50K",
          "within_51k-80K",
          "within_21k-50K",
          "within_21k-50K",
          "within_21k-50K",
          "within_51k-80K"
         ],
         "xaxis": "x",
         "yaxis": "y"
        },
        {
         "alignmentgroup": "True",
         "bingroup": "x",
         "hovertemplate": "Recency_caty=Frequent between 91 to 100 days<br>Income_cat=%{x}<br>count=%{y}<extra></extra>",
         "legendgroup": "Frequent between 91 to 100 days",
         "marker": {
          "color": "#ab63fa",
          "pattern": {
           "shape": ""
          }
         },
         "name": "Frequent between 91 to 100 days",
         "offsetgroup": "Frequent between 91 to 100 days",
         "orientation": "v",
         "showlegend": true,
         "texttemplate": "%{value}",
         "type": "histogram",
         "x": [
          "within_51k-80K",
          "within_51k-80K",
          "within 81k-100k",
          "within_21k-50K",
          "within_21k-50K",
          "within_21k-50K",
          "within_21k-50K",
          "within 81k-100k",
          "within_21k-50K",
          "within_51k-80K",
          "within_21k-50K",
          "within_21k-50K",
          "within_51k-80K",
          "within_21k-50K",
          "within_21k-50K",
          "within_21k-50K",
          "within_51k-80K",
          "within_51k-80K",
          "within_21k-50K",
          "within_21k-50K",
          "within_20K",
          "within_51k-80K",
          "within_51k-80K",
          "within_51k-80K",
          "within_51k-80K",
          "within_21k-50K",
          "within_21k-50K",
          "within_20K",
          "within_21k-50K",
          "within_21k-50K",
          "within_51k-80K",
          "within_21k-50K",
          "within_21k-50K",
          "within_51k-80K",
          "within 81k-100k",
          "within_51k-80K",
          "within_21k-50K",
          "within_21k-50K",
          "within_21k-50K",
          "within_21k-50K",
          "within_21k-50K",
          "within_51k-80K",
          "within_21k-50K",
          "within_21k-50K",
          "within_51k-80K",
          "within_21k-50K",
          "within_21k-50K",
          "within_21k-50K",
          "within_20K",
          "within_21k-50K",
          "within_21k-50K",
          "within_51k-80K",
          "within 81k-100k",
          "within_51k-80K",
          "within_51k-80K",
          "within_51k-80K",
          "within_51k-80K",
          "within_51k-80K",
          "within_21k-50K",
          "within_51k-80K",
          "within_51k-80K",
          "within_21k-50K",
          "within_20K",
          "within_51k-80K",
          "within 81k-100k",
          "within_21k-50K",
          "within_21k-50K",
          "within 81k-100k",
          "within_20K",
          "within_20K",
          "within 81k-100k",
          "within_20K",
          "within 81k-100k",
          "within_51k-80K",
          "within_51k-80K",
          "within 81k-100k",
          "within_21k-50K",
          "within_21k-50K",
          "within_51k-80K",
          "within_51k-80K",
          "within_21k-50K",
          "within_51k-80K",
          "within_51k-80K",
          "within_51k-80K",
          "within_20K",
          "within_21k-50K",
          "within_21k-50K",
          "within_21k-50K",
          "within_21k-50K",
          "within_21k-50K",
          "within_21k-50K",
          "within_21k-50K",
          "within_51k-80K",
          "within_21k-50K",
          "within_21k-50K",
          "within_21k-50K",
          "within_21k-50K",
          "within_21k-50K",
          "within_21k-50K",
          "within_21k-50K",
          "within_51k-80K",
          "within_51k-80K",
          "within_21k-50K",
          "within_21k-50K",
          "within_21k-50K",
          "within_21k-50K",
          "within_51k-80K",
          "within_21k-50K",
          "within 81k-100k",
          "within_21k-50K",
          "within 81k-100k",
          "within_51k-80K",
          "within_51k-80K",
          "within_51k-80K",
          "within 81k-100k",
          "within_20K",
          "within_21k-50K",
          "within_51k-80K",
          "within_21k-50K",
          "within_21k-50K",
          "within_51k-80K",
          "within_51k-80K",
          "within_21k-50K",
          "within_51k-80K",
          "within_21k-50K",
          "within_51k-80K",
          "within_51k-80K",
          "within_51k-80K",
          "within_21k-50K",
          "within_51k-80K",
          "within_51k-80K",
          "within 81k-100k",
          "within_51k-80K",
          "within_51k-80K",
          "within_21k-50K",
          "within_21k-50K",
          "within_20K",
          "within_51k-80K",
          "within_51k-80K",
          "within_51k-80K",
          "within_21k-50K",
          "within_20K",
          "within_51k-80K",
          "within_21k-50K",
          "within_51k-80K",
          "within_21k-50K",
          "within_51k-80K",
          "within_21k-50K",
          "within_21k-50K",
          "within_51k-80K",
          "within_21k-50K",
          "within 81k-100k",
          "within_51k-80K",
          "within_51k-80K",
          "within_51k-80K",
          "within_51k-80K",
          "within_51k-80K",
          "within_51k-80K",
          "within_20K",
          "within_20K",
          "within_51k-80K",
          "within_51k-80K",
          "within_51k-80K",
          "within 81k-100k",
          "within_51k-80K",
          "within_51k-80K",
          "within_51k-80K",
          "within_21k-50K",
          "within_51k-80K",
          "within_51k-80K",
          "within_21k-50K",
          "within_51k-80K",
          "within_21k-50K",
          "within_21k-50K",
          "within_21k-50K",
          "within_20K",
          "within_51k-80K",
          "within_21k-50K",
          "within_21k-50K",
          "within 81k-100k",
          "within_21k-50K",
          "within_21k-50K",
          "within_51k-80K",
          "within_21k-50K",
          "within_51k-80K",
          "within_21k-50K",
          "within_51k-80K",
          "within 81k-100k",
          "within_21k-50K",
          "within 81k-100k",
          "within 81k-100k",
          "within_21k-50K",
          "within_51k-80K"
         ],
         "xaxis": "x",
         "yaxis": "y"
        },
        {
         "alignmentgroup": "True",
         "bingroup": "x",
         "hovertemplate": "Recency_caty=Frequent between 11 to 20 days<br>Income_cat=%{x}<br>count=%{y}<extra></extra>",
         "legendgroup": "Frequent between 11 to 20 days",
         "marker": {
          "color": "#FFA15A",
          "pattern": {
           "shape": ""
          }
         },
         "name": "Frequent between 11 to 20 days",
         "offsetgroup": "Frequent between 11 to 20 days",
         "orientation": "v",
         "showlegend": true,
         "texttemplate": "%{value}",
         "type": "histogram",
         "x": [
          "within_51k-80K",
          "within_21k-50K",
          "within_21k-50K",
          "within_20K",
          "within_51k-80K",
          "within_51k-80K",
          "within 81k-100k",
          "within_21k-50K",
          "within 81k-100k",
          "within_21k-50K",
          "within_21k-50K",
          "within 81k-100k",
          "within_21k-50K",
          "within_21k-50K",
          "within_21k-50K",
          "within_21k-50K",
          "within_51k-80K",
          "within_51k-80K",
          "within_21k-50K",
          "within_51k-80K",
          "within_21k-50K",
          "within 81k-100k",
          "within_51k-80K",
          "within_21k-50K",
          "within_51k-80K",
          "within_51k-80K",
          "within_21k-50K",
          "within_21k-50K",
          "within_21k-50K",
          "within_21k-50K",
          "within_51k-80K",
          "within_51k-80K",
          "within_21k-50K",
          "within_21k-50K",
          "within_21k-50K",
          "within_51k-80K",
          "within_21k-50K",
          "within 81k-100k",
          "within_21k-50K",
          "within_21k-50K",
          "within_51k-80K",
          "within_21k-50K",
          "within_51k-80K",
          "within_21k-50K",
          "within_21k-50K",
          "within_21k-50K",
          "within_51k-80K",
          "within_21k-50K",
          "within_21k-50K",
          "within 81k-100k",
          "within_21k-50K",
          "within_51k-80K",
          "within_51k-80K",
          "within_20K",
          "within_21k-50K",
          "within_21k-50K",
          "within_51k-80K",
          "within_21k-50K",
          "within_21k-50K",
          "within_51k-80K",
          "within_51k-80K",
          "within 81k-100k",
          "within_51k-80K",
          "within_51k-80K",
          "within_51k-80K",
          "within_51k-80K",
          "within_51k-80K",
          "within_21k-50K",
          "within_20K",
          "within_21k-50K",
          "within_21k-50K",
          "within_51k-80K",
          "within 81k-100k",
          "within_21k-50K",
          "within 81k-100k",
          "within_21k-50K",
          "within_51k-80K",
          "within_21k-50K",
          "within 81k-100k",
          "within_20K",
          "within 81k-100k",
          "within 81k-100k",
          "within_51k-80K",
          "within_21k-50K",
          "within_51k-80K",
          "within_51k-80K",
          "within_51k-80K",
          "within_21k-50K",
          "within_21k-50K",
          "within_21k-50K",
          "within 81k-100k",
          "within_21k-50K",
          "within_21k-50K",
          "within_51k-80K",
          "within_21k-50K",
          "within_21k-50K",
          "within_21k-50K",
          "within_20K",
          "within 81k-100k",
          "within 81k-100k",
          "within_21k-50K",
          "within_21k-50K",
          "within_51k-80K",
          "within_21k-50K",
          "within_20K",
          "within_21k-50K",
          "within_51k-80K",
          "within_51k-80K",
          "within_51k-80K",
          "within_51k-80K",
          "within_51k-80K",
          "within_21k-50K",
          "within 81k-100k",
          "within_51k-80K",
          "within_21k-50K",
          "within_51k-80K",
          "within_21k-50K",
          "within_21k-50K",
          "within_21k-50K",
          "within_51k-80K",
          "within_51k-80K",
          "within_21k-50K",
          "within_21k-50K",
          "within_51k-80K",
          "within_21k-50K",
          "within_20K",
          "within_51k-80K",
          "within_51k-80K",
          "within 81k-100k",
          "within_51k-80K",
          "within_21k-50K",
          "within_20K",
          "within_21k-50K",
          "within_51k-80K",
          "within_51k-80K",
          "within_51k-80K",
          "within_21k-50K",
          "within_51k-80K",
          "within_51k-80K",
          "within_51k-80K",
          "within_51k-80K",
          "within_21k-50K",
          "within_21k-50K",
          "within 81k-100k",
          "within_21k-50K",
          "within_21k-50K",
          "within_51k-80K",
          "within_21k-50K",
          "within_51k-80K",
          "within_51k-80K",
          "within_21k-50K",
          "within_21k-50K",
          "within_51k-80K",
          "within_21k-50K",
          "within_51k-80K",
          "within_51k-80K",
          "within_21k-50K",
          "within 81k-100k",
          "within_21k-50K",
          "within_51k-80K",
          "within_20K",
          "within_21k-50K",
          "within_51k-80K",
          "within_21k-50K",
          "within_51k-80K",
          "within 81k-100k",
          "within_21k-50K",
          "within_51k-80K",
          "within_21k-50K",
          "within_21k-50K",
          "within_21k-50K",
          "within_21k-50K",
          "within_21k-50K",
          "within_21k-50K",
          "within_51k-80K",
          "within_51k-80K",
          "within_51k-80K",
          "within_21k-50K",
          "within_21k-50K",
          "within 81k-100k",
          "within_21k-50K",
          "within_51k-80K",
          "within_51k-80K",
          "within_20K",
          "within_51k-80K",
          "within_21k-50K",
          "within_21k-50K",
          "within_21k-50K",
          "within_21k-50K",
          "within_20K",
          "within_21k-50K",
          "within_51k-80K",
          "within_51k-80K",
          "within_21k-50K",
          "within_21k-50K",
          "within_21k-50K",
          "within_21k-50K",
          "within_21k-50K",
          "within_21k-50K",
          "within_51k-80K",
          "within_21k-50K",
          "within_21k-50K",
          "within_21k-50K",
          "within_21k-50K",
          "within_51k-80K",
          "within_21k-50K",
          "within_21k-50K",
          "within_20K",
          "within_51k-80K",
          "within_51k-80K",
          "within_20K",
          "within_51k-80K",
          "within_20K",
          "within_51k-80K"
         ],
         "xaxis": "x",
         "yaxis": "y"
        },
        {
         "alignmentgroup": "True",
         "bingroup": "x",
         "hovertemplate": "Recency_caty=Frequent between 61 to 70 days<br>Income_cat=%{x}<br>count=%{y}<extra></extra>",
         "legendgroup": "Frequent between 61 to 70 days",
         "marker": {
          "color": "#19d3f3",
          "pattern": {
           "shape": ""
          }
         },
         "name": "Frequent between 61 to 70 days",
         "offsetgroup": "Frequent between 61 to 70 days",
         "orientation": "v",
         "showlegend": true,
         "texttemplate": "%{value}",
         "type": "histogram",
         "x": [
          "within_20K",
          "within_51k-80K",
          "within_21k-50K",
          "within_51k-80K",
          "within_21k-50K",
          "within_51k-80K",
          "within_21k-50K",
          "within_51k-80K",
          "within_51k-80K",
          "within_20K",
          "within_101k-120k",
          "within_21k-50K",
          "within_21k-50K",
          "within 81k-100k",
          "within_51k-80K",
          "within_21k-50K",
          "within_51k-80K",
          "within_21k-50K",
          "within_51k-80K",
          "within_21k-50K",
          "within_21k-50K",
          "within_21k-50K",
          "within_51k-80K",
          "within_21k-50K",
          "within_51k-80K",
          "within_21k-50K",
          "within_21k-50K",
          "within_51k-80K",
          "within_21k-50K",
          "within_51k-80K",
          "within_51k-80K",
          "within_51k-80K",
          "within_51k-80K",
          "within_51k-80K",
          "within_51k-80K",
          "within_21k-50K",
          "within_21k-50K",
          "within_51k-80K",
          "within_21k-50K",
          "within_51k-80K",
          "within_51k-80K",
          "within_21k-50K",
          "within_21k-50K",
          "within_21k-50K",
          "within_51k-80K",
          "within_51k-80K",
          "within_21k-50K",
          "within_21k-50K",
          "within 81k-100k",
          "within 81k-100k",
          "within_21k-50K",
          "within_21k-50K",
          "within_21k-50K",
          "within_51k-80K",
          "within_51k-80K",
          "within_21k-50K",
          "within_51k-80K",
          "within_51k-80K",
          "within_21k-50K",
          "within_51k-80K",
          "within 81k-100k",
          "within_51k-80K",
          "within_21k-50K",
          "within_21k-50K",
          "within_21k-50K",
          "within_21k-50K",
          "within_21k-50K",
          "within 81k-100k",
          "within_51k-80K",
          "within_21k-50K",
          "within_51k-80K",
          "within_21k-50K",
          "within_51k-80K",
          "within_21k-50K",
          "within 81k-100k",
          "within 81k-100k",
          "within_51k-80K",
          "within_21k-50K",
          "within_51k-80K",
          "within 81k-100k",
          "within_51k-80K",
          "within_51k-80K",
          "within 81k-100k",
          "within_51k-80K",
          "within_51k-80K",
          "within_51k-80K",
          "within_51k-80K",
          "within_21k-50K",
          "within_21k-50K",
          "within_51k-80K",
          "within_21k-50K",
          "within_51k-80K",
          "within_20K",
          "within_21k-50K",
          "within_21k-50K",
          "within_51k-80K",
          "within_21k-50K",
          "within_51k-80K",
          "within 81k-100k",
          "within_51k-80K",
          "within_51k-80K",
          "within_51k-80K",
          "within_51k-80K",
          "within_51k-80K",
          "within_21k-50K",
          "within_51k-80K",
          "within_20K",
          "within_51k-80K",
          "within 81k-100k",
          "within_51k-80K",
          "within_21k-50K",
          "within_21k-50K",
          "within_51k-80K",
          "within_51k-80K",
          "within_51k-80K",
          "within_51k-80K",
          "within_51k-80K",
          "within_21k-50K",
          "within_21k-50K",
          "within_51k-80K",
          "within_20K",
          "within_20K",
          "within_21k-50K",
          "within_51k-80K",
          "within_51k-80K",
          "within 81k-100k",
          "within_51k-80K",
          "within_51k-80K",
          "within_21k-50K",
          "within_21k-50K",
          "within_21k-50K",
          "within_51k-80K",
          "within_21k-50K",
          "within_51k-80K",
          "within_21k-50K",
          "within_21k-50K",
          "within_21k-50K",
          "within_21k-50K",
          "within_21k-50K",
          "within_21k-50K",
          "within_21k-50K",
          "within_21k-50K",
          "within_21k-50K",
          "within 81k-100k",
          "within_51k-80K",
          "within_51k-80K",
          "within_20K",
          "within_51k-80K",
          "within_51k-80K",
          "within_51k-80K",
          "within_21k-50K",
          "within_21k-50K",
          "within_51k-80K",
          "within_51k-80K",
          "within_51k-80K",
          "within_51k-80K",
          "within_21k-50K",
          "within_51k-80K",
          "within 81k-100k",
          "within_51k-80K",
          "within_20K",
          "within_21k-50K",
          "within_21k-50K",
          "within_21k-50K",
          "within_51k-80K",
          "within_51k-80K",
          "within_51k-80K",
          "within_51k-80K",
          "within_21k-50K",
          "within_21k-50K",
          "within_51k-80K",
          "within_51k-80K",
          "within_51k-80K",
          "within_51k-80K",
          "within_51k-80K",
          "within_51k-80K",
          "within_51k-80K",
          "within 81k-100k",
          "within_21k-50K",
          "within_51k-80K",
          "within_51k-80K",
          "within_21k-50K",
          "within_21k-50K",
          "within_51k-80K",
          "within_21k-50K",
          "within_51k-80K",
          "within_21k-50K",
          "within_20K",
          "within_51k-80K",
          "within_51k-80K",
          "within_51k-80K",
          "within 81k-100k",
          "within_51k-80K",
          "within_51k-80K",
          "within_21k-50K",
          "within_51k-80K",
          "within_21k-50K",
          "within_51k-80K",
          "within_20K",
          "within_51k-80K",
          "within_21k-50K",
          "within_21k-50K",
          "within_21k-50K",
          "within_51k-80K",
          "within_51k-80K",
          "within_21k-50K",
          "within_21k-50K"
         ],
         "xaxis": "x",
         "yaxis": "y"
        },
        {
         "alignmentgroup": "True",
         "bingroup": "x",
         "hovertemplate": "Recency_caty=Frequent between 81 to 90 days<br>Income_cat=%{x}<br>count=%{y}<extra></extra>",
         "legendgroup": "Frequent between 81 to 90 days",
         "marker": {
          "color": "#FF6692",
          "pattern": {
           "shape": ""
          }
         },
         "name": "Frequent between 81 to 90 days",
         "offsetgroup": "Frequent between 81 to 90 days",
         "orientation": "v",
         "showlegend": true,
         "texttemplate": "%{value}",
         "type": "histogram",
         "x": [
          "within_51k-80K",
          "within_21k-50K",
          "within_20K",
          "within_21k-50K",
          "within_51k-80K",
          "within_51k-80K",
          "within_21k-50K",
          "within_21k-50K",
          "within_21k-50K",
          "within_21k-50K",
          "within_21k-50K",
          "within_51k-80K",
          "within_21k-50K",
          "within_21k-50K",
          "within_21k-50K",
          "within_51k-80K",
          "within 81k-100k",
          "within_21k-50K",
          "within_21k-50K",
          "within 81k-100k",
          "within_51k-80K",
          "within_51k-80K",
          "within_51k-80K",
          "within_21k-50K",
          "within_51k-80K",
          "within_51k-80K",
          "within_51k-80K",
          "within_21k-50K",
          "within_51k-80K",
          "within_20K",
          "within_21k-50K",
          "within_21k-50K",
          "within_51k-80K",
          "within_21k-50K",
          "within_51k-80K",
          "within_21k-50K",
          "within_21k-50K",
          "within_51k-80K",
          "within_21k-50K",
          "within_21k-50K",
          "within_51k-80K",
          "within_21k-50K",
          "within 81k-100k",
          "within_51k-80K",
          "within_21k-50K",
          "within_51k-80K",
          "within_51k-80K",
          "within_51k-80K",
          "within_51k-80K",
          "within_51k-80K",
          "within_51k-80K",
          "within_21k-50K",
          "within_51k-80K",
          "within_51k-80K",
          "within 81k-100k",
          "within_21k-50K",
          "within_21k-50K",
          "within_51k-80K",
          "within_21k-50K",
          "within_51k-80K",
          "within_51k-80K",
          "within_20K",
          "within_51k-80K",
          "within_51k-80K",
          "within_51k-80K",
          "within_21k-50K",
          "within_51k-80K",
          "within_21k-50K",
          "within_21k-50K",
          "within_51k-80K",
          "within 81k-100k",
          "within 81k-100k",
          "within_51k-80K",
          "within_21k-50K",
          "within_21k-50K",
          "within_21k-50K",
          "within_51k-80K",
          "within_51k-80K",
          "within_51k-80K",
          "within_51k-80K",
          "within_51k-80K",
          "within_21k-50K",
          "within 81k-100k",
          "within_51k-80K",
          "within_21k-50K",
          "within_51k-80K",
          "within_51k-80K",
          "within 81k-100k",
          "within_21k-50K",
          "within_20K",
          "within_51k-80K",
          "within_21k-50K",
          "within_21k-50K",
          "within_51k-80K",
          "within 81k-100k",
          "within_21k-50K",
          "within_21k-50K",
          "within_51k-80K",
          "within_51k-80K",
          "within_51k-80K",
          "within_51k-80K",
          "within_51k-80K",
          "within_51k-80K",
          "within_21k-50K",
          "within 81k-100k",
          "within 81k-100k",
          "within_21k-50K",
          "within_51k-80K",
          "within_20K",
          "within_21k-50K",
          "within_51k-80K",
          "within_51k-80K",
          "within_51k-80K",
          "within_21k-50K",
          "within_21k-50K",
          "within_51k-80K",
          "within_21k-50K",
          "within_21k-50K",
          "within_51k-80K",
          "within_21k-50K",
          "within_21k-50K",
          "within_51k-80K",
          "within_21k-50K",
          "within_21k-50K",
          "within_21k-50K",
          "within_21k-50K",
          "within_21k-50K",
          "within_51k-80K",
          "within 81k-100k",
          "within 81k-100k",
          "within_51k-80K",
          "within_21k-50K",
          "within_21k-50K",
          "within_51k-80K",
          "within_51k-80K",
          "within 81k-100k",
          "within_51k-80K",
          "within_21k-50K",
          "within_21k-50K",
          "within_21k-50K",
          "within_51k-80K",
          "within_51k-80K",
          "within_51k-80K",
          "within_21k-50K",
          "within_21k-50K",
          "within_21k-50K",
          "within_51k-80K",
          "within_21k-50K",
          "within_21k-50K",
          "within_51k-80K",
          "within_51k-80K",
          "within_21k-50K",
          "within_21k-50K",
          "within 81k-100k",
          "within_51k-80K",
          "within_51k-80K",
          "within_21k-50K",
          "within_21k-50K",
          "within_21k-50K",
          "within_21k-50K",
          "within_21k-50K",
          "within_51k-80K",
          "within_51k-80K",
          "within_51k-80K",
          "within_51k-80K",
          "within_20K",
          "within_21k-50K",
          "within_21k-50K",
          "within_51k-80K",
          "within_21k-50K",
          "within 81k-100k",
          "within_21k-50K",
          "within_51k-80K",
          "within_51k-80K",
          "within_21k-50K",
          "within_51k-80K",
          "within_21k-50K",
          "within_51k-80K",
          "within_21k-50K",
          "within_51k-80K",
          "within_21k-50K",
          "within_21k-50K",
          "within_51k-80K",
          "within_21k-50K",
          "within_51k-80K",
          "within 81k-100k",
          "within 81k-100k",
          "within_51k-80K",
          "within 81k-100k",
          "within_21k-50K",
          "within 81k-100k",
          "within_51k-80K",
          "within_51k-80K",
          "within_21k-50K",
          "within_20K",
          "within_51k-80K",
          "within_51k-80K",
          "within_21k-50K",
          "within_21k-50K",
          "within_21k-50K",
          "within_51k-80K",
          "within_21k-50K",
          "within_51k-80K",
          "within 81k-100k",
          "within_51k-80K",
          "within_21k-50K",
          "within_51k-80K",
          "within_21k-50K",
          "within_51k-80K",
          "within_21k-50K",
          "within_51k-80K",
          "within_51k-80K",
          "within_20K",
          "within_21k-50K"
         ],
         "xaxis": "x",
         "yaxis": "y"
        },
        {
         "alignmentgroup": "True",
         "bingroup": "x",
         "hovertemplate": "Recency_caty=Frequent between 41 to 50 days<br>Income_cat=%{x}<br>count=%{y}<extra></extra>",
         "legendgroup": "Frequent between 41 to 50 days",
         "marker": {
          "color": "#B6E880",
          "pattern": {
           "shape": ""
          }
         },
         "name": "Frequent between 41 to 50 days",
         "offsetgroup": "Frequent between 41 to 50 days",
         "orientation": "v",
         "showlegend": true,
         "texttemplate": "%{value}",
         "type": "histogram",
         "x": [
          "within_21k-50K",
          "within_20K",
          "within_21k-50K",
          "within_51k-80K",
          "within_21k-50K",
          "within_51k-80K",
          "within_51k-80K",
          "within 81k-100k",
          "within_51k-80K",
          "within_21k-50K",
          "within_21k-50K",
          "within_51k-80K",
          "within_51k-80K",
          "within_51k-80K",
          "within_21k-50K",
          "within_51k-80K",
          "within_21k-50K",
          "within_51k-80K",
          "within_21k-50K",
          "within_21k-50K",
          "within_21k-50K",
          "within_21k-50K",
          "within_51k-80K",
          "within_51k-80K",
          "within 81k-100k",
          "within_21k-50K",
          "within_21k-50K",
          "within_51k-80K",
          "within_51k-80K",
          "within_21k-50K",
          "within 81k-100k",
          "within_51k-80K",
          "within_51k-80K",
          "within_51k-80K",
          "within_21k-50K",
          "within_21k-50K",
          "within_51k-80K",
          "within_51k-80K",
          "within 81k-100k",
          "within_21k-50K",
          "within_51k-80K",
          "within 81k-100k",
          "within 81k-100k",
          "within_21k-50K",
          "within_51k-80K",
          "within_21k-50K",
          "within_51k-80K",
          "within_51k-80K",
          "within 81k-100k",
          "within_21k-50K",
          "within_51k-80K",
          "within_21k-50K",
          "within_20K",
          "within_21k-50K",
          "within_51k-80K",
          "within_21k-50K",
          "within_21k-50K",
          "within_20K",
          "within_21k-50K",
          "within_51k-80K",
          "within_20K",
          "within_21k-50K",
          "within_51k-80K",
          "within_51k-80K",
          "within_51k-80K",
          "within_21k-50K",
          "within_21k-50K",
          "within_51k-80K",
          "within_51k-80K",
          "within_21k-50K",
          "within_20K",
          "within_51k-80K",
          "within_51k-80K",
          "within_21k-50K",
          "within_51k-80K",
          "within_20K",
          "within_51k-80K",
          "within_21k-50K",
          "within_51k-80K",
          "within_51k-80K",
          "within_21k-50K",
          "within_21k-50K",
          "within 81k-100k",
          "within_21k-50K",
          "within_21k-50K",
          "within_51k-80K",
          "within_21k-50K",
          "within_51k-80K",
          "within_51k-80K",
          "within_51k-80K",
          "within_20K",
          "within_51k-80K",
          "within_51k-80K",
          "within_21k-50K",
          "within_21k-50K",
          "within_21k-50K",
          "within_51k-80K",
          "within_51k-80K",
          "within_51k-80K",
          "within_21k-50K",
          "within_21k-50K",
          "within_20K",
          "within_51k-80K",
          "within_21k-50K",
          "within_51k-80K",
          "within_51k-80K",
          "within_21k-50K",
          "within_51k-80K",
          "within_21k-50K",
          "within_21k-50K",
          "within_51k-80K",
          "within_21k-50K",
          "within_21k-50K",
          "within_21k-50K",
          "within_51k-80K",
          "within_21k-50K",
          "within_51k-80K",
          "within_51k-80K",
          "within_21k-50K",
          "within_21k-50K",
          "within_51k-80K",
          "within_21k-50K",
          "within 81k-100k",
          "within_51k-80K",
          "within_21k-50K",
          "within_21k-50K",
          "within_21k-50K",
          "within_51k-80K",
          "within_51k-80K",
          "within_21k-50K",
          "within_51k-80K",
          "within_21k-50K",
          "within_21k-50K",
          "within_20K",
          "within_51k-80K",
          "within_20K",
          "within_51k-80K",
          "within_51k-80K",
          "within_51k-80K",
          "within_51k-80K",
          "within_21k-50K",
          "within_51k-80K",
          "within_51k-80K",
          "within_21k-50K",
          "within_21k-50K",
          "within_21k-50K",
          "within_51k-80K",
          "within_21k-50K",
          "within_21k-50K",
          "within_20K",
          "within_51k-80K",
          "within_51k-80K",
          "within_51k-80K",
          "within 81k-100k",
          "within_21k-50K",
          "within_21k-50K",
          "within_51k-80K",
          "within_21k-50K",
          "within_21k-50K",
          "within_51k-80K",
          "within_21k-50K",
          "within_20K",
          "within_20K",
          "within_21k-50K",
          "within_51k-80K",
          "within_51k-80K",
          "within_21k-50K",
          "within_51k-80K",
          "within_20K",
          "within_20K",
          "within_51k-80K",
          "within_21k-50K",
          "within_51k-80K",
          "within_21k-50K",
          "within_51k-80K",
          "within_21k-50K",
          "within_51k-80K",
          "within 81k-100k",
          "within_51k-80K",
          "within_51k-80K",
          "within_21k-50K",
          "within_51k-80K",
          "within_21k-50K",
          "within_51k-80K",
          "within 81k-100k",
          "within_51k-80K",
          "within_51k-80K",
          "within 81k-100k",
          "within_51k-80K",
          "within_21k-50K",
          "within_21k-50K",
          "within_21k-50K",
          "within_51k-80K",
          "within_51k-80K",
          "within_51k-80K",
          "within_21k-50K",
          "within_21k-50K",
          "within_51k-80K",
          "within_21k-50K",
          "within 81k-100k",
          "within_51k-80K",
          "within_21k-50K",
          "within_51k-80K",
          "within_51k-80K",
          "within_51k-80K",
          "within_21k-50K",
          "within_51k-80K",
          "within 81k-100k",
          "within 81k-100k",
          "within_21k-50K",
          "within_51k-80K"
         ],
         "xaxis": "x",
         "yaxis": "y"
        },
        {
         "alignmentgroup": "True",
         "bingroup": "x",
         "hovertemplate": "Recency_caty=Most Frequent within 10 days<br>Income_cat=%{x}<br>count=%{y}<extra></extra>",
         "legendgroup": "Most Frequent within 10 days",
         "marker": {
          "color": "#FECB52",
          "pattern": {
           "shape": ""
          }
         },
         "name": "Most Frequent within 10 days",
         "offsetgroup": "Most Frequent within 10 days",
         "orientation": "v",
         "showlegend": true,
         "texttemplate": "%{value}",
         "type": "histogram",
         "x": [
          "within_51k-80K",
          "within_21k-50K",
          "within_51k-80K",
          "within 81k-100k",
          "within_21k-50K",
          "within_51k-80K",
          "within_51k-80K",
          "within_51k-80K",
          "within_51k-80K",
          "within_51k-80K",
          "within_21k-50K",
          "within_51k-80K",
          "within_51k-80K",
          "within_51k-80K",
          "within_51k-80K",
          "within_51k-80K",
          "within_21k-50K",
          "within_51k-80K",
          "within_51k-80K",
          "within_51k-80K",
          "within_20K",
          "within_51k-80K",
          "within_51k-80K",
          "within 81k-100k",
          "within_51k-80K",
          "within_101k-120k",
          "within_21k-50K",
          "within_51k-80K",
          "within_21k-50K",
          "within_21k-50K",
          "within_21k-50K",
          "within_21k-50K",
          "within_51k-80K",
          "within_51k-80K",
          "within_21k-50K",
          "within 81k-100k",
          "within_51k-80K",
          "within_51k-80K",
          "within_51k-80K",
          "within_21k-50K",
          "within_21k-50K",
          "within_51k-80K",
          "within 81k-100k",
          "within_21k-50K",
          "within_51k-80K",
          "within_51k-80K",
          "within_51k-80K",
          "within_21k-50K",
          "within_21k-50K",
          "within_51k-80K",
          "within_21k-50K",
          "within 81k-100k",
          "within 81k-100k",
          "within_21k-50K",
          "within_21k-50K",
          "within_51k-80K",
          "within_21k-50K",
          "within_51k-80K",
          "within_21k-50K",
          "within_21k-50K",
          "within_21k-50K",
          "within_51k-80K",
          "within_51k-80K",
          "within_21k-50K",
          "within_51k-80K",
          "within_21k-50K",
          "within_21k-50K",
          "within_21k-50K",
          "within_51k-80K",
          "within_51k-80K",
          "within_21k-50K",
          "within_51k-80K",
          "within_51k-80K",
          "within_51k-80K",
          "within_21k-50K",
          "within_21k-50K",
          "within_21k-50K",
          "within 81k-100k",
          "within_21k-50K",
          "within_51k-80K",
          "within_21k-50K",
          "within 81k-100k",
          "within_21k-50K",
          "within_21k-50K",
          "within 81k-100k",
          "within_51k-80K",
          "within_51k-80K",
          "within_51k-80K",
          "within 81k-100k",
          "within 81k-100k",
          "within_51k-80K",
          "within_51k-80K",
          "within_20K",
          "within 81k-100k",
          "within_21k-50K",
          "within 81k-100k",
          "within_51k-80K",
          "within 81k-100k",
          "within_21k-50K",
          "within_51k-80K",
          "within_21k-50K",
          "within_21k-50K",
          "within_21k-50K",
          "within_51k-80K",
          "within_21k-50K",
          "within_51k-80K",
          "within 81k-100k",
          "within_21k-50K",
          "within_21k-50K",
          "within_51k-80K",
          "within_21k-50K",
          "within_21k-50K",
          "within 81k-100k",
          "within_21k-50K",
          "within_51k-80K",
          "within_51k-80K",
          "within_51k-80K",
          "within_51k-80K",
          "within_20K",
          "within_51k-80K",
          "within_21k-50K",
          "within_21k-50K",
          "within_21k-50K",
          "within_21k-50K",
          "within_20K",
          "within_20K",
          "within_20K",
          "within_51k-80K",
          "within_21k-50K",
          "within_51k-80K",
          "within_21k-50K",
          "within_51k-80K",
          "within_51k-80K",
          "within_20K",
          "within_21k-50K",
          "within_21k-50K",
          "within 81k-100k",
          "within_21k-50K",
          "within_51k-80K",
          "within_51k-80K",
          "within_21k-50K",
          "within_21k-50K",
          "within_21k-50K",
          "within_51k-80K",
          "within_51k-80K",
          "within_21k-50K",
          "within_51k-80K",
          "within_51k-80K",
          "within_21k-50K",
          "within_21k-50K",
          "within_51k-80K",
          "within_51k-80K",
          "within_21k-50K",
          "within_21k-50K",
          "within_51k-80K",
          "within_21k-50K",
          "within_21k-50K",
          "within_21k-50K",
          "within_51k-80K",
          "within_51k-80K",
          "within_51k-80K",
          "within_20K",
          "within_21k-50K",
          "within_21k-50K",
          "within_21k-50K",
          "within_51k-80K",
          "within_21k-50K",
          "within_20K",
          "within_21k-50K",
          "within_51k-80K",
          "within_20K",
          "within_21k-50K",
          "within_21k-50K",
          "within_51k-80K",
          "within_21k-50K",
          "within_21k-50K",
          "within_21k-50K",
          "within_51k-80K",
          "within_21k-50K",
          "within_21k-50K",
          "within 81k-100k",
          "within_51k-80K",
          "within_21k-50K",
          "within 81k-100k",
          "within_51k-80K",
          "within_51k-80K",
          "within_51k-80K",
          "within_21k-50K",
          "within_51k-80K",
          "within_101k-120k",
          "within_21k-50K",
          "within_21k-50K",
          "within_51k-80K",
          "within_51k-80K",
          "within_51k-80K",
          "within_51k-80K",
          "within_21k-50K",
          "within_21k-50K",
          "within_51k-80K",
          "within_21k-50K",
          "within_51k-80K",
          "within 81k-100k",
          "within_21k-50K",
          "within_21k-50K",
          "within_21k-50K",
          "within_21k-50K",
          "within_51k-80K",
          "within_51k-80K",
          "within_51k-80K",
          "within_51k-80K",
          "within_21k-50K",
          "within_20K",
          "within_21k-50K",
          "within_51k-80K",
          "within_51k-80K",
          "within_51k-80K",
          "within_51k-80K",
          "within_21k-50K",
          "within_21k-50K",
          "within_21k-50K",
          "within_51k-80K",
          "within_51k-80K",
          "within_21k-50K",
          "within_51k-80K",
          "within_21k-50K",
          "within_51k-80K",
          "within_21k-50K",
          "within_20K",
          "within_21k-50K",
          "within_51k-80K"
         ],
         "xaxis": "x",
         "yaxis": "y"
        },
        {
         "alignmentgroup": "True",
         "bingroup": "x",
         "hovertemplate": "Recency_caty=Frequent between 71 to 80 days<br>Income_cat=%{x}<br>count=%{y}<extra></extra>",
         "legendgroup": "Frequent between 71 to 80 days",
         "marker": {
          "color": "#636efa",
          "pattern": {
           "shape": ""
          }
         },
         "name": "Frequent between 71 to 80 days",
         "offsetgroup": "Frequent between 71 to 80 days",
         "orientation": "v",
         "showlegend": true,
         "texttemplate": "%{value}",
         "type": "histogram",
         "x": [
          "within_21k-50K",
          "within_51k-80K",
          "within_21k-50K",
          "within_51k-80K",
          "within_21k-50K",
          "within_21k-50K",
          "within_51k-80K",
          "within_21k-50K",
          "within 81k-100k",
          "within_21k-50K",
          "within_51k-80K",
          "within 81k-100k",
          "within_20K",
          "within_21k-50K",
          "within_51k-80K",
          "within_21k-50K",
          "within_21k-50K",
          "within_51k-80K",
          "within_21k-50K",
          "within_51k-80K",
          "within_51k-80K",
          "within_51k-80K",
          "within_21k-50K",
          "within_21k-50K",
          "within_20K",
          "within_21k-50K",
          "within_21k-50K",
          "within_51k-80K",
          "within_20K",
          "within_51k-80K",
          "within_51k-80K",
          "within_21k-50K",
          "within_20K",
          "within_21k-50K",
          "within_21k-50K",
          "within_51k-80K",
          "within_20K",
          "within 81k-100k",
          "within_51k-80K",
          "within_51k-80K",
          "within_21k-50K",
          "within_51k-80K",
          "within_21k-50K",
          "within_51k-80K",
          "within_51k-80K",
          "within_51k-80K",
          "within_51k-80K",
          "within 81k-100k",
          "within_21k-50K",
          "within 81k-100k",
          "within_21k-50K",
          "within_51k-80K",
          "within_21k-50K",
          "within_51k-80K",
          "within_21k-50K",
          "within_21k-50K",
          "within_51k-80K",
          "within_21k-50K",
          "within 81k-100k",
          "within_51k-80K",
          "within_51k-80K",
          "within_21k-50K",
          "within_51k-80K",
          "within_21k-50K",
          "within_21k-50K",
          "within_21k-50K",
          "within_21k-50K",
          "within 81k-100k",
          "within_51k-80K",
          "within_51k-80K",
          "within_51k-80K",
          "within_20K",
          "within_20K",
          "within_51k-80K",
          "within_51k-80K",
          "within_51k-80K",
          "within_51k-80K",
          "within_51k-80K",
          "within_51k-80K",
          "within_21k-50K",
          "within_21k-50K",
          "within_21k-50K",
          "within_20K",
          "within_51k-80K",
          "within_21k-50K",
          "within_21k-50K",
          "within_51k-80K",
          "within 81k-100k",
          "within_21k-50K",
          "within_21k-50K",
          "within_20K",
          "within_21k-50K",
          "within_21k-50K",
          "within_21k-50K",
          "within_20K",
          "within_21k-50K",
          "within_21k-50K",
          "within_21k-50K",
          "within_51k-80K",
          "within_51k-80K",
          "within_51k-80K",
          "within_21k-50K",
          "within_21k-50K",
          "within 81k-100k",
          "within_21k-50K",
          "within_21k-50K",
          "within_51k-80K",
          "within_21k-50K",
          "within_20K",
          "within_21k-50K",
          "within 81k-100k",
          "within_21k-50K",
          "within 81k-100k",
          "within 81k-100k",
          "within_51k-80K",
          "within_51k-80K",
          "within_51k-80K",
          "within_51k-80K",
          "within_20K",
          "within 81k-100k",
          "within_51k-80K",
          "within_21k-50K",
          "within_21k-50K",
          "within_21k-50K",
          "within_51k-80K",
          "within_21k-50K",
          "within_20K",
          "within_51k-80K",
          "within_51k-80K",
          "within_51k-80K",
          "within_51k-80K",
          "within_51k-80K",
          "within_51k-80K",
          "within 81k-100k",
          "within 81k-100k",
          "within_21k-50K",
          "within 81k-100k",
          "within_21k-50K",
          "within_51k-80K",
          "within_21k-50K",
          "within_51k-80K",
          "within_51k-80K",
          "within_51k-80K",
          "within_51k-80K",
          "within_20K",
          "within_21k-50K",
          "within_21k-50K",
          "within_21k-50K",
          "within_21k-50K",
          "within 81k-100k",
          "within_51k-80K",
          "within_51k-80K",
          "within_51k-80K",
          "within_51k-80K",
          "within_51k-80K",
          "within 81k-100k",
          "within_21k-50K",
          "within_51k-80K",
          "within_21k-50K",
          "within_21k-50K",
          "within 81k-100k",
          "within_21k-50K",
          "within_21k-50K",
          "within_21k-50K",
          "within_51k-80K",
          "within_51k-80K",
          "within_51k-80K",
          "within_51k-80K",
          "within_21k-50K",
          "within_51k-80K",
          "within_21k-50K",
          "within_21k-50K",
          "within 81k-100k",
          "within_51k-80K",
          "within 81k-100k",
          "within_51k-80K",
          "within_51k-80K",
          "within_21k-50K",
          "within 81k-100k",
          "within_20K",
          "within_51k-80K",
          "within 81k-100k",
          "within_21k-50K",
          "within_51k-80K",
          "within_51k-80K",
          "within_21k-50K",
          "within_21k-50K",
          "within_51k-80K",
          "within_21k-50K",
          "within_51k-80K",
          "within_21k-50K",
          "within_51k-80K",
          "within_21k-50K",
          "within_51k-80K",
          "within 81k-100k",
          "within_21k-50K",
          "within_51k-80K",
          "within_21k-50K",
          "within_21k-50K",
          "within_21k-50K",
          "within_51k-80K",
          "within_51k-80K",
          "within_21k-50K",
          "within_21k-50K",
          "within_21k-50K",
          "within_51k-80K",
          "within 81k-100k",
          "within_51k-80K",
          "within_51k-80K",
          "within_51k-80K",
          "within 81k-100k",
          "within_21k-50K",
          "within_51k-80K",
          "within_21k-50K",
          "within_21k-50K",
          "within_21k-50K",
          "within_51k-80K",
          "within_21k-50K",
          "within_21k-50K",
          "within_51k-80K",
          "within_21k-50K",
          "within_51k-80K",
          "within_21k-50K",
          "within_20K",
          "within_51k-80K",
          "within_51k-80K",
          "within_51k-80K",
          "within_20K",
          "within_21k-50K",
          "within_21k-50K",
          "within_21k-50K",
          "within_21k-50K"
         ],
         "xaxis": "x",
         "yaxis": "y"
        }
       ],
       "layout": {
        "barmode": "group",
        "legend": {
         "title": {
          "text": "Recency_caty"
         },
         "tracegroupgap": 0
        },
        "margin": {
         "t": 60
        },
        "template": {
         "data": {
          "bar": [
           {
            "error_x": {
             "color": "#2a3f5f"
            },
            "error_y": {
             "color": "#2a3f5f"
            },
            "marker": {
             "line": {
              "color": "#E5ECF6",
              "width": 0.5
             },
             "pattern": {
              "fillmode": "overlay",
              "size": 10,
              "solidity": 0.2
             }
            },
            "type": "bar"
           }
          ],
          "barpolar": [
           {
            "marker": {
             "line": {
              "color": "#E5ECF6",
              "width": 0.5
             },
             "pattern": {
              "fillmode": "overlay",
              "size": 10,
              "solidity": 0.2
             }
            },
            "type": "barpolar"
           }
          ],
          "carpet": [
           {
            "aaxis": {
             "endlinecolor": "#2a3f5f",
             "gridcolor": "white",
             "linecolor": "white",
             "minorgridcolor": "white",
             "startlinecolor": "#2a3f5f"
            },
            "baxis": {
             "endlinecolor": "#2a3f5f",
             "gridcolor": "white",
             "linecolor": "white",
             "minorgridcolor": "white",
             "startlinecolor": "#2a3f5f"
            },
            "type": "carpet"
           }
          ],
          "choropleth": [
           {
            "colorbar": {
             "outlinewidth": 0,
             "ticks": ""
            },
            "type": "choropleth"
           }
          ],
          "contour": [
           {
            "colorbar": {
             "outlinewidth": 0,
             "ticks": ""
            },
            "colorscale": [
             [
              0,
              "#0d0887"
             ],
             [
              0.1111111111111111,
              "#46039f"
             ],
             [
              0.2222222222222222,
              "#7201a8"
             ],
             [
              0.3333333333333333,
              "#9c179e"
             ],
             [
              0.4444444444444444,
              "#bd3786"
             ],
             [
              0.5555555555555556,
              "#d8576b"
             ],
             [
              0.6666666666666666,
              "#ed7953"
             ],
             [
              0.7777777777777778,
              "#fb9f3a"
             ],
             [
              0.8888888888888888,
              "#fdca26"
             ],
             [
              1,
              "#f0f921"
             ]
            ],
            "type": "contour"
           }
          ],
          "contourcarpet": [
           {
            "colorbar": {
             "outlinewidth": 0,
             "ticks": ""
            },
            "type": "contourcarpet"
           }
          ],
          "heatmap": [
           {
            "colorbar": {
             "outlinewidth": 0,
             "ticks": ""
            },
            "colorscale": [
             [
              0,
              "#0d0887"
             ],
             [
              0.1111111111111111,
              "#46039f"
             ],
             [
              0.2222222222222222,
              "#7201a8"
             ],
             [
              0.3333333333333333,
              "#9c179e"
             ],
             [
              0.4444444444444444,
              "#bd3786"
             ],
             [
              0.5555555555555556,
              "#d8576b"
             ],
             [
              0.6666666666666666,
              "#ed7953"
             ],
             [
              0.7777777777777778,
              "#fb9f3a"
             ],
             [
              0.8888888888888888,
              "#fdca26"
             ],
             [
              1,
              "#f0f921"
             ]
            ],
            "type": "heatmap"
           }
          ],
          "heatmapgl": [
           {
            "colorbar": {
             "outlinewidth": 0,
             "ticks": ""
            },
            "colorscale": [
             [
              0,
              "#0d0887"
             ],
             [
              0.1111111111111111,
              "#46039f"
             ],
             [
              0.2222222222222222,
              "#7201a8"
             ],
             [
              0.3333333333333333,
              "#9c179e"
             ],
             [
              0.4444444444444444,
              "#bd3786"
             ],
             [
              0.5555555555555556,
              "#d8576b"
             ],
             [
              0.6666666666666666,
              "#ed7953"
             ],
             [
              0.7777777777777778,
              "#fb9f3a"
             ],
             [
              0.8888888888888888,
              "#fdca26"
             ],
             [
              1,
              "#f0f921"
             ]
            ],
            "type": "heatmapgl"
           }
          ],
          "histogram": [
           {
            "marker": {
             "pattern": {
              "fillmode": "overlay",
              "size": 10,
              "solidity": 0.2
             }
            },
            "type": "histogram"
           }
          ],
          "histogram2d": [
           {
            "colorbar": {
             "outlinewidth": 0,
             "ticks": ""
            },
            "colorscale": [
             [
              0,
              "#0d0887"
             ],
             [
              0.1111111111111111,
              "#46039f"
             ],
             [
              0.2222222222222222,
              "#7201a8"
             ],
             [
              0.3333333333333333,
              "#9c179e"
             ],
             [
              0.4444444444444444,
              "#bd3786"
             ],
             [
              0.5555555555555556,
              "#d8576b"
             ],
             [
              0.6666666666666666,
              "#ed7953"
             ],
             [
              0.7777777777777778,
              "#fb9f3a"
             ],
             [
              0.8888888888888888,
              "#fdca26"
             ],
             [
              1,
              "#f0f921"
             ]
            ],
            "type": "histogram2d"
           }
          ],
          "histogram2dcontour": [
           {
            "colorbar": {
             "outlinewidth": 0,
             "ticks": ""
            },
            "colorscale": [
             [
              0,
              "#0d0887"
             ],
             [
              0.1111111111111111,
              "#46039f"
             ],
             [
              0.2222222222222222,
              "#7201a8"
             ],
             [
              0.3333333333333333,
              "#9c179e"
             ],
             [
              0.4444444444444444,
              "#bd3786"
             ],
             [
              0.5555555555555556,
              "#d8576b"
             ],
             [
              0.6666666666666666,
              "#ed7953"
             ],
             [
              0.7777777777777778,
              "#fb9f3a"
             ],
             [
              0.8888888888888888,
              "#fdca26"
             ],
             [
              1,
              "#f0f921"
             ]
            ],
            "type": "histogram2dcontour"
           }
          ],
          "mesh3d": [
           {
            "colorbar": {
             "outlinewidth": 0,
             "ticks": ""
            },
            "type": "mesh3d"
           }
          ],
          "parcoords": [
           {
            "line": {
             "colorbar": {
              "outlinewidth": 0,
              "ticks": ""
             }
            },
            "type": "parcoords"
           }
          ],
          "pie": [
           {
            "automargin": true,
            "type": "pie"
           }
          ],
          "scatter": [
           {
            "fillpattern": {
             "fillmode": "overlay",
             "size": 10,
             "solidity": 0.2
            },
            "type": "scatter"
           }
          ],
          "scatter3d": [
           {
            "line": {
             "colorbar": {
              "outlinewidth": 0,
              "ticks": ""
             }
            },
            "marker": {
             "colorbar": {
              "outlinewidth": 0,
              "ticks": ""
             }
            },
            "type": "scatter3d"
           }
          ],
          "scattercarpet": [
           {
            "marker": {
             "colorbar": {
              "outlinewidth": 0,
              "ticks": ""
             }
            },
            "type": "scattercarpet"
           }
          ],
          "scattergeo": [
           {
            "marker": {
             "colorbar": {
              "outlinewidth": 0,
              "ticks": ""
             }
            },
            "type": "scattergeo"
           }
          ],
          "scattergl": [
           {
            "marker": {
             "colorbar": {
              "outlinewidth": 0,
              "ticks": ""
             }
            },
            "type": "scattergl"
           }
          ],
          "scattermapbox": [
           {
            "marker": {
             "colorbar": {
              "outlinewidth": 0,
              "ticks": ""
             }
            },
            "type": "scattermapbox"
           }
          ],
          "scatterpolar": [
           {
            "marker": {
             "colorbar": {
              "outlinewidth": 0,
              "ticks": ""
             }
            },
            "type": "scatterpolar"
           }
          ],
          "scatterpolargl": [
           {
            "marker": {
             "colorbar": {
              "outlinewidth": 0,
              "ticks": ""
             }
            },
            "type": "scatterpolargl"
           }
          ],
          "scatterternary": [
           {
            "marker": {
             "colorbar": {
              "outlinewidth": 0,
              "ticks": ""
             }
            },
            "type": "scatterternary"
           }
          ],
          "surface": [
           {
            "colorbar": {
             "outlinewidth": 0,
             "ticks": ""
            },
            "colorscale": [
             [
              0,
              "#0d0887"
             ],
             [
              0.1111111111111111,
              "#46039f"
             ],
             [
              0.2222222222222222,
              "#7201a8"
             ],
             [
              0.3333333333333333,
              "#9c179e"
             ],
             [
              0.4444444444444444,
              "#bd3786"
             ],
             [
              0.5555555555555556,
              "#d8576b"
             ],
             [
              0.6666666666666666,
              "#ed7953"
             ],
             [
              0.7777777777777778,
              "#fb9f3a"
             ],
             [
              0.8888888888888888,
              "#fdca26"
             ],
             [
              1,
              "#f0f921"
             ]
            ],
            "type": "surface"
           }
          ],
          "table": [
           {
            "cells": {
             "fill": {
              "color": "#EBF0F8"
             },
             "line": {
              "color": "white"
             }
            },
            "header": {
             "fill": {
              "color": "#C8D4E3"
             },
             "line": {
              "color": "white"
             }
            },
            "type": "table"
           }
          ]
         },
         "layout": {
          "annotationdefaults": {
           "arrowcolor": "#2a3f5f",
           "arrowhead": 0,
           "arrowwidth": 1
          },
          "autotypenumbers": "strict",
          "coloraxis": {
           "colorbar": {
            "outlinewidth": 0,
            "ticks": ""
           }
          },
          "colorscale": {
           "diverging": [
            [
             0,
             "#8e0152"
            ],
            [
             0.1,
             "#c51b7d"
            ],
            [
             0.2,
             "#de77ae"
            ],
            [
             0.3,
             "#f1b6da"
            ],
            [
             0.4,
             "#fde0ef"
            ],
            [
             0.5,
             "#f7f7f7"
            ],
            [
             0.6,
             "#e6f5d0"
            ],
            [
             0.7,
             "#b8e186"
            ],
            [
             0.8,
             "#7fbc41"
            ],
            [
             0.9,
             "#4d9221"
            ],
            [
             1,
             "#276419"
            ]
           ],
           "sequential": [
            [
             0,
             "#0d0887"
            ],
            [
             0.1111111111111111,
             "#46039f"
            ],
            [
             0.2222222222222222,
             "#7201a8"
            ],
            [
             0.3333333333333333,
             "#9c179e"
            ],
            [
             0.4444444444444444,
             "#bd3786"
            ],
            [
             0.5555555555555556,
             "#d8576b"
            ],
            [
             0.6666666666666666,
             "#ed7953"
            ],
            [
             0.7777777777777778,
             "#fb9f3a"
            ],
            [
             0.8888888888888888,
             "#fdca26"
            ],
            [
             1,
             "#f0f921"
            ]
           ],
           "sequentialminus": [
            [
             0,
             "#0d0887"
            ],
            [
             0.1111111111111111,
             "#46039f"
            ],
            [
             0.2222222222222222,
             "#7201a8"
            ],
            [
             0.3333333333333333,
             "#9c179e"
            ],
            [
             0.4444444444444444,
             "#bd3786"
            ],
            [
             0.5555555555555556,
             "#d8576b"
            ],
            [
             0.6666666666666666,
             "#ed7953"
            ],
            [
             0.7777777777777778,
             "#fb9f3a"
            ],
            [
             0.8888888888888888,
             "#fdca26"
            ],
            [
             1,
             "#f0f921"
            ]
           ]
          },
          "colorway": [
           "#636efa",
           "#EF553B",
           "#00cc96",
           "#ab63fa",
           "#FFA15A",
           "#19d3f3",
           "#FF6692",
           "#B6E880",
           "#FF97FF",
           "#FECB52"
          ],
          "font": {
           "color": "#2a3f5f"
          },
          "geo": {
           "bgcolor": "white",
           "lakecolor": "white",
           "landcolor": "#E5ECF6",
           "showlakes": true,
           "showland": true,
           "subunitcolor": "white"
          },
          "hoverlabel": {
           "align": "left"
          },
          "hovermode": "closest",
          "mapbox": {
           "style": "light"
          },
          "paper_bgcolor": "white",
          "plot_bgcolor": "#E5ECF6",
          "polar": {
           "angularaxis": {
            "gridcolor": "white",
            "linecolor": "white",
            "ticks": ""
           },
           "bgcolor": "#E5ECF6",
           "radialaxis": {
            "gridcolor": "white",
            "linecolor": "white",
            "ticks": ""
           }
          },
          "scene": {
           "xaxis": {
            "backgroundcolor": "#E5ECF6",
            "gridcolor": "white",
            "gridwidth": 2,
            "linecolor": "white",
            "showbackground": true,
            "ticks": "",
            "zerolinecolor": "white"
           },
           "yaxis": {
            "backgroundcolor": "#E5ECF6",
            "gridcolor": "white",
            "gridwidth": 2,
            "linecolor": "white",
            "showbackground": true,
            "ticks": "",
            "zerolinecolor": "white"
           },
           "zaxis": {
            "backgroundcolor": "#E5ECF6",
            "gridcolor": "white",
            "gridwidth": 2,
            "linecolor": "white",
            "showbackground": true,
            "ticks": "",
            "zerolinecolor": "white"
           }
          },
          "shapedefaults": {
           "line": {
            "color": "#2a3f5f"
           }
          },
          "ternary": {
           "aaxis": {
            "gridcolor": "white",
            "linecolor": "white",
            "ticks": ""
           },
           "baxis": {
            "gridcolor": "white",
            "linecolor": "white",
            "ticks": ""
           },
           "bgcolor": "#E5ECF6",
           "caxis": {
            "gridcolor": "white",
            "linecolor": "white",
            "ticks": ""
           }
          },
          "title": {
           "x": 0.05
          },
          "xaxis": {
           "automargin": true,
           "gridcolor": "white",
           "linecolor": "white",
           "ticks": "",
           "title": {
            "standoff": 15
           },
           "zerolinecolor": "white",
           "zerolinewidth": 2
          },
          "yaxis": {
           "automargin": true,
           "gridcolor": "white",
           "linecolor": "white",
           "ticks": "",
           "title": {
            "standoff": 15
           },
           "zerolinecolor": "white",
           "zerolinewidth": 2
          }
         }
        },
        "xaxis": {
         "anchor": "y",
         "domain": [
          0,
          1
         ],
         "title": {
          "text": "Income_cat"
         }
        },
        "yaxis": {
         "anchor": "x",
         "domain": [
          0,
          1
         ],
         "title": {
          "text": "count"
         }
        }
       }
      }
     },
     "metadata": {},
     "output_type": "display_data"
    }
   ],
   "source": [
    "px.histogram(data,x = data[\"Income_cat\"],color=data['Recency_caty'],barmode = 'group',text_auto=True)"
   ]
  },
  {
   "cell_type": "code",
   "execution_count": 52,
   "metadata": {},
   "outputs": [],
   "source": [
    "recent_items = data[(data['Recency_caty'] == 'Most Frequent within 10 days') | (data['Recency_caty'] == 'Frequent between 11 to 20 days')]"
   ]
  },
  {
   "cell_type": "code",
   "execution_count": 58,
   "metadata": {},
   "outputs": [
    {
     "data": {
      "application/vnd.plotly.v1+json": {
       "config": {
        "plotlyServerURL": "https://plot.ly"
       },
       "data": [
        {
         "alignmentgroup": "True",
         "hovertemplate": "Recency_caty=Frequent between 11 to 20 days<br>Income_cat=%{x}<br>MntWines=%{y}<extra></extra>",
         "legendgroup": "Frequent between 11 to 20 days",
         "marker": {
          "color": "#636efa",
          "pattern": {
           "shape": ""
          }
         },
         "name": "Frequent between 11 to 20 days",
         "offsetgroup": "Frequent between 11 to 20 days",
         "orientation": "v",
         "showlegend": true,
         "textposition": "auto",
         "type": "bar",
         "x": [
          "within_51k-80K",
          "within_21k-50K",
          "within_21k-50K",
          "within_20K",
          "within_51k-80K",
          "within_51k-80K",
          "within 81k-100k",
          "within_21k-50K",
          "within 81k-100k",
          "within_21k-50K",
          "within_21k-50K",
          "within 81k-100k",
          "within_21k-50K",
          "within_21k-50K",
          "within_21k-50K",
          "within_21k-50K",
          "within_51k-80K",
          "within_51k-80K",
          "within_21k-50K",
          "within_51k-80K",
          "within_21k-50K",
          "within 81k-100k",
          "within_51k-80K",
          "within_21k-50K",
          "within_51k-80K",
          "within_51k-80K",
          "within_21k-50K",
          "within_21k-50K",
          "within_21k-50K",
          "within_21k-50K",
          "within_51k-80K",
          "within_51k-80K",
          "within_21k-50K",
          "within_21k-50K",
          "within_21k-50K",
          "within_51k-80K",
          "within_21k-50K",
          "within 81k-100k",
          "within_21k-50K",
          "within_21k-50K",
          "within_51k-80K",
          "within_21k-50K",
          "within_51k-80K",
          "within_21k-50K",
          "within_21k-50K",
          "within_21k-50K",
          "within_51k-80K",
          "within_21k-50K",
          "within_21k-50K",
          "within 81k-100k",
          "within_21k-50K",
          "within_51k-80K",
          "within_51k-80K",
          "within_20K",
          "within_21k-50K",
          "within_21k-50K",
          "within_51k-80K",
          "within_21k-50K",
          "within_21k-50K",
          "within_51k-80K",
          "within_51k-80K",
          "within 81k-100k",
          "within_51k-80K",
          "within_51k-80K",
          "within_51k-80K",
          "within_51k-80K",
          "within_51k-80K",
          "within_21k-50K",
          "within_20K",
          "within_21k-50K",
          "within_21k-50K",
          "within_51k-80K",
          "within 81k-100k",
          "within_21k-50K",
          "within 81k-100k",
          "within_21k-50K",
          "within_51k-80K",
          "within_21k-50K",
          "within 81k-100k",
          "within_20K",
          "within 81k-100k",
          "within 81k-100k",
          "within_51k-80K",
          "within_21k-50K",
          "within_51k-80K",
          "within_51k-80K",
          "within_51k-80K",
          "within_21k-50K",
          "within_21k-50K",
          "within_21k-50K",
          "within 81k-100k",
          "within_21k-50K",
          "within_21k-50K",
          "within_51k-80K",
          "within_21k-50K",
          "within_21k-50K",
          "within_21k-50K",
          "within_20K",
          "within 81k-100k",
          "within 81k-100k",
          "within_21k-50K",
          "within_21k-50K",
          "within_51k-80K",
          "within_21k-50K",
          "within_20K",
          "within_21k-50K",
          "within_51k-80K",
          "within_51k-80K",
          "within_51k-80K",
          "within_51k-80K",
          "within_51k-80K",
          "within_21k-50K",
          "within 81k-100k",
          "within_51k-80K",
          "within_21k-50K",
          "within_51k-80K",
          "within_21k-50K",
          "within_21k-50K",
          "within_21k-50K",
          "within_51k-80K",
          "within_51k-80K",
          "within_21k-50K",
          "within_21k-50K",
          "within_51k-80K",
          "within_21k-50K",
          "within_20K",
          "within_51k-80K",
          "within_51k-80K",
          "within 81k-100k",
          "within_51k-80K",
          "within_21k-50K",
          "within_20K",
          "within_21k-50K",
          "within_51k-80K",
          "within_51k-80K",
          "within_51k-80K",
          "within_21k-50K",
          "within_51k-80K",
          "within_51k-80K",
          "within_51k-80K",
          "within_51k-80K",
          "within_21k-50K",
          "within_21k-50K",
          "within 81k-100k",
          "within_21k-50K",
          "within_21k-50K",
          "within_51k-80K",
          "within_21k-50K",
          "within_51k-80K",
          "within_51k-80K",
          "within_21k-50K",
          "within_21k-50K",
          "within_51k-80K",
          "within_21k-50K",
          "within_51k-80K",
          "within_51k-80K",
          "within_21k-50K",
          "within 81k-100k",
          "within_21k-50K",
          "within_51k-80K",
          "within_20K",
          "within_21k-50K",
          "within_51k-80K",
          "within_21k-50K",
          "within_51k-80K",
          "within 81k-100k",
          "within_21k-50K",
          "within_51k-80K",
          "within_21k-50K",
          "within_21k-50K",
          "within_21k-50K",
          "within_21k-50K",
          "within_21k-50K",
          "within_21k-50K",
          "within_51k-80K",
          "within_51k-80K",
          "within_51k-80K",
          "within_21k-50K",
          "within_21k-50K",
          "within 81k-100k",
          "within_21k-50K",
          "within_51k-80K",
          "within_51k-80K",
          "within_20K",
          "within_51k-80K",
          "within_21k-50K",
          "within_21k-50K",
          "within_21k-50K",
          "within_21k-50K",
          "within_20K",
          "within_21k-50K",
          "within_51k-80K",
          "within_51k-80K",
          "within_21k-50K",
          "within_21k-50K",
          "within_21k-50K",
          "within_21k-50K",
          "within_21k-50K",
          "within_21k-50K",
          "within_51k-80K",
          "within_21k-50K",
          "within_21k-50K",
          "within_21k-50K",
          "within_21k-50K",
          "within_51k-80K",
          "within_21k-50K",
          "within_21k-50K",
          "within_20K",
          "within_51k-80K",
          "within_51k-80K",
          "within_20K",
          "within_51k-80K",
          "within_20K",
          "within_51k-80K"
         ],
         "xaxis": "x",
         "y": [
          520,
          14,
          84,
          3,
          712,
          452,
          688,
          1,
          163,
          144,
          76,
          454,
          378,
          34,
          32,
          5,
          1349,
          81,
          47,
          783,
          42,
          344,
          1170,
          72,
          613,
          182,
          10,
          16,
          84,
          26,
          304,
          395,
          20,
          6,
          154,
          185,
          10,
          856,
          37,
          1,
          546,
          10,
          1043,
          43,
          314,
          96,
          416,
          19,
          14,
          966,
          19,
          357,
          400,
          3,
          10,
          14,
          1239,
          4,
          2,
          451,
          1170,
          1035,
          881,
          1000,
          464,
          465,
          129,
          12,
          6,
          19,
          88,
          129,
          514,
          305,
          1004,
          56,
          365,
          6,
          345,
          7,
          412,
          778,
          647,
          39,
          584,
          376,
          840,
          18,
          5,
          224,
          387,
          6,
          27,
          181,
          63,
          79,
          14,
          2,
          674,
          1023,
          63,
          30,
          201,
          8,
          10,
          172,
          565,
          918,
          70,
          53,
          391,
          74,
          777,
          162,
          342,
          658,
          19,
          4,
          27,
          964,
          625,
          27,
          1,
          817,
          113,
          1,
          558,
          209,
          779,
          1205,
          66,
          32,
          6,
          641,
          420,
          691,
          25,
          100,
          422,
          279,
          129,
          5,
          9,
          1302,
          9,
          69,
          267,
          209,
          931,
          331,
          2,
          19,
          490,
          5,
          71,
          459,
          233,
          163,
          158,
          836,
          4,
          123,
          629,
          24,
          267,
          1184,
          8,
          667,
          172,
          22,
          40,
          71,
          153,
          18,
          163,
          402,
          298,
          159,
          56,
          209,
          2,
          383,
          666,
          0,
          488,
          100,
          42,
          15,
          279,
          32,
          69,
          256,
          338,
          20,
          261,
          29,
          40,
          3,
          6,
          180,
          16,
          0,
          70,
          4,
          912,
          71,
          26,
          1,
          492,
          28,
          32,
          269,
          12,
          712
         ],
         "yaxis": "y"
        },
        {
         "alignmentgroup": "True",
         "hovertemplate": "Recency_caty=Most Frequent within 10 days<br>Income_cat=%{x}<br>MntWines=%{y}<extra></extra>",
         "legendgroup": "Most Frequent within 10 days",
         "marker": {
          "color": "#EF553B",
          "pattern": {
           "shape": ""
          }
         },
         "name": "Most Frequent within 10 days",
         "offsetgroup": "Most Frequent within 10 days",
         "orientation": "v",
         "showlegend": true,
         "textposition": "auto",
         "type": "bar",
         "x": [
          "within_51k-80K",
          "within_21k-50K",
          "within_51k-80K",
          "within 81k-100k",
          "within_21k-50K",
          "within_51k-80K",
          "within_51k-80K",
          "within_51k-80K",
          "within_51k-80K",
          "within_51k-80K",
          "within_21k-50K",
          "within_51k-80K",
          "within_51k-80K",
          "within_51k-80K",
          "within_51k-80K",
          "within_51k-80K",
          "within_21k-50K",
          "within_51k-80K",
          "within_51k-80K",
          "within_51k-80K",
          "within_20K",
          "within_51k-80K",
          "within_51k-80K",
          "within 81k-100k",
          "within_51k-80K",
          "within_101k-120k",
          "within_21k-50K",
          "within_51k-80K",
          "within_21k-50K",
          "within_21k-50K",
          "within_21k-50K",
          "within_21k-50K",
          "within_51k-80K",
          "within_51k-80K",
          "within_21k-50K",
          "within 81k-100k",
          "within_51k-80K",
          "within_51k-80K",
          "within_51k-80K",
          "within_21k-50K",
          "within_21k-50K",
          "within_51k-80K",
          "within 81k-100k",
          "within_21k-50K",
          "within_51k-80K",
          "within_51k-80K",
          "within_51k-80K",
          "within_21k-50K",
          "within_21k-50K",
          "within_51k-80K",
          "within_21k-50K",
          "within 81k-100k",
          "within 81k-100k",
          "within_21k-50K",
          "within_21k-50K",
          "within_51k-80K",
          "within_21k-50K",
          "within_51k-80K",
          "within_21k-50K",
          "within_21k-50K",
          "within_21k-50K",
          "within_51k-80K",
          "within_51k-80K",
          "within_21k-50K",
          "within_51k-80K",
          "within_21k-50K",
          "within_21k-50K",
          "within_21k-50K",
          "within_51k-80K",
          "within_51k-80K",
          "within_21k-50K",
          "within_51k-80K",
          "within_51k-80K",
          "within_51k-80K",
          "within_21k-50K",
          "within_21k-50K",
          "within_21k-50K",
          "within 81k-100k",
          "within_21k-50K",
          "within_51k-80K",
          "within_21k-50K",
          "within 81k-100k",
          "within_21k-50K",
          "within_21k-50K",
          "within 81k-100k",
          "within_51k-80K",
          "within_51k-80K",
          "within_51k-80K",
          "within 81k-100k",
          "within 81k-100k",
          "within_51k-80K",
          "within_51k-80K",
          "within_20K",
          "within 81k-100k",
          "within_21k-50K",
          "within 81k-100k",
          "within_51k-80K",
          "within 81k-100k",
          "within_21k-50K",
          "within_51k-80K",
          "within_21k-50K",
          "within_21k-50K",
          "within_21k-50K",
          "within_51k-80K",
          "within_21k-50K",
          "within_51k-80K",
          "within 81k-100k",
          "within_21k-50K",
          "within_21k-50K",
          "within_51k-80K",
          "within_21k-50K",
          "within_21k-50K",
          "within 81k-100k",
          "within_21k-50K",
          "within_51k-80K",
          "within_51k-80K",
          "within_51k-80K",
          "within_51k-80K",
          "within_20K",
          "within_51k-80K",
          "within_21k-50K",
          "within_21k-50K",
          "within_21k-50K",
          "within_21k-50K",
          "within_20K",
          "within_20K",
          "within_20K",
          "within_51k-80K",
          "within_21k-50K",
          "within_51k-80K",
          "within_21k-50K",
          "within_51k-80K",
          "within_51k-80K",
          "within_20K",
          "within_21k-50K",
          "within_21k-50K",
          "within 81k-100k",
          "within_21k-50K",
          "within_51k-80K",
          "within_51k-80K",
          "within_21k-50K",
          "within_21k-50K",
          "within_21k-50K",
          "within_51k-80K",
          "within_51k-80K",
          "within_21k-50K",
          "within_51k-80K",
          "within_51k-80K",
          "within_21k-50K",
          "within_21k-50K",
          "within_51k-80K",
          "within_51k-80K",
          "within_21k-50K",
          "within_21k-50K",
          "within_51k-80K",
          "within_21k-50K",
          "within_21k-50K",
          "within_21k-50K",
          "within_51k-80K",
          "within_51k-80K",
          "within_51k-80K",
          "within_20K",
          "within_21k-50K",
          "within_21k-50K",
          "within_21k-50K",
          "within_51k-80K",
          "within_21k-50K",
          "within_20K",
          "within_21k-50K",
          "within_51k-80K",
          "within_20K",
          "within_21k-50K",
          "within_21k-50K",
          "within_51k-80K",
          "within_21k-50K",
          "within_21k-50K",
          "within_21k-50K",
          "within_51k-80K",
          "within_21k-50K",
          "within_21k-50K",
          "within 81k-100k",
          "within_51k-80K",
          "within_21k-50K",
          "within 81k-100k",
          "within_51k-80K",
          "within_51k-80K",
          "within_51k-80K",
          "within_21k-50K",
          "within_51k-80K",
          "within_101k-120k",
          "within_21k-50K",
          "within_21k-50K",
          "within_51k-80K",
          "within_51k-80K",
          "within_51k-80K",
          "within_51k-80K",
          "within_21k-50K",
          "within_21k-50K",
          "within_51k-80K",
          "within_21k-50K",
          "within_51k-80K",
          "within 81k-100k",
          "within_21k-50K",
          "within_21k-50K",
          "within_21k-50K",
          "within_21k-50K",
          "within_51k-80K",
          "within_51k-80K",
          "within_51k-80K",
          "within_51k-80K",
          "within_21k-50K",
          "within_20K",
          "within_21k-50K",
          "within_51k-80K",
          "within_51k-80K",
          "within_51k-80K",
          "within_51k-80K",
          "within_21k-50K",
          "within_21k-50K",
          "within_21k-50K",
          "within_51k-80K",
          "within_51k-80K",
          "within_21k-50K",
          "within_51k-80K",
          "within_21k-50K",
          "within_51k-80K",
          "within_21k-50K",
          "within_20K",
          "within_21k-50K",
          "within_51k-80K"
         ],
         "xaxis": "x",
         "y": [
          173,
          96,
          482,
          421,
          9,
          650,
          546,
          247,
          496,
          577,
          4,
          292,
          120,
          236,
          738,
          997,
          212,
          42,
          1001,
          85,
          6,
          12,
          520,
          983,
          559,
          168,
          177,
          167,
          9,
          16,
          22,
          23,
          797,
          561,
          38,
          594,
          610,
          155,
          1200,
          604,
          10,
          378,
          1248,
          14,
          522,
          738,
          388,
          28,
          16,
          325,
          65,
          1478,
          179,
          30,
          174,
          117,
          31,
          399,
          12,
          179,
          14,
          121,
          125,
          219,
          260,
          67,
          23,
          8,
          670,
          948,
          11,
          587,
          595,
          180,
          392,
          1,
          4,
          606,
          12,
          184,
          2,
          362,
          408,
          34,
          600,
          852,
          316,
          151,
          464,
          1478,
          760,
          588,
          16,
          318,
          27,
          1296,
          384,
          1285,
          13,
          458,
          68,
          45,
          14,
          463,
          4,
          1099,
          530,
          288,
          9,
          234,
          4,
          38,
          709,
          16,
          381,
          863,
          277,
          341,
          1,
          279,
          46,
          145,
          3,
          30,
          6,
          7,
          67,
          345,
          73,
          711,
          262,
          1099,
          823,
          6,
          283,
          5,
          992,
          9,
          158,
          622,
          97,
          20,
          7,
          458,
          508,
          30,
          460,
          423,
          30,
          3,
          784,
          448,
          33,
          10,
          532,
          268,
          35,
          322,
          739,
          158,
          216,
          16,
          9,
          7,
          50,
          493,
          29,
          6,
          70,
          462,
          5,
          194,
          56,
          303,
          3,
          80,
          194,
          71,
          199,
          376,
          292,
          531,
          5,
          179,
          539,
          823,
          502,
          1,
          664,
          6,
          23,
          2,
          154,
          145,
          1285,
          1462,
          199,
          58,
          62,
          9,
          1092,
          448,
          68,
          94,
          9,
          520,
          315,
          532,
          835,
          229,
          520,
          13,
          4,
          62,
          158,
          890,
          496,
          9,
          11,
          200,
          531,
          1074,
          322,
          530,
          9,
          297,
          322,
          2,
          3,
          428
         ],
         "yaxis": "y"
        }
       ],
       "layout": {
        "barmode": "group",
        "legend": {
         "title": {
          "text": "Recency_caty"
         },
         "tracegroupgap": 0
        },
        "margin": {
         "t": 60
        },
        "template": {
         "data": {
          "bar": [
           {
            "error_x": {
             "color": "#2a3f5f"
            },
            "error_y": {
             "color": "#2a3f5f"
            },
            "marker": {
             "line": {
              "color": "#E5ECF6",
              "width": 0.5
             },
             "pattern": {
              "fillmode": "overlay",
              "size": 10,
              "solidity": 0.2
             }
            },
            "type": "bar"
           }
          ],
          "barpolar": [
           {
            "marker": {
             "line": {
              "color": "#E5ECF6",
              "width": 0.5
             },
             "pattern": {
              "fillmode": "overlay",
              "size": 10,
              "solidity": 0.2
             }
            },
            "type": "barpolar"
           }
          ],
          "carpet": [
           {
            "aaxis": {
             "endlinecolor": "#2a3f5f",
             "gridcolor": "white",
             "linecolor": "white",
             "minorgridcolor": "white",
             "startlinecolor": "#2a3f5f"
            },
            "baxis": {
             "endlinecolor": "#2a3f5f",
             "gridcolor": "white",
             "linecolor": "white",
             "minorgridcolor": "white",
             "startlinecolor": "#2a3f5f"
            },
            "type": "carpet"
           }
          ],
          "choropleth": [
           {
            "colorbar": {
             "outlinewidth": 0,
             "ticks": ""
            },
            "type": "choropleth"
           }
          ],
          "contour": [
           {
            "colorbar": {
             "outlinewidth": 0,
             "ticks": ""
            },
            "colorscale": [
             [
              0,
              "#0d0887"
             ],
             [
              0.1111111111111111,
              "#46039f"
             ],
             [
              0.2222222222222222,
              "#7201a8"
             ],
             [
              0.3333333333333333,
              "#9c179e"
             ],
             [
              0.4444444444444444,
              "#bd3786"
             ],
             [
              0.5555555555555556,
              "#d8576b"
             ],
             [
              0.6666666666666666,
              "#ed7953"
             ],
             [
              0.7777777777777778,
              "#fb9f3a"
             ],
             [
              0.8888888888888888,
              "#fdca26"
             ],
             [
              1,
              "#f0f921"
             ]
            ],
            "type": "contour"
           }
          ],
          "contourcarpet": [
           {
            "colorbar": {
             "outlinewidth": 0,
             "ticks": ""
            },
            "type": "contourcarpet"
           }
          ],
          "heatmap": [
           {
            "colorbar": {
             "outlinewidth": 0,
             "ticks": ""
            },
            "colorscale": [
             [
              0,
              "#0d0887"
             ],
             [
              0.1111111111111111,
              "#46039f"
             ],
             [
              0.2222222222222222,
              "#7201a8"
             ],
             [
              0.3333333333333333,
              "#9c179e"
             ],
             [
              0.4444444444444444,
              "#bd3786"
             ],
             [
              0.5555555555555556,
              "#d8576b"
             ],
             [
              0.6666666666666666,
              "#ed7953"
             ],
             [
              0.7777777777777778,
              "#fb9f3a"
             ],
             [
              0.8888888888888888,
              "#fdca26"
             ],
             [
              1,
              "#f0f921"
             ]
            ],
            "type": "heatmap"
           }
          ],
          "heatmapgl": [
           {
            "colorbar": {
             "outlinewidth": 0,
             "ticks": ""
            },
            "colorscale": [
             [
              0,
              "#0d0887"
             ],
             [
              0.1111111111111111,
              "#46039f"
             ],
             [
              0.2222222222222222,
              "#7201a8"
             ],
             [
              0.3333333333333333,
              "#9c179e"
             ],
             [
              0.4444444444444444,
              "#bd3786"
             ],
             [
              0.5555555555555556,
              "#d8576b"
             ],
             [
              0.6666666666666666,
              "#ed7953"
             ],
             [
              0.7777777777777778,
              "#fb9f3a"
             ],
             [
              0.8888888888888888,
              "#fdca26"
             ],
             [
              1,
              "#f0f921"
             ]
            ],
            "type": "heatmapgl"
           }
          ],
          "histogram": [
           {
            "marker": {
             "pattern": {
              "fillmode": "overlay",
              "size": 10,
              "solidity": 0.2
             }
            },
            "type": "histogram"
           }
          ],
          "histogram2d": [
           {
            "colorbar": {
             "outlinewidth": 0,
             "ticks": ""
            },
            "colorscale": [
             [
              0,
              "#0d0887"
             ],
             [
              0.1111111111111111,
              "#46039f"
             ],
             [
              0.2222222222222222,
              "#7201a8"
             ],
             [
              0.3333333333333333,
              "#9c179e"
             ],
             [
              0.4444444444444444,
              "#bd3786"
             ],
             [
              0.5555555555555556,
              "#d8576b"
             ],
             [
              0.6666666666666666,
              "#ed7953"
             ],
             [
              0.7777777777777778,
              "#fb9f3a"
             ],
             [
              0.8888888888888888,
              "#fdca26"
             ],
             [
              1,
              "#f0f921"
             ]
            ],
            "type": "histogram2d"
           }
          ],
          "histogram2dcontour": [
           {
            "colorbar": {
             "outlinewidth": 0,
             "ticks": ""
            },
            "colorscale": [
             [
              0,
              "#0d0887"
             ],
             [
              0.1111111111111111,
              "#46039f"
             ],
             [
              0.2222222222222222,
              "#7201a8"
             ],
             [
              0.3333333333333333,
              "#9c179e"
             ],
             [
              0.4444444444444444,
              "#bd3786"
             ],
             [
              0.5555555555555556,
              "#d8576b"
             ],
             [
              0.6666666666666666,
              "#ed7953"
             ],
             [
              0.7777777777777778,
              "#fb9f3a"
             ],
             [
              0.8888888888888888,
              "#fdca26"
             ],
             [
              1,
              "#f0f921"
             ]
            ],
            "type": "histogram2dcontour"
           }
          ],
          "mesh3d": [
           {
            "colorbar": {
             "outlinewidth": 0,
             "ticks": ""
            },
            "type": "mesh3d"
           }
          ],
          "parcoords": [
           {
            "line": {
             "colorbar": {
              "outlinewidth": 0,
              "ticks": ""
             }
            },
            "type": "parcoords"
           }
          ],
          "pie": [
           {
            "automargin": true,
            "type": "pie"
           }
          ],
          "scatter": [
           {
            "fillpattern": {
             "fillmode": "overlay",
             "size": 10,
             "solidity": 0.2
            },
            "type": "scatter"
           }
          ],
          "scatter3d": [
           {
            "line": {
             "colorbar": {
              "outlinewidth": 0,
              "ticks": ""
             }
            },
            "marker": {
             "colorbar": {
              "outlinewidth": 0,
              "ticks": ""
             }
            },
            "type": "scatter3d"
           }
          ],
          "scattercarpet": [
           {
            "marker": {
             "colorbar": {
              "outlinewidth": 0,
              "ticks": ""
             }
            },
            "type": "scattercarpet"
           }
          ],
          "scattergeo": [
           {
            "marker": {
             "colorbar": {
              "outlinewidth": 0,
              "ticks": ""
             }
            },
            "type": "scattergeo"
           }
          ],
          "scattergl": [
           {
            "marker": {
             "colorbar": {
              "outlinewidth": 0,
              "ticks": ""
             }
            },
            "type": "scattergl"
           }
          ],
          "scattermapbox": [
           {
            "marker": {
             "colorbar": {
              "outlinewidth": 0,
              "ticks": ""
             }
            },
            "type": "scattermapbox"
           }
          ],
          "scatterpolar": [
           {
            "marker": {
             "colorbar": {
              "outlinewidth": 0,
              "ticks": ""
             }
            },
            "type": "scatterpolar"
           }
          ],
          "scatterpolargl": [
           {
            "marker": {
             "colorbar": {
              "outlinewidth": 0,
              "ticks": ""
             }
            },
            "type": "scatterpolargl"
           }
          ],
          "scatterternary": [
           {
            "marker": {
             "colorbar": {
              "outlinewidth": 0,
              "ticks": ""
             }
            },
            "type": "scatterternary"
           }
          ],
          "surface": [
           {
            "colorbar": {
             "outlinewidth": 0,
             "ticks": ""
            },
            "colorscale": [
             [
              0,
              "#0d0887"
             ],
             [
              0.1111111111111111,
              "#46039f"
             ],
             [
              0.2222222222222222,
              "#7201a8"
             ],
             [
              0.3333333333333333,
              "#9c179e"
             ],
             [
              0.4444444444444444,
              "#bd3786"
             ],
             [
              0.5555555555555556,
              "#d8576b"
             ],
             [
              0.6666666666666666,
              "#ed7953"
             ],
             [
              0.7777777777777778,
              "#fb9f3a"
             ],
             [
              0.8888888888888888,
              "#fdca26"
             ],
             [
              1,
              "#f0f921"
             ]
            ],
            "type": "surface"
           }
          ],
          "table": [
           {
            "cells": {
             "fill": {
              "color": "#EBF0F8"
             },
             "line": {
              "color": "white"
             }
            },
            "header": {
             "fill": {
              "color": "#C8D4E3"
             },
             "line": {
              "color": "white"
             }
            },
            "type": "table"
           }
          ]
         },
         "layout": {
          "annotationdefaults": {
           "arrowcolor": "#2a3f5f",
           "arrowhead": 0,
           "arrowwidth": 1
          },
          "autotypenumbers": "strict",
          "coloraxis": {
           "colorbar": {
            "outlinewidth": 0,
            "ticks": ""
           }
          },
          "colorscale": {
           "diverging": [
            [
             0,
             "#8e0152"
            ],
            [
             0.1,
             "#c51b7d"
            ],
            [
             0.2,
             "#de77ae"
            ],
            [
             0.3,
             "#f1b6da"
            ],
            [
             0.4,
             "#fde0ef"
            ],
            [
             0.5,
             "#f7f7f7"
            ],
            [
             0.6,
             "#e6f5d0"
            ],
            [
             0.7,
             "#b8e186"
            ],
            [
             0.8,
             "#7fbc41"
            ],
            [
             0.9,
             "#4d9221"
            ],
            [
             1,
             "#276419"
            ]
           ],
           "sequential": [
            [
             0,
             "#0d0887"
            ],
            [
             0.1111111111111111,
             "#46039f"
            ],
            [
             0.2222222222222222,
             "#7201a8"
            ],
            [
             0.3333333333333333,
             "#9c179e"
            ],
            [
             0.4444444444444444,
             "#bd3786"
            ],
            [
             0.5555555555555556,
             "#d8576b"
            ],
            [
             0.6666666666666666,
             "#ed7953"
            ],
            [
             0.7777777777777778,
             "#fb9f3a"
            ],
            [
             0.8888888888888888,
             "#fdca26"
            ],
            [
             1,
             "#f0f921"
            ]
           ],
           "sequentialminus": [
            [
             0,
             "#0d0887"
            ],
            [
             0.1111111111111111,
             "#46039f"
            ],
            [
             0.2222222222222222,
             "#7201a8"
            ],
            [
             0.3333333333333333,
             "#9c179e"
            ],
            [
             0.4444444444444444,
             "#bd3786"
            ],
            [
             0.5555555555555556,
             "#d8576b"
            ],
            [
             0.6666666666666666,
             "#ed7953"
            ],
            [
             0.7777777777777778,
             "#fb9f3a"
            ],
            [
             0.8888888888888888,
             "#fdca26"
            ],
            [
             1,
             "#f0f921"
            ]
           ]
          },
          "colorway": [
           "#636efa",
           "#EF553B",
           "#00cc96",
           "#ab63fa",
           "#FFA15A",
           "#19d3f3",
           "#FF6692",
           "#B6E880",
           "#FF97FF",
           "#FECB52"
          ],
          "font": {
           "color": "#2a3f5f"
          },
          "geo": {
           "bgcolor": "white",
           "lakecolor": "white",
           "landcolor": "#E5ECF6",
           "showlakes": true,
           "showland": true,
           "subunitcolor": "white"
          },
          "hoverlabel": {
           "align": "left"
          },
          "hovermode": "closest",
          "mapbox": {
           "style": "light"
          },
          "paper_bgcolor": "white",
          "plot_bgcolor": "#E5ECF6",
          "polar": {
           "angularaxis": {
            "gridcolor": "white",
            "linecolor": "white",
            "ticks": ""
           },
           "bgcolor": "#E5ECF6",
           "radialaxis": {
            "gridcolor": "white",
            "linecolor": "white",
            "ticks": ""
           }
          },
          "scene": {
           "xaxis": {
            "backgroundcolor": "#E5ECF6",
            "gridcolor": "white",
            "gridwidth": 2,
            "linecolor": "white",
            "showbackground": true,
            "ticks": "",
            "zerolinecolor": "white"
           },
           "yaxis": {
            "backgroundcolor": "#E5ECF6",
            "gridcolor": "white",
            "gridwidth": 2,
            "linecolor": "white",
            "showbackground": true,
            "ticks": "",
            "zerolinecolor": "white"
           },
           "zaxis": {
            "backgroundcolor": "#E5ECF6",
            "gridcolor": "white",
            "gridwidth": 2,
            "linecolor": "white",
            "showbackground": true,
            "ticks": "",
            "zerolinecolor": "white"
           }
          },
          "shapedefaults": {
           "line": {
            "color": "#2a3f5f"
           }
          },
          "ternary": {
           "aaxis": {
            "gridcolor": "white",
            "linecolor": "white",
            "ticks": ""
           },
           "baxis": {
            "gridcolor": "white",
            "linecolor": "white",
            "ticks": ""
           },
           "bgcolor": "#E5ECF6",
           "caxis": {
            "gridcolor": "white",
            "linecolor": "white",
            "ticks": ""
           }
          },
          "title": {
           "x": 0.05
          },
          "xaxis": {
           "automargin": true,
           "gridcolor": "white",
           "linecolor": "white",
           "ticks": "",
           "title": {
            "standoff": 15
           },
           "zerolinecolor": "white",
           "zerolinewidth": 2
          },
          "yaxis": {
           "automargin": true,
           "gridcolor": "white",
           "linecolor": "white",
           "ticks": "",
           "title": {
            "standoff": 15
           },
           "zerolinecolor": "white",
           "zerolinewidth": 2
          }
         }
        },
        "xaxis": {
         "anchor": "y",
         "domain": [
          0,
          1
         ],
         "title": {
          "text": "Income_cat"
         }
        },
        "yaxis": {
         "anchor": "x",
         "domain": [
          0,
          1
         ],
         "title": {
          "text": "MntWines"
         }
        }
       }
      }
     },
     "metadata": {},
     "output_type": "display_data"
    }
   ],
   "source": [
    "px.bar(recent_items,x = recent_items[\"Income_cat\"],y = recent_items['MntWines'],color=recent_items['Recency_caty'],barmode='group')"
   ]
  },
  {
   "cell_type": "code",
   "execution_count": 59,
   "metadata": {},
   "outputs": [
    {
     "data": {
      "text/plain": [
       "Index(['Income', 'Kidhome', 'Teenhome', 'Recency', 'MntWines', 'MntFruits',\n",
       "       'MntMeatProducts', 'MntFishProducts', 'MntSweetProducts',\n",
       "       'MntGoldProds', 'NumDealsPurchases', 'NumWebPurchases',\n",
       "       'NumCatalogPurchases', 'NumStorePurchases', 'NumWebVisitsMonth',\n",
       "       'AcceptedCmp3', 'AcceptedCmp4', 'AcceptedCmp5', 'AcceptedCmp1',\n",
       "       'AcceptedCmp2', 'Complain', 'Z_CostContact', 'Z_Revenue', 'Response',\n",
       "       'Age', 'Customer_Days', 'marital_Divorced', 'marital_Married',\n",
       "       'marital_Single', 'marital_Together', 'marital_Widow',\n",
       "       'education_2n Cycle', 'education_Basic', 'education_Graduation',\n",
       "       'education_Master', 'education_PhD', 'MntTotal', 'MntRegularProds',\n",
       "       'AcceptedCmpOverall', 'Income_cat', 'wines_caty', 'Recency_caty'],\n",
       "      dtype='object')"
      ]
     },
     "execution_count": 59,
     "metadata": {},
     "output_type": "execute_result"
    }
   ],
   "source": [
    "recent_items.columns"
   ]
  },
  {
   "cell_type": "code",
   "execution_count": 60,
   "metadata": {},
   "outputs": [
    {
     "data": {
      "application/vnd.plotly.v1+json": {
       "config": {
        "plotlyServerURL": "https://plot.ly"
       },
       "data": [
        {
         "alignmentgroup": "True",
         "hovertemplate": "Recency_caty=Frequent between 11 to 20 days<br>Income_cat=%{x}<br>MntMeatProducts=%{y}<extra></extra>",
         "legendgroup": "Frequent between 11 to 20 days",
         "marker": {
          "color": "#636efa",
          "pattern": {
           "shape": ""
          }
         },
         "name": "Frequent between 11 to 20 days",
         "offsetgroup": "Frequent between 11 to 20 days",
         "orientation": "v",
         "showlegend": true,
         "textposition": "auto",
         "type": "bar",
         "x": [
          "within_51k-80K",
          "within_21k-50K",
          "within_21k-50K",
          "within_20K",
          "within_51k-80K",
          "within_51k-80K",
          "within 81k-100k",
          "within_21k-50K",
          "within 81k-100k",
          "within_21k-50K",
          "within_21k-50K",
          "within 81k-100k",
          "within_21k-50K",
          "within_21k-50K",
          "within_21k-50K",
          "within_21k-50K",
          "within_51k-80K",
          "within_51k-80K",
          "within_21k-50K",
          "within_51k-80K",
          "within_21k-50K",
          "within 81k-100k",
          "within_51k-80K",
          "within_21k-50K",
          "within_51k-80K",
          "within_51k-80K",
          "within_21k-50K",
          "within_21k-50K",
          "within_21k-50K",
          "within_21k-50K",
          "within_51k-80K",
          "within_51k-80K",
          "within_21k-50K",
          "within_21k-50K",
          "within_21k-50K",
          "within_51k-80K",
          "within_21k-50K",
          "within 81k-100k",
          "within_21k-50K",
          "within_21k-50K",
          "within_51k-80K",
          "within_21k-50K",
          "within_51k-80K",
          "within_21k-50K",
          "within_21k-50K",
          "within_21k-50K",
          "within_51k-80K",
          "within_21k-50K",
          "within_21k-50K",
          "within 81k-100k",
          "within_21k-50K",
          "within_51k-80K",
          "within_51k-80K",
          "within_20K",
          "within_21k-50K",
          "within_21k-50K",
          "within_51k-80K",
          "within_21k-50K",
          "within_21k-50K",
          "within_51k-80K",
          "within_51k-80K",
          "within 81k-100k",
          "within_51k-80K",
          "within_51k-80K",
          "within_51k-80K",
          "within_51k-80K",
          "within_51k-80K",
          "within_21k-50K",
          "within_20K",
          "within_21k-50K",
          "within_21k-50K",
          "within_51k-80K",
          "within 81k-100k",
          "within_21k-50K",
          "within 81k-100k",
          "within_21k-50K",
          "within_51k-80K",
          "within_21k-50K",
          "within 81k-100k",
          "within_20K",
          "within 81k-100k",
          "within 81k-100k",
          "within_51k-80K",
          "within_21k-50K",
          "within_51k-80K",
          "within_51k-80K",
          "within_51k-80K",
          "within_21k-50K",
          "within_21k-50K",
          "within_21k-50K",
          "within 81k-100k",
          "within_21k-50K",
          "within_21k-50K",
          "within_51k-80K",
          "within_21k-50K",
          "within_21k-50K",
          "within_21k-50K",
          "within_20K",
          "within 81k-100k",
          "within 81k-100k",
          "within_21k-50K",
          "within_21k-50K",
          "within_51k-80K",
          "within_21k-50K",
          "within_20K",
          "within_21k-50K",
          "within_51k-80K",
          "within_51k-80K",
          "within_51k-80K",
          "within_51k-80K",
          "within_51k-80K",
          "within_21k-50K",
          "within 81k-100k",
          "within_51k-80K",
          "within_21k-50K",
          "within_51k-80K",
          "within_21k-50K",
          "within_21k-50K",
          "within_21k-50K",
          "within_51k-80K",
          "within_51k-80K",
          "within_21k-50K",
          "within_21k-50K",
          "within_51k-80K",
          "within_21k-50K",
          "within_20K",
          "within_51k-80K",
          "within_51k-80K",
          "within 81k-100k",
          "within_51k-80K",
          "within_21k-50K",
          "within_20K",
          "within_21k-50K",
          "within_51k-80K",
          "within_51k-80K",
          "within_51k-80K",
          "within_21k-50K",
          "within_51k-80K",
          "within_51k-80K",
          "within_51k-80K",
          "within_51k-80K",
          "within_21k-50K",
          "within_21k-50K",
          "within 81k-100k",
          "within_21k-50K",
          "within_21k-50K",
          "within_51k-80K",
          "within_21k-50K",
          "within_51k-80K",
          "within_51k-80K",
          "within_21k-50K",
          "within_21k-50K",
          "within_51k-80K",
          "within_21k-50K",
          "within_51k-80K",
          "within_51k-80K",
          "within_21k-50K",
          "within 81k-100k",
          "within_21k-50K",
          "within_51k-80K",
          "within_20K",
          "within_21k-50K",
          "within_51k-80K",
          "within_21k-50K",
          "within_51k-80K",
          "within 81k-100k",
          "within_21k-50K",
          "within_51k-80K",
          "within_21k-50K",
          "within_21k-50K",
          "within_21k-50K",
          "within_21k-50K",
          "within_21k-50K",
          "within_21k-50K",
          "within_51k-80K",
          "within_51k-80K",
          "within_51k-80K",
          "within_21k-50K",
          "within_21k-50K",
          "within 81k-100k",
          "within_21k-50K",
          "within_51k-80K",
          "within_51k-80K",
          "within_20K",
          "within_51k-80K",
          "within_21k-50K",
          "within_21k-50K",
          "within_21k-50K",
          "within_21k-50K",
          "within_20K",
          "within_21k-50K",
          "within_51k-80K",
          "within_51k-80K",
          "within_21k-50K",
          "within_21k-50K",
          "within_21k-50K",
          "within_21k-50K",
          "within_21k-50K",
          "within_21k-50K",
          "within_51k-80K",
          "within_21k-50K",
          "within_21k-50K",
          "within_21k-50K",
          "within_21k-50K",
          "within_51k-80K",
          "within_21k-50K",
          "within_21k-50K",
          "within_20K",
          "within_51k-80K",
          "within_51k-80K",
          "within_20K",
          "within_51k-80K",
          "within_20K",
          "within_51k-80K"
         ],
         "xaxis": "x",
         "y": [
          98,
          24,
          38,
          10,
          538,
          102,
          309,
          5,
          424,
          32,
          31,
          106,
          101,
          29,
          41,
          24,
          249,
          6,
          6,
          537,
          18,
          482,
          320,
          68,
          319,
          298,
          19,
          23,
          38,
          8,
          230,
          565,
          5,
          7,
          46,
          28,
          16,
          570,
          38,
          7,
          410,
          14,
          97,
          96,
          53,
          42,
          26,
          26,
          24,
          282,
          19,
          271,
          35,
          2,
          14,
          30,
          413,
          5,
          8,
          39,
          594,
          670,
          319,
          379,
          292,
          132,
          259,
          4,
          16,
          9,
          46,
          259,
          732,
          27,
          145,
          76,
          117,
          21,
          501,
          12,
          132,
          689,
          391,
          9,
          212,
          83,
          804,
          15,
          24,
          25,
          569,
          12,
          14,
          69,
          67,
          58,
          9,
          1,
          108,
          651,
          21,
          11,
          172,
          3,
          4,
          125,
          548,
          842,
          109,
          8,
          70,
          42,
          731,
          37,
          112,
          483,
          18,
          11,
          7,
          137,
          242,
          8,
          2,
          687,
          204,
          5,
          622,
          209,
          537,
          235,
          40,
          8,
          21,
          84,
          452,
          69,
          13,
          79,
          238,
          74,
          67,
          5,
          4,
          731,
          3,
          26,
          309,
          40,
          253,
          170,
          10,
          19,
          184,
          4,
          278,
          171,
          23,
          424,
          45,
          575,
          20,
          142,
          70,
          10,
          599,
          673,
          22,
          850,
          115,
          11,
          30,
          18,
          56,
          15,
          90,
          106,
          697,
          22,
          24,
          456,
          28,
          53,
          124,
          0,
          71,
          243,
          18,
          14,
          18,
          8,
          26,
          103,
          89,
          14,
          73,
          17,
          30,
          14,
          15,
          241,
          15,
          5,
          37,
          11,
          170,
          13,
          23,
          3,
          32,
          9,
          8,
          495,
          7,
          538
         ],
         "yaxis": "y"
        },
        {
         "alignmentgroup": "True",
         "hovertemplate": "Recency_caty=Most Frequent within 10 days<br>Income_cat=%{x}<br>MntMeatProducts=%{y}<extra></extra>",
         "legendgroup": "Most Frequent within 10 days",
         "marker": {
          "color": "#EF553B",
          "pattern": {
           "shape": ""
          }
         },
         "name": "Most Frequent within 10 days",
         "offsetgroup": "Most Frequent within 10 days",
         "orientation": "v",
         "showlegend": true,
         "textposition": "auto",
         "type": "bar",
         "x": [
          "within_51k-80K",
          "within_21k-50K",
          "within_51k-80K",
          "within 81k-100k",
          "within_21k-50K",
          "within_51k-80K",
          "within_51k-80K",
          "within_51k-80K",
          "within_51k-80K",
          "within_51k-80K",
          "within_21k-50K",
          "within_51k-80K",
          "within_51k-80K",
          "within_51k-80K",
          "within_51k-80K",
          "within_51k-80K",
          "within_21k-50K",
          "within_51k-80K",
          "within_51k-80K",
          "within_51k-80K",
          "within_20K",
          "within_51k-80K",
          "within_51k-80K",
          "within 81k-100k",
          "within_51k-80K",
          "within_101k-120k",
          "within_21k-50K",
          "within_51k-80K",
          "within_21k-50K",
          "within_21k-50K",
          "within_21k-50K",
          "within_21k-50K",
          "within_51k-80K",
          "within_51k-80K",
          "within_21k-50K",
          "within 81k-100k",
          "within_51k-80K",
          "within_51k-80K",
          "within_51k-80K",
          "within_21k-50K",
          "within_21k-50K",
          "within_51k-80K",
          "within 81k-100k",
          "within_21k-50K",
          "within_51k-80K",
          "within_51k-80K",
          "within_51k-80K",
          "within_21k-50K",
          "within_21k-50K",
          "within_51k-80K",
          "within_21k-50K",
          "within 81k-100k",
          "within 81k-100k",
          "within_21k-50K",
          "within_21k-50K",
          "within_51k-80K",
          "within_21k-50K",
          "within_51k-80K",
          "within_21k-50K",
          "within_21k-50K",
          "within_21k-50K",
          "within_51k-80K",
          "within_51k-80K",
          "within_21k-50K",
          "within_51k-80K",
          "within_21k-50K",
          "within_21k-50K",
          "within_21k-50K",
          "within_51k-80K",
          "within_51k-80K",
          "within_21k-50K",
          "within_51k-80K",
          "within_51k-80K",
          "within_51k-80K",
          "within_21k-50K",
          "within_21k-50K",
          "within_21k-50K",
          "within 81k-100k",
          "within_21k-50K",
          "within_51k-80K",
          "within_21k-50K",
          "within 81k-100k",
          "within_21k-50K",
          "within_21k-50K",
          "within 81k-100k",
          "within_51k-80K",
          "within_51k-80K",
          "within_51k-80K",
          "within 81k-100k",
          "within 81k-100k",
          "within_51k-80K",
          "within_51k-80K",
          "within_20K",
          "within 81k-100k",
          "within_21k-50K",
          "within 81k-100k",
          "within_51k-80K",
          "within 81k-100k",
          "within_21k-50K",
          "within_51k-80K",
          "within_21k-50K",
          "within_21k-50K",
          "within_21k-50K",
          "within_51k-80K",
          "within_21k-50K",
          "within_51k-80K",
          "within 81k-100k",
          "within_21k-50K",
          "within_21k-50K",
          "within_51k-80K",
          "within_21k-50K",
          "within_21k-50K",
          "within 81k-100k",
          "within_21k-50K",
          "within_51k-80K",
          "within_51k-80K",
          "within_51k-80K",
          "within_51k-80K",
          "within_20K",
          "within_51k-80K",
          "within_21k-50K",
          "within_21k-50K",
          "within_21k-50K",
          "within_21k-50K",
          "within_20K",
          "within_20K",
          "within_20K",
          "within_51k-80K",
          "within_21k-50K",
          "within_51k-80K",
          "within_21k-50K",
          "within_51k-80K",
          "within_51k-80K",
          "within_20K",
          "within_21k-50K",
          "within_21k-50K",
          "within 81k-100k",
          "within_21k-50K",
          "within_51k-80K",
          "within_51k-80K",
          "within_21k-50K",
          "within_21k-50K",
          "within_21k-50K",
          "within_51k-80K",
          "within_51k-80K",
          "within_21k-50K",
          "within_51k-80K",
          "within_51k-80K",
          "within_21k-50K",
          "within_21k-50K",
          "within_51k-80K",
          "within_51k-80K",
          "within_21k-50K",
          "within_21k-50K",
          "within_51k-80K",
          "within_21k-50K",
          "within_21k-50K",
          "within_21k-50K",
          "within_51k-80K",
          "within_51k-80K",
          "within_51k-80K",
          "within_20K",
          "within_21k-50K",
          "within_21k-50K",
          "within_21k-50K",
          "within_51k-80K",
          "within_21k-50K",
          "within_20K",
          "within_21k-50K",
          "within_51k-80K",
          "within_20K",
          "within_21k-50K",
          "within_21k-50K",
          "within_51k-80K",
          "within_21k-50K",
          "within_21k-50K",
          "within_21k-50K",
          "within_51k-80K",
          "within_21k-50K",
          "within_21k-50K",
          "within 81k-100k",
          "within_51k-80K",
          "within_21k-50K",
          "within 81k-100k",
          "within_51k-80K",
          "within_51k-80K",
          "within_51k-80K",
          "within_21k-50K",
          "within_51k-80K",
          "within_101k-120k",
          "within_21k-50K",
          "within_21k-50K",
          "within_51k-80K",
          "within_51k-80K",
          "within_51k-80K",
          "within_51k-80K",
          "within_21k-50K",
          "within_21k-50K",
          "within_51k-80K",
          "within_21k-50K",
          "within_51k-80K",
          "within 81k-100k",
          "within_21k-50K",
          "within_21k-50K",
          "within_21k-50K",
          "within_21k-50K",
          "within_51k-80K",
          "within_51k-80K",
          "within_51k-80K",
          "within_51k-80K",
          "within_21k-50K",
          "within_20K",
          "within_21k-50K",
          "within_51k-80K",
          "within_51k-80K",
          "within_51k-80K",
          "within_51k-80K",
          "within_21k-50K",
          "within_21k-50K",
          "within_21k-50K",
          "within_51k-80K",
          "within_51k-80K",
          "within_21k-50K",
          "within_51k-80K",
          "within_21k-50K",
          "within_51k-80K",
          "within_21k-50K",
          "within_20K",
          "within_21k-50K",
          "within_51k-80K"
         ],
         "xaxis": "x",
         "y": [
          30,
          96,
          471,
          536,
          6,
          780,
          48,
          159,
          460,
          64,
          5,
          37,
          73,
          189,
          232,
          269,
          69,
          57,
          240,
          24,
          1,
          4,
          154,
          184,
          503,
          444,
          71,
          43,
          3,
          3,
          11,
          13,
          293,
          785,
          22,
          786,
          125,
          80,
          204,
          100,
          7,
          189,
          349,
          11,
          257,
          232,
          218,
          4,
          21,
          300,
          46,
          403,
          520,
          12,
          81,
          22,
          13,
          30,
          2,
          83,
          1,
          69,
          73,
          100,
          559,
          20,
          13,
          5,
          249,
          86,
          22,
          898,
          291,
          348,
          91,
          8,
          5,
          228,
          17,
          256,
          7,
          431,
          21,
          7,
          350,
          207,
          161,
          89,
          873,
          403,
          466,
          76,
          30,
          407,
          12,
          311,
          292,
          449,
          6,
          356,
          16,
          9,
          16,
          333,
          12,
          45,
          678,
          30,
          7,
          77,
          7,
          22,
          115,
          18,
          215,
          547,
          64,
          113,
          9,
          88,
          12,
          33,
          11,
          24,
          4,
          13,
          26,
          528,
          100,
          217,
          61,
          45,
          459,
          14,
          38,
          14,
          694,
          7,
          76,
          115,
          41,
          16,
          1,
          356,
          21,
          10,
          422,
          706,
          12,
          26,
          560,
          469,
          24,
          12,
          168,
          88,
          67,
          50,
          309,
          99,
          6,
          23,
          5,
          6,
          28,
          206,
          2,
          16,
          69,
          184,
          31,
          56,
          29,
          751,
          7,
          60,
          56,
          112,
          60,
          38,
          981,
          300,
          3,
          273,
          816,
          459,
          132,
          6,
          240,
          3,
          5,
          9,
          202,
          459,
          653,
          128,
          60,
          18,
          44,
          6,
          592,
          125,
          16,
          33,
          3,
          223,
          322,
          168,
          380,
          140,
          223,
          8,
          5,
          44,
          179,
          292,
          849,
          5,
          7,
          111,
          300,
          518,
          50,
          217,
          2,
          38,
          50,
          11,
          8,
          214
         ],
         "yaxis": "y"
        }
       ],
       "layout": {
        "barmode": "group",
        "legend": {
         "title": {
          "text": "Recency_caty"
         },
         "tracegroupgap": 0
        },
        "margin": {
         "t": 60
        },
        "template": {
         "data": {
          "bar": [
           {
            "error_x": {
             "color": "#2a3f5f"
            },
            "error_y": {
             "color": "#2a3f5f"
            },
            "marker": {
             "line": {
              "color": "#E5ECF6",
              "width": 0.5
             },
             "pattern": {
              "fillmode": "overlay",
              "size": 10,
              "solidity": 0.2
             }
            },
            "type": "bar"
           }
          ],
          "barpolar": [
           {
            "marker": {
             "line": {
              "color": "#E5ECF6",
              "width": 0.5
             },
             "pattern": {
              "fillmode": "overlay",
              "size": 10,
              "solidity": 0.2
             }
            },
            "type": "barpolar"
           }
          ],
          "carpet": [
           {
            "aaxis": {
             "endlinecolor": "#2a3f5f",
             "gridcolor": "white",
             "linecolor": "white",
             "minorgridcolor": "white",
             "startlinecolor": "#2a3f5f"
            },
            "baxis": {
             "endlinecolor": "#2a3f5f",
             "gridcolor": "white",
             "linecolor": "white",
             "minorgridcolor": "white",
             "startlinecolor": "#2a3f5f"
            },
            "type": "carpet"
           }
          ],
          "choropleth": [
           {
            "colorbar": {
             "outlinewidth": 0,
             "ticks": ""
            },
            "type": "choropleth"
           }
          ],
          "contour": [
           {
            "colorbar": {
             "outlinewidth": 0,
             "ticks": ""
            },
            "colorscale": [
             [
              0,
              "#0d0887"
             ],
             [
              0.1111111111111111,
              "#46039f"
             ],
             [
              0.2222222222222222,
              "#7201a8"
             ],
             [
              0.3333333333333333,
              "#9c179e"
             ],
             [
              0.4444444444444444,
              "#bd3786"
             ],
             [
              0.5555555555555556,
              "#d8576b"
             ],
             [
              0.6666666666666666,
              "#ed7953"
             ],
             [
              0.7777777777777778,
              "#fb9f3a"
             ],
             [
              0.8888888888888888,
              "#fdca26"
             ],
             [
              1,
              "#f0f921"
             ]
            ],
            "type": "contour"
           }
          ],
          "contourcarpet": [
           {
            "colorbar": {
             "outlinewidth": 0,
             "ticks": ""
            },
            "type": "contourcarpet"
           }
          ],
          "heatmap": [
           {
            "colorbar": {
             "outlinewidth": 0,
             "ticks": ""
            },
            "colorscale": [
             [
              0,
              "#0d0887"
             ],
             [
              0.1111111111111111,
              "#46039f"
             ],
             [
              0.2222222222222222,
              "#7201a8"
             ],
             [
              0.3333333333333333,
              "#9c179e"
             ],
             [
              0.4444444444444444,
              "#bd3786"
             ],
             [
              0.5555555555555556,
              "#d8576b"
             ],
             [
              0.6666666666666666,
              "#ed7953"
             ],
             [
              0.7777777777777778,
              "#fb9f3a"
             ],
             [
              0.8888888888888888,
              "#fdca26"
             ],
             [
              1,
              "#f0f921"
             ]
            ],
            "type": "heatmap"
           }
          ],
          "heatmapgl": [
           {
            "colorbar": {
             "outlinewidth": 0,
             "ticks": ""
            },
            "colorscale": [
             [
              0,
              "#0d0887"
             ],
             [
              0.1111111111111111,
              "#46039f"
             ],
             [
              0.2222222222222222,
              "#7201a8"
             ],
             [
              0.3333333333333333,
              "#9c179e"
             ],
             [
              0.4444444444444444,
              "#bd3786"
             ],
             [
              0.5555555555555556,
              "#d8576b"
             ],
             [
              0.6666666666666666,
              "#ed7953"
             ],
             [
              0.7777777777777778,
              "#fb9f3a"
             ],
             [
              0.8888888888888888,
              "#fdca26"
             ],
             [
              1,
              "#f0f921"
             ]
            ],
            "type": "heatmapgl"
           }
          ],
          "histogram": [
           {
            "marker": {
             "pattern": {
              "fillmode": "overlay",
              "size": 10,
              "solidity": 0.2
             }
            },
            "type": "histogram"
           }
          ],
          "histogram2d": [
           {
            "colorbar": {
             "outlinewidth": 0,
             "ticks": ""
            },
            "colorscale": [
             [
              0,
              "#0d0887"
             ],
             [
              0.1111111111111111,
              "#46039f"
             ],
             [
              0.2222222222222222,
              "#7201a8"
             ],
             [
              0.3333333333333333,
              "#9c179e"
             ],
             [
              0.4444444444444444,
              "#bd3786"
             ],
             [
              0.5555555555555556,
              "#d8576b"
             ],
             [
              0.6666666666666666,
              "#ed7953"
             ],
             [
              0.7777777777777778,
              "#fb9f3a"
             ],
             [
              0.8888888888888888,
              "#fdca26"
             ],
             [
              1,
              "#f0f921"
             ]
            ],
            "type": "histogram2d"
           }
          ],
          "histogram2dcontour": [
           {
            "colorbar": {
             "outlinewidth": 0,
             "ticks": ""
            },
            "colorscale": [
             [
              0,
              "#0d0887"
             ],
             [
              0.1111111111111111,
              "#46039f"
             ],
             [
              0.2222222222222222,
              "#7201a8"
             ],
             [
              0.3333333333333333,
              "#9c179e"
             ],
             [
              0.4444444444444444,
              "#bd3786"
             ],
             [
              0.5555555555555556,
              "#d8576b"
             ],
             [
              0.6666666666666666,
              "#ed7953"
             ],
             [
              0.7777777777777778,
              "#fb9f3a"
             ],
             [
              0.8888888888888888,
              "#fdca26"
             ],
             [
              1,
              "#f0f921"
             ]
            ],
            "type": "histogram2dcontour"
           }
          ],
          "mesh3d": [
           {
            "colorbar": {
             "outlinewidth": 0,
             "ticks": ""
            },
            "type": "mesh3d"
           }
          ],
          "parcoords": [
           {
            "line": {
             "colorbar": {
              "outlinewidth": 0,
              "ticks": ""
             }
            },
            "type": "parcoords"
           }
          ],
          "pie": [
           {
            "automargin": true,
            "type": "pie"
           }
          ],
          "scatter": [
           {
            "fillpattern": {
             "fillmode": "overlay",
             "size": 10,
             "solidity": 0.2
            },
            "type": "scatter"
           }
          ],
          "scatter3d": [
           {
            "line": {
             "colorbar": {
              "outlinewidth": 0,
              "ticks": ""
             }
            },
            "marker": {
             "colorbar": {
              "outlinewidth": 0,
              "ticks": ""
             }
            },
            "type": "scatter3d"
           }
          ],
          "scattercarpet": [
           {
            "marker": {
             "colorbar": {
              "outlinewidth": 0,
              "ticks": ""
             }
            },
            "type": "scattercarpet"
           }
          ],
          "scattergeo": [
           {
            "marker": {
             "colorbar": {
              "outlinewidth": 0,
              "ticks": ""
             }
            },
            "type": "scattergeo"
           }
          ],
          "scattergl": [
           {
            "marker": {
             "colorbar": {
              "outlinewidth": 0,
              "ticks": ""
             }
            },
            "type": "scattergl"
           }
          ],
          "scattermapbox": [
           {
            "marker": {
             "colorbar": {
              "outlinewidth": 0,
              "ticks": ""
             }
            },
            "type": "scattermapbox"
           }
          ],
          "scatterpolar": [
           {
            "marker": {
             "colorbar": {
              "outlinewidth": 0,
              "ticks": ""
             }
            },
            "type": "scatterpolar"
           }
          ],
          "scatterpolargl": [
           {
            "marker": {
             "colorbar": {
              "outlinewidth": 0,
              "ticks": ""
             }
            },
            "type": "scatterpolargl"
           }
          ],
          "scatterternary": [
           {
            "marker": {
             "colorbar": {
              "outlinewidth": 0,
              "ticks": ""
             }
            },
            "type": "scatterternary"
           }
          ],
          "surface": [
           {
            "colorbar": {
             "outlinewidth": 0,
             "ticks": ""
            },
            "colorscale": [
             [
              0,
              "#0d0887"
             ],
             [
              0.1111111111111111,
              "#46039f"
             ],
             [
              0.2222222222222222,
              "#7201a8"
             ],
             [
              0.3333333333333333,
              "#9c179e"
             ],
             [
              0.4444444444444444,
              "#bd3786"
             ],
             [
              0.5555555555555556,
              "#d8576b"
             ],
             [
              0.6666666666666666,
              "#ed7953"
             ],
             [
              0.7777777777777778,
              "#fb9f3a"
             ],
             [
              0.8888888888888888,
              "#fdca26"
             ],
             [
              1,
              "#f0f921"
             ]
            ],
            "type": "surface"
           }
          ],
          "table": [
           {
            "cells": {
             "fill": {
              "color": "#EBF0F8"
             },
             "line": {
              "color": "white"
             }
            },
            "header": {
             "fill": {
              "color": "#C8D4E3"
             },
             "line": {
              "color": "white"
             }
            },
            "type": "table"
           }
          ]
         },
         "layout": {
          "annotationdefaults": {
           "arrowcolor": "#2a3f5f",
           "arrowhead": 0,
           "arrowwidth": 1
          },
          "autotypenumbers": "strict",
          "coloraxis": {
           "colorbar": {
            "outlinewidth": 0,
            "ticks": ""
           }
          },
          "colorscale": {
           "diverging": [
            [
             0,
             "#8e0152"
            ],
            [
             0.1,
             "#c51b7d"
            ],
            [
             0.2,
             "#de77ae"
            ],
            [
             0.3,
             "#f1b6da"
            ],
            [
             0.4,
             "#fde0ef"
            ],
            [
             0.5,
             "#f7f7f7"
            ],
            [
             0.6,
             "#e6f5d0"
            ],
            [
             0.7,
             "#b8e186"
            ],
            [
             0.8,
             "#7fbc41"
            ],
            [
             0.9,
             "#4d9221"
            ],
            [
             1,
             "#276419"
            ]
           ],
           "sequential": [
            [
             0,
             "#0d0887"
            ],
            [
             0.1111111111111111,
             "#46039f"
            ],
            [
             0.2222222222222222,
             "#7201a8"
            ],
            [
             0.3333333333333333,
             "#9c179e"
            ],
            [
             0.4444444444444444,
             "#bd3786"
            ],
            [
             0.5555555555555556,
             "#d8576b"
            ],
            [
             0.6666666666666666,
             "#ed7953"
            ],
            [
             0.7777777777777778,
             "#fb9f3a"
            ],
            [
             0.8888888888888888,
             "#fdca26"
            ],
            [
             1,
             "#f0f921"
            ]
           ],
           "sequentialminus": [
            [
             0,
             "#0d0887"
            ],
            [
             0.1111111111111111,
             "#46039f"
            ],
            [
             0.2222222222222222,
             "#7201a8"
            ],
            [
             0.3333333333333333,
             "#9c179e"
            ],
            [
             0.4444444444444444,
             "#bd3786"
            ],
            [
             0.5555555555555556,
             "#d8576b"
            ],
            [
             0.6666666666666666,
             "#ed7953"
            ],
            [
             0.7777777777777778,
             "#fb9f3a"
            ],
            [
             0.8888888888888888,
             "#fdca26"
            ],
            [
             1,
             "#f0f921"
            ]
           ]
          },
          "colorway": [
           "#636efa",
           "#EF553B",
           "#00cc96",
           "#ab63fa",
           "#FFA15A",
           "#19d3f3",
           "#FF6692",
           "#B6E880",
           "#FF97FF",
           "#FECB52"
          ],
          "font": {
           "color": "#2a3f5f"
          },
          "geo": {
           "bgcolor": "white",
           "lakecolor": "white",
           "landcolor": "#E5ECF6",
           "showlakes": true,
           "showland": true,
           "subunitcolor": "white"
          },
          "hoverlabel": {
           "align": "left"
          },
          "hovermode": "closest",
          "mapbox": {
           "style": "light"
          },
          "paper_bgcolor": "white",
          "plot_bgcolor": "#E5ECF6",
          "polar": {
           "angularaxis": {
            "gridcolor": "white",
            "linecolor": "white",
            "ticks": ""
           },
           "bgcolor": "#E5ECF6",
           "radialaxis": {
            "gridcolor": "white",
            "linecolor": "white",
            "ticks": ""
           }
          },
          "scene": {
           "xaxis": {
            "backgroundcolor": "#E5ECF6",
            "gridcolor": "white",
            "gridwidth": 2,
            "linecolor": "white",
            "showbackground": true,
            "ticks": "",
            "zerolinecolor": "white"
           },
           "yaxis": {
            "backgroundcolor": "#E5ECF6",
            "gridcolor": "white",
            "gridwidth": 2,
            "linecolor": "white",
            "showbackground": true,
            "ticks": "",
            "zerolinecolor": "white"
           },
           "zaxis": {
            "backgroundcolor": "#E5ECF6",
            "gridcolor": "white",
            "gridwidth": 2,
            "linecolor": "white",
            "showbackground": true,
            "ticks": "",
            "zerolinecolor": "white"
           }
          },
          "shapedefaults": {
           "line": {
            "color": "#2a3f5f"
           }
          },
          "ternary": {
           "aaxis": {
            "gridcolor": "white",
            "linecolor": "white",
            "ticks": ""
           },
           "baxis": {
            "gridcolor": "white",
            "linecolor": "white",
            "ticks": ""
           },
           "bgcolor": "#E5ECF6",
           "caxis": {
            "gridcolor": "white",
            "linecolor": "white",
            "ticks": ""
           }
          },
          "title": {
           "x": 0.05
          },
          "xaxis": {
           "automargin": true,
           "gridcolor": "white",
           "linecolor": "white",
           "ticks": "",
           "title": {
            "standoff": 15
           },
           "zerolinecolor": "white",
           "zerolinewidth": 2
          },
          "yaxis": {
           "automargin": true,
           "gridcolor": "white",
           "linecolor": "white",
           "ticks": "",
           "title": {
            "standoff": 15
           },
           "zerolinecolor": "white",
           "zerolinewidth": 2
          }
         }
        },
        "xaxis": {
         "anchor": "y",
         "domain": [
          0,
          1
         ],
         "title": {
          "text": "Income_cat"
         }
        },
        "yaxis": {
         "anchor": "x",
         "domain": [
          0,
          1
         ],
         "title": {
          "text": "MntMeatProducts"
         }
        }
       }
      }
     },
     "metadata": {},
     "output_type": "display_data"
    }
   ],
   "source": [
    "px.bar(recent_items,x = recent_items[\"Income_cat\"],y = recent_items['MntMeatProducts'],color=recent_items['Recency_caty'],barmode='group')"
   ]
  },
  {
   "cell_type": "code",
   "execution_count": 61,
   "metadata": {},
   "outputs": [
    {
     "data": {
      "application/vnd.plotly.v1+json": {
       "config": {
        "plotlyServerURL": "https://plot.ly"
       },
       "data": [
        {
         "alignmentgroup": "True",
         "hovertemplate": "Recency_caty=Frequent between 11 to 20 days<br>Income_cat=%{x}<br>MntFruits=%{y}<extra></extra>",
         "legendgroup": "Frequent between 11 to 20 days",
         "marker": {
          "color": "#636efa",
          "pattern": {
           "shape": ""
          }
         },
         "name": "Frequent between 11 to 20 days",
         "offsetgroup": "Frequent between 11 to 20 days",
         "orientation": "v",
         "showlegend": true,
         "textposition": "auto",
         "type": "bar",
         "x": [
          "within_51k-80K",
          "within_21k-50K",
          "within_21k-50K",
          "within_20K",
          "within_51k-80K",
          "within_51k-80K",
          "within 81k-100k",
          "within_21k-50K",
          "within 81k-100k",
          "within_21k-50K",
          "within_21k-50K",
          "within 81k-100k",
          "within_21k-50K",
          "within_21k-50K",
          "within_21k-50K",
          "within_21k-50K",
          "within_51k-80K",
          "within_51k-80K",
          "within_21k-50K",
          "within_51k-80K",
          "within_21k-50K",
          "within 81k-100k",
          "within_51k-80K",
          "within_21k-50K",
          "within_51k-80K",
          "within_51k-80K",
          "within_21k-50K",
          "within_21k-50K",
          "within_21k-50K",
          "within_21k-50K",
          "within_51k-80K",
          "within_51k-80K",
          "within_21k-50K",
          "within_21k-50K",
          "within_21k-50K",
          "within_51k-80K",
          "within_21k-50K",
          "within 81k-100k",
          "within_21k-50K",
          "within_21k-50K",
          "within_51k-80K",
          "within_21k-50K",
          "within_51k-80K",
          "within_21k-50K",
          "within_21k-50K",
          "within_21k-50K",
          "within_51k-80K",
          "within_21k-50K",
          "within_21k-50K",
          "within 81k-100k",
          "within_21k-50K",
          "within_51k-80K",
          "within_51k-80K",
          "within_20K",
          "within_21k-50K",
          "within_21k-50K",
          "within_51k-80K",
          "within_21k-50K",
          "within_21k-50K",
          "within_51k-80K",
          "within_51k-80K",
          "within 81k-100k",
          "within_51k-80K",
          "within_51k-80K",
          "within_51k-80K",
          "within_51k-80K",
          "within_51k-80K",
          "within_21k-50K",
          "within_20K",
          "within_21k-50K",
          "within_21k-50K",
          "within_51k-80K",
          "within 81k-100k",
          "within_21k-50K",
          "within 81k-100k",
          "within_21k-50K",
          "within_51k-80K",
          "within_21k-50K",
          "within 81k-100k",
          "within_20K",
          "within 81k-100k",
          "within 81k-100k",
          "within_51k-80K",
          "within_21k-50K",
          "within_51k-80K",
          "within_51k-80K",
          "within_51k-80K",
          "within_21k-50K",
          "within_21k-50K",
          "within_21k-50K",
          "within 81k-100k",
          "within_21k-50K",
          "within_21k-50K",
          "within_51k-80K",
          "within_21k-50K",
          "within_21k-50K",
          "within_21k-50K",
          "within_20K",
          "within 81k-100k",
          "within 81k-100k",
          "within_21k-50K",
          "within_21k-50K",
          "within_51k-80K",
          "within_21k-50K",
          "within_20K",
          "within_21k-50K",
          "within_51k-80K",
          "within_51k-80K",
          "within_51k-80K",
          "within_51k-80K",
          "within_51k-80K",
          "within_21k-50K",
          "within 81k-100k",
          "within_51k-80K",
          "within_21k-50K",
          "within_51k-80K",
          "within_21k-50K",
          "within_21k-50K",
          "within_21k-50K",
          "within_51k-80K",
          "within_51k-80K",
          "within_21k-50K",
          "within_21k-50K",
          "within_51k-80K",
          "within_21k-50K",
          "within_20K",
          "within_51k-80K",
          "within_51k-80K",
          "within 81k-100k",
          "within_51k-80K",
          "within_21k-50K",
          "within_20K",
          "within_21k-50K",
          "within_51k-80K",
          "within_51k-80K",
          "within_51k-80K",
          "within_21k-50K",
          "within_51k-80K",
          "within_51k-80K",
          "within_51k-80K",
          "within_51k-80K",
          "within_21k-50K",
          "within_21k-50K",
          "within 81k-100k",
          "within_21k-50K",
          "within_21k-50K",
          "within_51k-80K",
          "within_21k-50K",
          "within_51k-80K",
          "within_51k-80K",
          "within_21k-50K",
          "within_21k-50K",
          "within_51k-80K",
          "within_21k-50K",
          "within_51k-80K",
          "within_51k-80K",
          "within_21k-50K",
          "within 81k-100k",
          "within_21k-50K",
          "within_51k-80K",
          "within_20K",
          "within_21k-50K",
          "within_51k-80K",
          "within_21k-50K",
          "within_51k-80K",
          "within 81k-100k",
          "within_21k-50K",
          "within_51k-80K",
          "within_21k-50K",
          "within_21k-50K",
          "within_21k-50K",
          "within_21k-50K",
          "within_21k-50K",
          "within_21k-50K",
          "within_51k-80K",
          "within_51k-80K",
          "within_51k-80K",
          "within_21k-50K",
          "within_21k-50K",
          "within 81k-100k",
          "within_21k-50K",
          "within_51k-80K",
          "within_51k-80K",
          "within_20K",
          "within_51k-80K",
          "within_21k-50K",
          "within_21k-50K",
          "within_21k-50K",
          "within_21k-50K",
          "within_20K",
          "within_21k-50K",
          "within_51k-80K",
          "within_51k-80K",
          "within_21k-50K",
          "within_21k-50K",
          "within_21k-50K",
          "within_21k-50K",
          "within_21k-50K",
          "within_21k-50K",
          "within_51k-80K",
          "within_21k-50K",
          "within_21k-50K",
          "within_21k-50K",
          "within_21k-50K",
          "within_51k-80K",
          "within_21k-50K",
          "within_21k-50K",
          "within_20K",
          "within_51k-80K",
          "within_51k-80K",
          "within_20K",
          "within_51k-80K",
          "within_20K",
          "within_51k-80K"
         ],
         "xaxis": "x",
         "y": [
          42,
          0,
          5,
          1,
          26,
          18,
          14,
          0,
          23,
          1,
          3,
          194,
          0,
          3,
          34,
          7,
          16,
          0,
          1,
          30,
          1,
          189,
          48,
          24,
          22,
          74,
          7,
          7,
          5,
          0,
          98,
          183,
          6,
          4,
          2,
          0,
          2,
          61,
          32,
          6,
          91,
          4,
          24,
          12,
          11,
          1,
          0,
          3,
          0,
          26,
          3,
          35,
          4,
          1,
          4,
          2,
          17,
          1,
          0,
          0,
          19,
          134,
          38,
          155,
          151,
          25,
          129,
          0,
          4,
          0,
          10,
          129,
          22,
          3,
          12,
          4,
          32,
          10,
          25,
          0,
          22,
          178,
          107,
          1,
          44,
          9,
          53,
          6,
          7,
          2,
          68,
          10,
          1,
          21,
          3,
          7,
          7,
          1,
          168,
          93,
          0,
          0,
          53,
          0,
          4,
          10,
          42,
          57,
          54,
          0,
          32,
          0,
          35,
          6,
          9,
          80,
          13,
          1,
          2,
          34,
          38,
          5,
          6,
          185,
          61,
          2,
          79,
          162,
          86,
          0,
          2,
          0,
          10,
          7,
          0,
          7,
          1,
          64,
          7,
          172,
          26,
          4,
          1,
          68,
          0,
          8,
          42,
          0,
          56,
          197,
          12,
          3,
          0,
          3,
          99,
          15,
          0,
          23,
          6,
          185,
          16,
          133,
          0,
          1,
          140,
          102,
          8,
          50,
          3,
          1,
          3,
          0,
          4,
          6,
          48,
          35,
          27,
          0,
          5,
          19,
          6,
          0,
          35,
          0,
          23,
          71,
          1,
          5,
          0,
          0,
          8,
          34,
          4,
          0,
          23,
          1,
          3,
          3,
          6,
          60,
          11,
          7,
          3,
          24,
          72,
          0,
          3,
          3,
          5,
          0,
          0,
          129,
          4,
          26
         ],
         "yaxis": "y"
        },
        {
         "alignmentgroup": "True",
         "hovertemplate": "Recency_caty=Most Frequent within 10 days<br>Income_cat=%{x}<br>MntFruits=%{y}<extra></extra>",
         "legendgroup": "Most Frequent within 10 days",
         "marker": {
          "color": "#EF553B",
          "pattern": {
           "shape": ""
          }
         },
         "name": "Most Frequent within 10 days",
         "offsetgroup": "Most Frequent within 10 days",
         "orientation": "v",
         "showlegend": true,
         "textposition": "auto",
         "type": "bar",
         "x": [
          "within_51k-80K",
          "within_21k-50K",
          "within_51k-80K",
          "within 81k-100k",
          "within_21k-50K",
          "within_51k-80K",
          "within_51k-80K",
          "within_51k-80K",
          "within_51k-80K",
          "within_51k-80K",
          "within_21k-50K",
          "within_51k-80K",
          "within_51k-80K",
          "within_51k-80K",
          "within_51k-80K",
          "within_51k-80K",
          "within_21k-50K",
          "within_51k-80K",
          "within_51k-80K",
          "within_51k-80K",
          "within_20K",
          "within_51k-80K",
          "within_51k-80K",
          "within 81k-100k",
          "within_51k-80K",
          "within_101k-120k",
          "within_21k-50K",
          "within_51k-80K",
          "within_21k-50K",
          "within_21k-50K",
          "within_21k-50K",
          "within_21k-50K",
          "within_51k-80K",
          "within_51k-80K",
          "within_21k-50K",
          "within 81k-100k",
          "within_51k-80K",
          "within_51k-80K",
          "within_51k-80K",
          "within_21k-50K",
          "within_21k-50K",
          "within_51k-80K",
          "within 81k-100k",
          "within_21k-50K",
          "within_51k-80K",
          "within_51k-80K",
          "within_51k-80K",
          "within_21k-50K",
          "within_21k-50K",
          "within_51k-80K",
          "within_21k-50K",
          "within 81k-100k",
          "within 81k-100k",
          "within_21k-50K",
          "within_21k-50K",
          "within_51k-80K",
          "within_21k-50K",
          "within_51k-80K",
          "within_21k-50K",
          "within_21k-50K",
          "within_21k-50K",
          "within_51k-80K",
          "within_51k-80K",
          "within_21k-50K",
          "within_51k-80K",
          "within_21k-50K",
          "within_21k-50K",
          "within_21k-50K",
          "within_51k-80K",
          "within_51k-80K",
          "within_21k-50K",
          "within_51k-80K",
          "within_51k-80K",
          "within_51k-80K",
          "within_21k-50K",
          "within_21k-50K",
          "within_21k-50K",
          "within 81k-100k",
          "within_21k-50K",
          "within_51k-80K",
          "within_21k-50K",
          "within 81k-100k",
          "within_21k-50K",
          "within_21k-50K",
          "within 81k-100k",
          "within_51k-80K",
          "within_51k-80K",
          "within_51k-80K",
          "within 81k-100k",
          "within 81k-100k",
          "within_51k-80K",
          "within_51k-80K",
          "within_20K",
          "within 81k-100k",
          "within_21k-50K",
          "within 81k-100k",
          "within_51k-80K",
          "within 81k-100k",
          "within_21k-50K",
          "within_51k-80K",
          "within_21k-50K",
          "within_21k-50K",
          "within_21k-50K",
          "within_51k-80K",
          "within_21k-50K",
          "within_51k-80K",
          "within 81k-100k",
          "within_21k-50K",
          "within_21k-50K",
          "within_51k-80K",
          "within_21k-50K",
          "within_21k-50K",
          "within 81k-100k",
          "within_21k-50K",
          "within_51k-80K",
          "within_51k-80K",
          "within_51k-80K",
          "within_51k-80K",
          "within_20K",
          "within_51k-80K",
          "within_21k-50K",
          "within_21k-50K",
          "within_21k-50K",
          "within_21k-50K",
          "within_20K",
          "within_20K",
          "within_20K",
          "within_51k-80K",
          "within_21k-50K",
          "within_51k-80K",
          "within_21k-50K",
          "within_51k-80K",
          "within_51k-80K",
          "within_20K",
          "within_21k-50K",
          "within_21k-50K",
          "within 81k-100k",
          "within_21k-50K",
          "within_51k-80K",
          "within_51k-80K",
          "within_21k-50K",
          "within_21k-50K",
          "within_21k-50K",
          "within_51k-80K",
          "within_51k-80K",
          "within_21k-50K",
          "within_51k-80K",
          "within_51k-80K",
          "within_21k-50K",
          "within_21k-50K",
          "within_51k-80K",
          "within_51k-80K",
          "within_21k-50K",
          "within_21k-50K",
          "within_51k-80K",
          "within_21k-50K",
          "within_21k-50K",
          "within_21k-50K",
          "within_51k-80K",
          "within_51k-80K",
          "within_51k-80K",
          "within_20K",
          "within_21k-50K",
          "within_21k-50K",
          "within_21k-50K",
          "within_51k-80K",
          "within_21k-50K",
          "within_20K",
          "within_21k-50K",
          "within_51k-80K",
          "within_20K",
          "within_21k-50K",
          "within_21k-50K",
          "within_51k-80K",
          "within_21k-50K",
          "within_21k-50K",
          "within_21k-50K",
          "within_51k-80K",
          "within_21k-50K",
          "within_21k-50K",
          "within 81k-100k",
          "within_51k-80K",
          "within_21k-50K",
          "within 81k-100k",
          "within_51k-80K",
          "within_51k-80K",
          "within_51k-80K",
          "within_21k-50K",
          "within_51k-80K",
          "within_101k-120k",
          "within_21k-50K",
          "within_21k-50K",
          "within_51k-80K",
          "within_51k-80K",
          "within_51k-80K",
          "within_51k-80K",
          "within_21k-50K",
          "within_21k-50K",
          "within_51k-80K",
          "within_21k-50K",
          "within_51k-80K",
          "within 81k-100k",
          "within_21k-50K",
          "within_21k-50K",
          "within_21k-50K",
          "within_21k-50K",
          "within_51k-80K",
          "within_51k-80K",
          "within_51k-80K",
          "within_51k-80K",
          "within_21k-50K",
          "within_20K",
          "within_21k-50K",
          "within_51k-80K",
          "within_51k-80K",
          "within_51k-80K",
          "within_51k-80K",
          "within_21k-50K",
          "within_21k-50K",
          "within_21k-50K",
          "within_51k-80K",
          "within_51k-80K",
          "within_21k-50K",
          "within_51k-80K",
          "within_21k-50K",
          "within_51k-80K",
          "within_21k-50K",
          "within_20K",
          "within_21k-50K",
          "within_51k-80K"
         ],
         "xaxis": "x",
         "y": [
          4,
          12,
          34,
          76,
          0,
          37,
          0,
          49,
          36,
          0,
          1,
          6,
          58,
          106,
          0,
          26,
          6,
          11,
          12,
          7,
          4,
          0,
          7,
          76,
          153,
          148,
          2,
          0,
          1,
          0,
          1,
          1,
          153,
          64,
          4,
          134,
          105,
          7,
          0,
          0,
          0,
          0,
          16,
          7,
          0,
          0,
          14,
          0,
          36,
          83,
          0,
          19,
          28,
          8,
          18,
          0,
          1,
          4,
          6,
          8,
          0,
          103,
          6,
          3,
          86,
          1,
          1,
          2,
          9,
          10,
          5,
          51,
          97,
          32,
          5,
          3,
          12,
          148,
          2,
          174,
          5,
          50,
          0,
          0,
          20,
          60,
          58,
          7,
          28,
          19,
          80,
          7,
          5,
          8,
          0,
          17,
          25,
          21,
          3,
          81,
          0,
          3,
          0,
          96,
          2,
          0,
          117,
          10,
          1,
          14,
          1,
          4,
          45,
          2,
          28,
          83,
          21,
          142,
          12,
          83,
          0,
          1,
          2,
          5,
          5,
          10,
          11,
          53,
          57,
          36,
          6,
          0,
          25,
          4,
          10,
          13,
          24,
          1,
          0,
          7,
          1,
          3,
          0,
          81,
          5,
          0,
          35,
          42,
          8,
          17,
          48,
          40,
          4,
          12,
          88,
          11,
          3,
          3,
          107,
          11,
          2,
          0,
          1,
          1,
          4,
          26,
          0,
          17,
          6,
          61,
          7,
          2,
          19,
          23,
          4,
          1,
          2,
          22,
          33,
          0,
          51,
          69,
          0,
          21,
          169,
          25,
          19,
          8,
          9,
          2,
          4,
          4,
          22,
          193,
          105,
          16,
          33,
          0,
          1,
          0,
          37,
          21,
          0,
          1,
          1,
          8,
          35,
          88,
          73,
          7,
          8,
          3,
          12,
          1,
          35,
          63,
          32,
          1,
          2,
          19,
          69,
          37,
          3,
          142,
          1,
          0,
          3,
          8,
          2,
          30
         ],
         "yaxis": "y"
        }
       ],
       "layout": {
        "barmode": "group",
        "legend": {
         "title": {
          "text": "Recency_caty"
         },
         "tracegroupgap": 0
        },
        "margin": {
         "t": 60
        },
        "template": {
         "data": {
          "bar": [
           {
            "error_x": {
             "color": "#2a3f5f"
            },
            "error_y": {
             "color": "#2a3f5f"
            },
            "marker": {
             "line": {
              "color": "#E5ECF6",
              "width": 0.5
             },
             "pattern": {
              "fillmode": "overlay",
              "size": 10,
              "solidity": 0.2
             }
            },
            "type": "bar"
           }
          ],
          "barpolar": [
           {
            "marker": {
             "line": {
              "color": "#E5ECF6",
              "width": 0.5
             },
             "pattern": {
              "fillmode": "overlay",
              "size": 10,
              "solidity": 0.2
             }
            },
            "type": "barpolar"
           }
          ],
          "carpet": [
           {
            "aaxis": {
             "endlinecolor": "#2a3f5f",
             "gridcolor": "white",
             "linecolor": "white",
             "minorgridcolor": "white",
             "startlinecolor": "#2a3f5f"
            },
            "baxis": {
             "endlinecolor": "#2a3f5f",
             "gridcolor": "white",
             "linecolor": "white",
             "minorgridcolor": "white",
             "startlinecolor": "#2a3f5f"
            },
            "type": "carpet"
           }
          ],
          "choropleth": [
           {
            "colorbar": {
             "outlinewidth": 0,
             "ticks": ""
            },
            "type": "choropleth"
           }
          ],
          "contour": [
           {
            "colorbar": {
             "outlinewidth": 0,
             "ticks": ""
            },
            "colorscale": [
             [
              0,
              "#0d0887"
             ],
             [
              0.1111111111111111,
              "#46039f"
             ],
             [
              0.2222222222222222,
              "#7201a8"
             ],
             [
              0.3333333333333333,
              "#9c179e"
             ],
             [
              0.4444444444444444,
              "#bd3786"
             ],
             [
              0.5555555555555556,
              "#d8576b"
             ],
             [
              0.6666666666666666,
              "#ed7953"
             ],
             [
              0.7777777777777778,
              "#fb9f3a"
             ],
             [
              0.8888888888888888,
              "#fdca26"
             ],
             [
              1,
              "#f0f921"
             ]
            ],
            "type": "contour"
           }
          ],
          "contourcarpet": [
           {
            "colorbar": {
             "outlinewidth": 0,
             "ticks": ""
            },
            "type": "contourcarpet"
           }
          ],
          "heatmap": [
           {
            "colorbar": {
             "outlinewidth": 0,
             "ticks": ""
            },
            "colorscale": [
             [
              0,
              "#0d0887"
             ],
             [
              0.1111111111111111,
              "#46039f"
             ],
             [
              0.2222222222222222,
              "#7201a8"
             ],
             [
              0.3333333333333333,
              "#9c179e"
             ],
             [
              0.4444444444444444,
              "#bd3786"
             ],
             [
              0.5555555555555556,
              "#d8576b"
             ],
             [
              0.6666666666666666,
              "#ed7953"
             ],
             [
              0.7777777777777778,
              "#fb9f3a"
             ],
             [
              0.8888888888888888,
              "#fdca26"
             ],
             [
              1,
              "#f0f921"
             ]
            ],
            "type": "heatmap"
           }
          ],
          "heatmapgl": [
           {
            "colorbar": {
             "outlinewidth": 0,
             "ticks": ""
            },
            "colorscale": [
             [
              0,
              "#0d0887"
             ],
             [
              0.1111111111111111,
              "#46039f"
             ],
             [
              0.2222222222222222,
              "#7201a8"
             ],
             [
              0.3333333333333333,
              "#9c179e"
             ],
             [
              0.4444444444444444,
              "#bd3786"
             ],
             [
              0.5555555555555556,
              "#d8576b"
             ],
             [
              0.6666666666666666,
              "#ed7953"
             ],
             [
              0.7777777777777778,
              "#fb9f3a"
             ],
             [
              0.8888888888888888,
              "#fdca26"
             ],
             [
              1,
              "#f0f921"
             ]
            ],
            "type": "heatmapgl"
           }
          ],
          "histogram": [
           {
            "marker": {
             "pattern": {
              "fillmode": "overlay",
              "size": 10,
              "solidity": 0.2
             }
            },
            "type": "histogram"
           }
          ],
          "histogram2d": [
           {
            "colorbar": {
             "outlinewidth": 0,
             "ticks": ""
            },
            "colorscale": [
             [
              0,
              "#0d0887"
             ],
             [
              0.1111111111111111,
              "#46039f"
             ],
             [
              0.2222222222222222,
              "#7201a8"
             ],
             [
              0.3333333333333333,
              "#9c179e"
             ],
             [
              0.4444444444444444,
              "#bd3786"
             ],
             [
              0.5555555555555556,
              "#d8576b"
             ],
             [
              0.6666666666666666,
              "#ed7953"
             ],
             [
              0.7777777777777778,
              "#fb9f3a"
             ],
             [
              0.8888888888888888,
              "#fdca26"
             ],
             [
              1,
              "#f0f921"
             ]
            ],
            "type": "histogram2d"
           }
          ],
          "histogram2dcontour": [
           {
            "colorbar": {
             "outlinewidth": 0,
             "ticks": ""
            },
            "colorscale": [
             [
              0,
              "#0d0887"
             ],
             [
              0.1111111111111111,
              "#46039f"
             ],
             [
              0.2222222222222222,
              "#7201a8"
             ],
             [
              0.3333333333333333,
              "#9c179e"
             ],
             [
              0.4444444444444444,
              "#bd3786"
             ],
             [
              0.5555555555555556,
              "#d8576b"
             ],
             [
              0.6666666666666666,
              "#ed7953"
             ],
             [
              0.7777777777777778,
              "#fb9f3a"
             ],
             [
              0.8888888888888888,
              "#fdca26"
             ],
             [
              1,
              "#f0f921"
             ]
            ],
            "type": "histogram2dcontour"
           }
          ],
          "mesh3d": [
           {
            "colorbar": {
             "outlinewidth": 0,
             "ticks": ""
            },
            "type": "mesh3d"
           }
          ],
          "parcoords": [
           {
            "line": {
             "colorbar": {
              "outlinewidth": 0,
              "ticks": ""
             }
            },
            "type": "parcoords"
           }
          ],
          "pie": [
           {
            "automargin": true,
            "type": "pie"
           }
          ],
          "scatter": [
           {
            "fillpattern": {
             "fillmode": "overlay",
             "size": 10,
             "solidity": 0.2
            },
            "type": "scatter"
           }
          ],
          "scatter3d": [
           {
            "line": {
             "colorbar": {
              "outlinewidth": 0,
              "ticks": ""
             }
            },
            "marker": {
             "colorbar": {
              "outlinewidth": 0,
              "ticks": ""
             }
            },
            "type": "scatter3d"
           }
          ],
          "scattercarpet": [
           {
            "marker": {
             "colorbar": {
              "outlinewidth": 0,
              "ticks": ""
             }
            },
            "type": "scattercarpet"
           }
          ],
          "scattergeo": [
           {
            "marker": {
             "colorbar": {
              "outlinewidth": 0,
              "ticks": ""
             }
            },
            "type": "scattergeo"
           }
          ],
          "scattergl": [
           {
            "marker": {
             "colorbar": {
              "outlinewidth": 0,
              "ticks": ""
             }
            },
            "type": "scattergl"
           }
          ],
          "scattermapbox": [
           {
            "marker": {
             "colorbar": {
              "outlinewidth": 0,
              "ticks": ""
             }
            },
            "type": "scattermapbox"
           }
          ],
          "scatterpolar": [
           {
            "marker": {
             "colorbar": {
              "outlinewidth": 0,
              "ticks": ""
             }
            },
            "type": "scatterpolar"
           }
          ],
          "scatterpolargl": [
           {
            "marker": {
             "colorbar": {
              "outlinewidth": 0,
              "ticks": ""
             }
            },
            "type": "scatterpolargl"
           }
          ],
          "scatterternary": [
           {
            "marker": {
             "colorbar": {
              "outlinewidth": 0,
              "ticks": ""
             }
            },
            "type": "scatterternary"
           }
          ],
          "surface": [
           {
            "colorbar": {
             "outlinewidth": 0,
             "ticks": ""
            },
            "colorscale": [
             [
              0,
              "#0d0887"
             ],
             [
              0.1111111111111111,
              "#46039f"
             ],
             [
              0.2222222222222222,
              "#7201a8"
             ],
             [
              0.3333333333333333,
              "#9c179e"
             ],
             [
              0.4444444444444444,
              "#bd3786"
             ],
             [
              0.5555555555555556,
              "#d8576b"
             ],
             [
              0.6666666666666666,
              "#ed7953"
             ],
             [
              0.7777777777777778,
              "#fb9f3a"
             ],
             [
              0.8888888888888888,
              "#fdca26"
             ],
             [
              1,
              "#f0f921"
             ]
            ],
            "type": "surface"
           }
          ],
          "table": [
           {
            "cells": {
             "fill": {
              "color": "#EBF0F8"
             },
             "line": {
              "color": "white"
             }
            },
            "header": {
             "fill": {
              "color": "#C8D4E3"
             },
             "line": {
              "color": "white"
             }
            },
            "type": "table"
           }
          ]
         },
         "layout": {
          "annotationdefaults": {
           "arrowcolor": "#2a3f5f",
           "arrowhead": 0,
           "arrowwidth": 1
          },
          "autotypenumbers": "strict",
          "coloraxis": {
           "colorbar": {
            "outlinewidth": 0,
            "ticks": ""
           }
          },
          "colorscale": {
           "diverging": [
            [
             0,
             "#8e0152"
            ],
            [
             0.1,
             "#c51b7d"
            ],
            [
             0.2,
             "#de77ae"
            ],
            [
             0.3,
             "#f1b6da"
            ],
            [
             0.4,
             "#fde0ef"
            ],
            [
             0.5,
             "#f7f7f7"
            ],
            [
             0.6,
             "#e6f5d0"
            ],
            [
             0.7,
             "#b8e186"
            ],
            [
             0.8,
             "#7fbc41"
            ],
            [
             0.9,
             "#4d9221"
            ],
            [
             1,
             "#276419"
            ]
           ],
           "sequential": [
            [
             0,
             "#0d0887"
            ],
            [
             0.1111111111111111,
             "#46039f"
            ],
            [
             0.2222222222222222,
             "#7201a8"
            ],
            [
             0.3333333333333333,
             "#9c179e"
            ],
            [
             0.4444444444444444,
             "#bd3786"
            ],
            [
             0.5555555555555556,
             "#d8576b"
            ],
            [
             0.6666666666666666,
             "#ed7953"
            ],
            [
             0.7777777777777778,
             "#fb9f3a"
            ],
            [
             0.8888888888888888,
             "#fdca26"
            ],
            [
             1,
             "#f0f921"
            ]
           ],
           "sequentialminus": [
            [
             0,
             "#0d0887"
            ],
            [
             0.1111111111111111,
             "#46039f"
            ],
            [
             0.2222222222222222,
             "#7201a8"
            ],
            [
             0.3333333333333333,
             "#9c179e"
            ],
            [
             0.4444444444444444,
             "#bd3786"
            ],
            [
             0.5555555555555556,
             "#d8576b"
            ],
            [
             0.6666666666666666,
             "#ed7953"
            ],
            [
             0.7777777777777778,
             "#fb9f3a"
            ],
            [
             0.8888888888888888,
             "#fdca26"
            ],
            [
             1,
             "#f0f921"
            ]
           ]
          },
          "colorway": [
           "#636efa",
           "#EF553B",
           "#00cc96",
           "#ab63fa",
           "#FFA15A",
           "#19d3f3",
           "#FF6692",
           "#B6E880",
           "#FF97FF",
           "#FECB52"
          ],
          "font": {
           "color": "#2a3f5f"
          },
          "geo": {
           "bgcolor": "white",
           "lakecolor": "white",
           "landcolor": "#E5ECF6",
           "showlakes": true,
           "showland": true,
           "subunitcolor": "white"
          },
          "hoverlabel": {
           "align": "left"
          },
          "hovermode": "closest",
          "mapbox": {
           "style": "light"
          },
          "paper_bgcolor": "white",
          "plot_bgcolor": "#E5ECF6",
          "polar": {
           "angularaxis": {
            "gridcolor": "white",
            "linecolor": "white",
            "ticks": ""
           },
           "bgcolor": "#E5ECF6",
           "radialaxis": {
            "gridcolor": "white",
            "linecolor": "white",
            "ticks": ""
           }
          },
          "scene": {
           "xaxis": {
            "backgroundcolor": "#E5ECF6",
            "gridcolor": "white",
            "gridwidth": 2,
            "linecolor": "white",
            "showbackground": true,
            "ticks": "",
            "zerolinecolor": "white"
           },
           "yaxis": {
            "backgroundcolor": "#E5ECF6",
            "gridcolor": "white",
            "gridwidth": 2,
            "linecolor": "white",
            "showbackground": true,
            "ticks": "",
            "zerolinecolor": "white"
           },
           "zaxis": {
            "backgroundcolor": "#E5ECF6",
            "gridcolor": "white",
            "gridwidth": 2,
            "linecolor": "white",
            "showbackground": true,
            "ticks": "",
            "zerolinecolor": "white"
           }
          },
          "shapedefaults": {
           "line": {
            "color": "#2a3f5f"
           }
          },
          "ternary": {
           "aaxis": {
            "gridcolor": "white",
            "linecolor": "white",
            "ticks": ""
           },
           "baxis": {
            "gridcolor": "white",
            "linecolor": "white",
            "ticks": ""
           },
           "bgcolor": "#E5ECF6",
           "caxis": {
            "gridcolor": "white",
            "linecolor": "white",
            "ticks": ""
           }
          },
          "title": {
           "x": 0.05
          },
          "xaxis": {
           "automargin": true,
           "gridcolor": "white",
           "linecolor": "white",
           "ticks": "",
           "title": {
            "standoff": 15
           },
           "zerolinecolor": "white",
           "zerolinewidth": 2
          },
          "yaxis": {
           "automargin": true,
           "gridcolor": "white",
           "linecolor": "white",
           "ticks": "",
           "title": {
            "standoff": 15
           },
           "zerolinecolor": "white",
           "zerolinewidth": 2
          }
         }
        },
        "xaxis": {
         "anchor": "y",
         "domain": [
          0,
          1
         ],
         "title": {
          "text": "Income_cat"
         }
        },
        "yaxis": {
         "anchor": "x",
         "domain": [
          0,
          1
         ],
         "title": {
          "text": "MntFruits"
         }
        }
       }
      }
     },
     "metadata": {},
     "output_type": "display_data"
    }
   ],
   "source": [
    "px.bar(recent_items,x = recent_items[\"Income_cat\"],y = recent_items['MntFruits'],color=recent_items['Recency_caty'],barmode='group')"
   ]
  },
  {
   "cell_type": "code",
   "execution_count": 62,
   "metadata": {},
   "outputs": [
    {
     "data": {
      "application/vnd.plotly.v1+json": {
       "config": {
        "plotlyServerURL": "https://plot.ly"
       },
       "data": [
        {
         "alignmentgroup": "True",
         "hovertemplate": "Recency_caty=Frequent between 11 to 20 days<br>Income_cat=%{x}<br>MntFishProducts=%{y}<extra></extra>",
         "legendgroup": "Frequent between 11 to 20 days",
         "marker": {
          "color": "#636efa",
          "pattern": {
           "shape": ""
          }
         },
         "name": "Frequent between 11 to 20 days",
         "offsetgroup": "Frequent between 11 to 20 days",
         "orientation": "v",
         "showlegend": true,
         "textposition": "auto",
         "type": "bar",
         "x": [
          "within_51k-80K",
          "within_21k-50K",
          "within_21k-50K",
          "within_20K",
          "within_51k-80K",
          "within_51k-80K",
          "within 81k-100k",
          "within_21k-50K",
          "within 81k-100k",
          "within_21k-50K",
          "within_21k-50K",
          "within 81k-100k",
          "within_21k-50K",
          "within_21k-50K",
          "within_21k-50K",
          "within_21k-50K",
          "within_51k-80K",
          "within_51k-80K",
          "within_21k-50K",
          "within_51k-80K",
          "within_21k-50K",
          "within 81k-100k",
          "within_51k-80K",
          "within_21k-50K",
          "within_51k-80K",
          "within_51k-80K",
          "within_21k-50K",
          "within_21k-50K",
          "within_21k-50K",
          "within_21k-50K",
          "within_51k-80K",
          "within_51k-80K",
          "within_21k-50K",
          "within_21k-50K",
          "within_21k-50K",
          "within_51k-80K",
          "within_21k-50K",
          "within 81k-100k",
          "within_21k-50K",
          "within_21k-50K",
          "within_51k-80K",
          "within_21k-50K",
          "within_51k-80K",
          "within_21k-50K",
          "within_21k-50K",
          "within_21k-50K",
          "within_51k-80K",
          "within_21k-50K",
          "within_21k-50K",
          "within 81k-100k",
          "within_21k-50K",
          "within_51k-80K",
          "within_51k-80K",
          "within_20K",
          "within_21k-50K",
          "within_21k-50K",
          "within_51k-80K",
          "within_21k-50K",
          "within_21k-50K",
          "within_51k-80K",
          "within_51k-80K",
          "within 81k-100k",
          "within_51k-80K",
          "within_51k-80K",
          "within_51k-80K",
          "within_51k-80K",
          "within_51k-80K",
          "within_21k-50K",
          "within_20K",
          "within_21k-50K",
          "within_21k-50K",
          "within_51k-80K",
          "within 81k-100k",
          "within_21k-50K",
          "within 81k-100k",
          "within_21k-50K",
          "within_51k-80K",
          "within_21k-50K",
          "within 81k-100k",
          "within_20K",
          "within 81k-100k",
          "within 81k-100k",
          "within_51k-80K",
          "within_21k-50K",
          "within_51k-80K",
          "within_51k-80K",
          "within_51k-80K",
          "within_21k-50K",
          "within_21k-50K",
          "within_21k-50K",
          "within 81k-100k",
          "within_21k-50K",
          "within_21k-50K",
          "within_51k-80K",
          "within_21k-50K",
          "within_21k-50K",
          "within_21k-50K",
          "within_20K",
          "within 81k-100k",
          "within 81k-100k",
          "within_21k-50K",
          "within_21k-50K",
          "within_51k-80K",
          "within_21k-50K",
          "within_20K",
          "within_21k-50K",
          "within_51k-80K",
          "within_51k-80K",
          "within_51k-80K",
          "within_51k-80K",
          "within_51k-80K",
          "within_21k-50K",
          "within 81k-100k",
          "within_51k-80K",
          "within_21k-50K",
          "within_51k-80K",
          "within_21k-50K",
          "within_21k-50K",
          "within_21k-50K",
          "within_51k-80K",
          "within_51k-80K",
          "within_21k-50K",
          "within_21k-50K",
          "within_51k-80K",
          "within_21k-50K",
          "within_20K",
          "within_51k-80K",
          "within_51k-80K",
          "within 81k-100k",
          "within_51k-80K",
          "within_21k-50K",
          "within_20K",
          "within_21k-50K",
          "within_51k-80K",
          "within_51k-80K",
          "within_51k-80K",
          "within_21k-50K",
          "within_51k-80K",
          "within_51k-80K",
          "within_51k-80K",
          "within_51k-80K",
          "within_21k-50K",
          "within_21k-50K",
          "within 81k-100k",
          "within_21k-50K",
          "within_21k-50K",
          "within_51k-80K",
          "within_21k-50K",
          "within_51k-80K",
          "within_51k-80K",
          "within_21k-50K",
          "within_21k-50K",
          "within_51k-80K",
          "within_21k-50K",
          "within_51k-80K",
          "within_51k-80K",
          "within_21k-50K",
          "within 81k-100k",
          "within_21k-50K",
          "within_51k-80K",
          "within_20K",
          "within_21k-50K",
          "within_51k-80K",
          "within_21k-50K",
          "within_51k-80K",
          "within 81k-100k",
          "within_21k-50K",
          "within_51k-80K",
          "within_21k-50K",
          "within_21k-50K",
          "within_21k-50K",
          "within_21k-50K",
          "within_21k-50K",
          "within_21k-50K",
          "within_51k-80K",
          "within_51k-80K",
          "within_51k-80K",
          "within_21k-50K",
          "within_21k-50K",
          "within 81k-100k",
          "within_21k-50K",
          "within_51k-80K",
          "within_51k-80K",
          "within_20K",
          "within_51k-80K",
          "within_21k-50K",
          "within_21k-50K",
          "within_21k-50K",
          "within_21k-50K",
          "within_20K",
          "within_21k-50K",
          "within_51k-80K",
          "within_51k-80K",
          "within_21k-50K",
          "within_21k-50K",
          "within_21k-50K",
          "within_21k-50K",
          "within_21k-50K",
          "within_21k-50K",
          "within_51k-80K",
          "within_21k-50K",
          "within_21k-50K",
          "within_21k-50K",
          "within_21k-50K",
          "within_51k-80K",
          "within_21k-50K",
          "within_21k-50K",
          "within_20K",
          "within_51k-80K",
          "within_51k-80K",
          "within_20K",
          "within_51k-80K",
          "within_20K",
          "within_51k-80K"
         ],
         "xaxis": "x",
         "y": [
          0,
          3,
          150,
          3,
          69,
          16,
          201,
          0,
          27,
          2,
          4,
          31,
          0,
          0,
          73,
          19,
          43,
          0,
          0,
          140,
          3,
          50,
          42,
          65,
          33,
          162,
          8,
          0,
          150,
          0,
          150,
          166,
          0,
          4,
          20,
          3,
          11,
          40,
          11,
          0,
          119,
          4,
          32,
          78,
          4,
          12,
          0,
          10,
          3,
          52,
          3,
          28,
          6,
          4,
          4,
          8,
          23,
          2,
          2,
          0,
          99,
          25,
          16,
          224,
          65,
          136,
          168,
          0,
          3,
          0,
          2,
          168,
          42,
          4,
          32,
          17,
          34,
          19,
          63,
          13,
          59,
          41,
          175,
          2,
          46,
          19,
          23,
          12,
          19,
          7,
          89,
          3,
          4,
          39,
          8,
          6,
          6,
          1,
          192,
          49,
          7,
          0,
          116,
          0,
          3,
          21,
          64,
          99,
          80,
          0,
          21,
          2,
          39,
          6,
          19,
          123,
          10,
          0,
          0,
          15,
          50,
          8,
          3,
          145,
          34,
          6,
          207,
          41,
          34,
          19,
          4,
          23,
          19,
          0,
          182,
          0,
          0,
          65,
          69,
          38,
          3,
          4,
          3,
          89,
          0,
          12,
          55,
          3,
          91,
          58,
          6,
          3,
          10,
          4,
          185,
          142,
          0,
          27,
          8,
          24,
          0,
          71,
          0,
          2,
          34,
          52,
          24,
          21,
          16,
          0,
          10,
          0,
          0,
          12,
          0,
          101,
          216,
          2,
          4,
          160,
          13,
          6,
          69,
          6,
          15,
          108,
          3,
          0,
          0,
          23,
          12,
          90,
          11,
          7,
          4,
          0,
          10,
          15,
          10,
          13,
          2,
          26,
          4,
          16,
          47,
          3,
          4,
          8,
          13,
          3,
          23,
          182,
          1,
          69
         ],
         "yaxis": "y"
        },
        {
         "alignmentgroup": "True",
         "hovertemplate": "Recency_caty=Most Frequent within 10 days<br>Income_cat=%{x}<br>MntFishProducts=%{y}<extra></extra>",
         "legendgroup": "Most Frequent within 10 days",
         "marker": {
          "color": "#EF553B",
          "pattern": {
           "shape": ""
          }
         },
         "name": "Most Frequent within 10 days",
         "offsetgroup": "Most Frequent within 10 days",
         "orientation": "v",
         "showlegend": true,
         "textposition": "auto",
         "type": "bar",
         "x": [
          "within_51k-80K",
          "within_21k-50K",
          "within_51k-80K",
          "within 81k-100k",
          "within_21k-50K",
          "within_51k-80K",
          "within_51k-80K",
          "within_51k-80K",
          "within_51k-80K",
          "within_51k-80K",
          "within_21k-50K",
          "within_51k-80K",
          "within_51k-80K",
          "within_51k-80K",
          "within_51k-80K",
          "within_51k-80K",
          "within_21k-50K",
          "within_51k-80K",
          "within_51k-80K",
          "within_51k-80K",
          "within_20K",
          "within_51k-80K",
          "within_51k-80K",
          "within 81k-100k",
          "within_51k-80K",
          "within_101k-120k",
          "within_21k-50K",
          "within_51k-80K",
          "within_21k-50K",
          "within_21k-50K",
          "within_21k-50K",
          "within_21k-50K",
          "within_51k-80K",
          "within_51k-80K",
          "within_21k-50K",
          "within 81k-100k",
          "within_51k-80K",
          "within_51k-80K",
          "within_51k-80K",
          "within_21k-50K",
          "within_21k-50K",
          "within_51k-80K",
          "within 81k-100k",
          "within_21k-50K",
          "within_51k-80K",
          "within_51k-80K",
          "within_51k-80K",
          "within_21k-50K",
          "within_21k-50K",
          "within_51k-80K",
          "within_21k-50K",
          "within 81k-100k",
          "within 81k-100k",
          "within_21k-50K",
          "within_21k-50K",
          "within_51k-80K",
          "within_21k-50K",
          "within_51k-80K",
          "within_21k-50K",
          "within_21k-50K",
          "within_21k-50K",
          "within_51k-80K",
          "within_51k-80K",
          "within_21k-50K",
          "within_51k-80K",
          "within_21k-50K",
          "within_21k-50K",
          "within_21k-50K",
          "within_51k-80K",
          "within_51k-80K",
          "within_21k-50K",
          "within_51k-80K",
          "within_51k-80K",
          "within_51k-80K",
          "within_21k-50K",
          "within_21k-50K",
          "within_21k-50K",
          "within 81k-100k",
          "within_21k-50K",
          "within_51k-80K",
          "within_21k-50K",
          "within 81k-100k",
          "within_21k-50K",
          "within_21k-50K",
          "within 81k-100k",
          "within_51k-80K",
          "within_51k-80K",
          "within_51k-80K",
          "within 81k-100k",
          "within 81k-100k",
          "within_51k-80K",
          "within_51k-80K",
          "within_20K",
          "within 81k-100k",
          "within_21k-50K",
          "within 81k-100k",
          "within_51k-80K",
          "within 81k-100k",
          "within_21k-50K",
          "within_51k-80K",
          "within_21k-50K",
          "within_21k-50K",
          "within_21k-50K",
          "within_51k-80K",
          "within_21k-50K",
          "within_51k-80K",
          "within 81k-100k",
          "within_21k-50K",
          "within_21k-50K",
          "within_51k-80K",
          "within_21k-50K",
          "within_21k-50K",
          "within 81k-100k",
          "within_21k-50K",
          "within_51k-80K",
          "within_51k-80K",
          "within_51k-80K",
          "within_51k-80K",
          "within_20K",
          "within_51k-80K",
          "within_21k-50K",
          "within_21k-50K",
          "within_21k-50K",
          "within_21k-50K",
          "within_20K",
          "within_20K",
          "within_20K",
          "within_51k-80K",
          "within_21k-50K",
          "within_51k-80K",
          "within_21k-50K",
          "within_51k-80K",
          "within_51k-80K",
          "within_20K",
          "within_21k-50K",
          "within_21k-50K",
          "within 81k-100k",
          "within_21k-50K",
          "within_51k-80K",
          "within_51k-80K",
          "within_21k-50K",
          "within_21k-50K",
          "within_21k-50K",
          "within_51k-80K",
          "within_51k-80K",
          "within_21k-50K",
          "within_51k-80K",
          "within_51k-80K",
          "within_21k-50K",
          "within_21k-50K",
          "within_51k-80K",
          "within_51k-80K",
          "within_21k-50K",
          "within_21k-50K",
          "within_51k-80K",
          "within_21k-50K",
          "within_21k-50K",
          "within_21k-50K",
          "within_51k-80K",
          "within_51k-80K",
          "within_51k-80K",
          "within_20K",
          "within_21k-50K",
          "within_21k-50K",
          "within_21k-50K",
          "within_51k-80K",
          "within_21k-50K",
          "within_20K",
          "within_21k-50K",
          "within_51k-80K",
          "within_20K",
          "within_21k-50K",
          "within_21k-50K",
          "within_51k-80K",
          "within_21k-50K",
          "within_21k-50K",
          "within_21k-50K",
          "within_51k-80K",
          "within_21k-50K",
          "within_21k-50K",
          "within 81k-100k",
          "within_51k-80K",
          "within_21k-50K",
          "within 81k-100k",
          "within_51k-80K",
          "within_51k-80K",
          "within_51k-80K",
          "within_21k-50K",
          "within_51k-80K",
          "within_101k-120k",
          "within_21k-50K",
          "within_21k-50K",
          "within_51k-80K",
          "within_51k-80K",
          "within_51k-80K",
          "within_51k-80K",
          "within_21k-50K",
          "within_21k-50K",
          "within_51k-80K",
          "within_21k-50K",
          "within_51k-80K",
          "within 81k-100k",
          "within_21k-50K",
          "within_21k-50K",
          "within_21k-50K",
          "within_21k-50K",
          "within_51k-80K",
          "within_51k-80K",
          "within_51k-80K",
          "within_51k-80K",
          "within_21k-50K",
          "within_20K",
          "within_21k-50K",
          "within_51k-80K",
          "within_51k-80K",
          "within_51k-80K",
          "within_51k-80K",
          "within_21k-50K",
          "within_21k-50K",
          "within_21k-50K",
          "within_51k-80K",
          "within_51k-80K",
          "within_21k-50K",
          "within_51k-80K",
          "within_21k-50K",
          "within_51k-80K",
          "within_21k-50K",
          "within_20K",
          "within_21k-50K",
          "within_51k-80K"
         ],
         "xaxis": "x",
         "y": [
          3,
          33,
          119,
          82,
          3,
          27,
          0,
          7,
          189,
          0,
          2,
          0,
          65,
          23,
          13,
          34,
          4,
          10,
          16,
          2,
          7,
          0,
          19,
          180,
          218,
          32,
          3,
          6,
          0,
          0,
          0,
          2,
          72,
          84,
          3,
          33,
          137,
          13,
          38,
          19,
          2,
          97,
          43,
          11,
          32,
          13,
          91,
          0,
          20,
          86,
          4,
          0,
          111,
          8,
          28,
          13,
          7,
          6,
          11,
          19,
          0,
          8,
          8,
          26,
          63,
          0,
          2,
          3,
          0,
          13,
          12,
          247,
          127,
          76,
          28,
          2,
          3,
          15,
          6,
          50,
          0,
          134,
          0,
          0,
          29,
          78,
          76,
          0,
          29,
          0,
          17,
          110,
          8,
          150,
          0,
          45,
          130,
          106,
          6,
          106,
          0,
          4,
          0,
          168,
          7,
          0,
          134,
          4,
          0,
          19,
          2,
          3,
          30,
          3,
          84,
          86,
          62,
          259,
          0,
          32,
          0,
          2,
          2,
          6,
          13,
          16,
          4,
          98,
          71,
          172,
          0,
          0,
          124,
          8,
          0,
          0,
          51,
          0,
          13,
          30,
          6,
          0,
          0,
          106,
          7,
          2,
          33,
          73,
          8,
          20,
          42,
          80,
          4,
          25,
          69,
          15,
          10,
          4,
          140,
          15,
          0,
          3,
          4,
          0,
          6,
          116,
          0,
          6,
          2,
          10,
          15,
          0,
          2,
          82,
          15,
          4,
          0,
          138,
          8,
          11,
          224,
          150,
          0,
          0,
          20,
          124,
          0,
          4,
          50,
          1,
          10,
          0,
          39,
          205,
          28,
          0,
          8,
          2,
          6,
          3,
          145,
          52,
          0,
          13,
          0,
          32,
          46,
          69,
          114,
          10,
          32,
          7,
          3,
          6,
          0,
          0,
          229,
          4,
          4,
          50,
          150,
          193,
          4,
          62,
          3,
          13,
          4,
          3,
          20,
          80
         ],
         "yaxis": "y"
        }
       ],
       "layout": {
        "barmode": "group",
        "legend": {
         "title": {
          "text": "Recency_caty"
         },
         "tracegroupgap": 0
        },
        "margin": {
         "t": 60
        },
        "template": {
         "data": {
          "bar": [
           {
            "error_x": {
             "color": "#2a3f5f"
            },
            "error_y": {
             "color": "#2a3f5f"
            },
            "marker": {
             "line": {
              "color": "#E5ECF6",
              "width": 0.5
             },
             "pattern": {
              "fillmode": "overlay",
              "size": 10,
              "solidity": 0.2
             }
            },
            "type": "bar"
           }
          ],
          "barpolar": [
           {
            "marker": {
             "line": {
              "color": "#E5ECF6",
              "width": 0.5
             },
             "pattern": {
              "fillmode": "overlay",
              "size": 10,
              "solidity": 0.2
             }
            },
            "type": "barpolar"
           }
          ],
          "carpet": [
           {
            "aaxis": {
             "endlinecolor": "#2a3f5f",
             "gridcolor": "white",
             "linecolor": "white",
             "minorgridcolor": "white",
             "startlinecolor": "#2a3f5f"
            },
            "baxis": {
             "endlinecolor": "#2a3f5f",
             "gridcolor": "white",
             "linecolor": "white",
             "minorgridcolor": "white",
             "startlinecolor": "#2a3f5f"
            },
            "type": "carpet"
           }
          ],
          "choropleth": [
           {
            "colorbar": {
             "outlinewidth": 0,
             "ticks": ""
            },
            "type": "choropleth"
           }
          ],
          "contour": [
           {
            "colorbar": {
             "outlinewidth": 0,
             "ticks": ""
            },
            "colorscale": [
             [
              0,
              "#0d0887"
             ],
             [
              0.1111111111111111,
              "#46039f"
             ],
             [
              0.2222222222222222,
              "#7201a8"
             ],
             [
              0.3333333333333333,
              "#9c179e"
             ],
             [
              0.4444444444444444,
              "#bd3786"
             ],
             [
              0.5555555555555556,
              "#d8576b"
             ],
             [
              0.6666666666666666,
              "#ed7953"
             ],
             [
              0.7777777777777778,
              "#fb9f3a"
             ],
             [
              0.8888888888888888,
              "#fdca26"
             ],
             [
              1,
              "#f0f921"
             ]
            ],
            "type": "contour"
           }
          ],
          "contourcarpet": [
           {
            "colorbar": {
             "outlinewidth": 0,
             "ticks": ""
            },
            "type": "contourcarpet"
           }
          ],
          "heatmap": [
           {
            "colorbar": {
             "outlinewidth": 0,
             "ticks": ""
            },
            "colorscale": [
             [
              0,
              "#0d0887"
             ],
             [
              0.1111111111111111,
              "#46039f"
             ],
             [
              0.2222222222222222,
              "#7201a8"
             ],
             [
              0.3333333333333333,
              "#9c179e"
             ],
             [
              0.4444444444444444,
              "#bd3786"
             ],
             [
              0.5555555555555556,
              "#d8576b"
             ],
             [
              0.6666666666666666,
              "#ed7953"
             ],
             [
              0.7777777777777778,
              "#fb9f3a"
             ],
             [
              0.8888888888888888,
              "#fdca26"
             ],
             [
              1,
              "#f0f921"
             ]
            ],
            "type": "heatmap"
           }
          ],
          "heatmapgl": [
           {
            "colorbar": {
             "outlinewidth": 0,
             "ticks": ""
            },
            "colorscale": [
             [
              0,
              "#0d0887"
             ],
             [
              0.1111111111111111,
              "#46039f"
             ],
             [
              0.2222222222222222,
              "#7201a8"
             ],
             [
              0.3333333333333333,
              "#9c179e"
             ],
             [
              0.4444444444444444,
              "#bd3786"
             ],
             [
              0.5555555555555556,
              "#d8576b"
             ],
             [
              0.6666666666666666,
              "#ed7953"
             ],
             [
              0.7777777777777778,
              "#fb9f3a"
             ],
             [
              0.8888888888888888,
              "#fdca26"
             ],
             [
              1,
              "#f0f921"
             ]
            ],
            "type": "heatmapgl"
           }
          ],
          "histogram": [
           {
            "marker": {
             "pattern": {
              "fillmode": "overlay",
              "size": 10,
              "solidity": 0.2
             }
            },
            "type": "histogram"
           }
          ],
          "histogram2d": [
           {
            "colorbar": {
             "outlinewidth": 0,
             "ticks": ""
            },
            "colorscale": [
             [
              0,
              "#0d0887"
             ],
             [
              0.1111111111111111,
              "#46039f"
             ],
             [
              0.2222222222222222,
              "#7201a8"
             ],
             [
              0.3333333333333333,
              "#9c179e"
             ],
             [
              0.4444444444444444,
              "#bd3786"
             ],
             [
              0.5555555555555556,
              "#d8576b"
             ],
             [
              0.6666666666666666,
              "#ed7953"
             ],
             [
              0.7777777777777778,
              "#fb9f3a"
             ],
             [
              0.8888888888888888,
              "#fdca26"
             ],
             [
              1,
              "#f0f921"
             ]
            ],
            "type": "histogram2d"
           }
          ],
          "histogram2dcontour": [
           {
            "colorbar": {
             "outlinewidth": 0,
             "ticks": ""
            },
            "colorscale": [
             [
              0,
              "#0d0887"
             ],
             [
              0.1111111111111111,
              "#46039f"
             ],
             [
              0.2222222222222222,
              "#7201a8"
             ],
             [
              0.3333333333333333,
              "#9c179e"
             ],
             [
              0.4444444444444444,
              "#bd3786"
             ],
             [
              0.5555555555555556,
              "#d8576b"
             ],
             [
              0.6666666666666666,
              "#ed7953"
             ],
             [
              0.7777777777777778,
              "#fb9f3a"
             ],
             [
              0.8888888888888888,
              "#fdca26"
             ],
             [
              1,
              "#f0f921"
             ]
            ],
            "type": "histogram2dcontour"
           }
          ],
          "mesh3d": [
           {
            "colorbar": {
             "outlinewidth": 0,
             "ticks": ""
            },
            "type": "mesh3d"
           }
          ],
          "parcoords": [
           {
            "line": {
             "colorbar": {
              "outlinewidth": 0,
              "ticks": ""
             }
            },
            "type": "parcoords"
           }
          ],
          "pie": [
           {
            "automargin": true,
            "type": "pie"
           }
          ],
          "scatter": [
           {
            "fillpattern": {
             "fillmode": "overlay",
             "size": 10,
             "solidity": 0.2
            },
            "type": "scatter"
           }
          ],
          "scatter3d": [
           {
            "line": {
             "colorbar": {
              "outlinewidth": 0,
              "ticks": ""
             }
            },
            "marker": {
             "colorbar": {
              "outlinewidth": 0,
              "ticks": ""
             }
            },
            "type": "scatter3d"
           }
          ],
          "scattercarpet": [
           {
            "marker": {
             "colorbar": {
              "outlinewidth": 0,
              "ticks": ""
             }
            },
            "type": "scattercarpet"
           }
          ],
          "scattergeo": [
           {
            "marker": {
             "colorbar": {
              "outlinewidth": 0,
              "ticks": ""
             }
            },
            "type": "scattergeo"
           }
          ],
          "scattergl": [
           {
            "marker": {
             "colorbar": {
              "outlinewidth": 0,
              "ticks": ""
             }
            },
            "type": "scattergl"
           }
          ],
          "scattermapbox": [
           {
            "marker": {
             "colorbar": {
              "outlinewidth": 0,
              "ticks": ""
             }
            },
            "type": "scattermapbox"
           }
          ],
          "scatterpolar": [
           {
            "marker": {
             "colorbar": {
              "outlinewidth": 0,
              "ticks": ""
             }
            },
            "type": "scatterpolar"
           }
          ],
          "scatterpolargl": [
           {
            "marker": {
             "colorbar": {
              "outlinewidth": 0,
              "ticks": ""
             }
            },
            "type": "scatterpolargl"
           }
          ],
          "scatterternary": [
           {
            "marker": {
             "colorbar": {
              "outlinewidth": 0,
              "ticks": ""
             }
            },
            "type": "scatterternary"
           }
          ],
          "surface": [
           {
            "colorbar": {
             "outlinewidth": 0,
             "ticks": ""
            },
            "colorscale": [
             [
              0,
              "#0d0887"
             ],
             [
              0.1111111111111111,
              "#46039f"
             ],
             [
              0.2222222222222222,
              "#7201a8"
             ],
             [
              0.3333333333333333,
              "#9c179e"
             ],
             [
              0.4444444444444444,
              "#bd3786"
             ],
             [
              0.5555555555555556,
              "#d8576b"
             ],
             [
              0.6666666666666666,
              "#ed7953"
             ],
             [
              0.7777777777777778,
              "#fb9f3a"
             ],
             [
              0.8888888888888888,
              "#fdca26"
             ],
             [
              1,
              "#f0f921"
             ]
            ],
            "type": "surface"
           }
          ],
          "table": [
           {
            "cells": {
             "fill": {
              "color": "#EBF0F8"
             },
             "line": {
              "color": "white"
             }
            },
            "header": {
             "fill": {
              "color": "#C8D4E3"
             },
             "line": {
              "color": "white"
             }
            },
            "type": "table"
           }
          ]
         },
         "layout": {
          "annotationdefaults": {
           "arrowcolor": "#2a3f5f",
           "arrowhead": 0,
           "arrowwidth": 1
          },
          "autotypenumbers": "strict",
          "coloraxis": {
           "colorbar": {
            "outlinewidth": 0,
            "ticks": ""
           }
          },
          "colorscale": {
           "diverging": [
            [
             0,
             "#8e0152"
            ],
            [
             0.1,
             "#c51b7d"
            ],
            [
             0.2,
             "#de77ae"
            ],
            [
             0.3,
             "#f1b6da"
            ],
            [
             0.4,
             "#fde0ef"
            ],
            [
             0.5,
             "#f7f7f7"
            ],
            [
             0.6,
             "#e6f5d0"
            ],
            [
             0.7,
             "#b8e186"
            ],
            [
             0.8,
             "#7fbc41"
            ],
            [
             0.9,
             "#4d9221"
            ],
            [
             1,
             "#276419"
            ]
           ],
           "sequential": [
            [
             0,
             "#0d0887"
            ],
            [
             0.1111111111111111,
             "#46039f"
            ],
            [
             0.2222222222222222,
             "#7201a8"
            ],
            [
             0.3333333333333333,
             "#9c179e"
            ],
            [
             0.4444444444444444,
             "#bd3786"
            ],
            [
             0.5555555555555556,
             "#d8576b"
            ],
            [
             0.6666666666666666,
             "#ed7953"
            ],
            [
             0.7777777777777778,
             "#fb9f3a"
            ],
            [
             0.8888888888888888,
             "#fdca26"
            ],
            [
             1,
             "#f0f921"
            ]
           ],
           "sequentialminus": [
            [
             0,
             "#0d0887"
            ],
            [
             0.1111111111111111,
             "#46039f"
            ],
            [
             0.2222222222222222,
             "#7201a8"
            ],
            [
             0.3333333333333333,
             "#9c179e"
            ],
            [
             0.4444444444444444,
             "#bd3786"
            ],
            [
             0.5555555555555556,
             "#d8576b"
            ],
            [
             0.6666666666666666,
             "#ed7953"
            ],
            [
             0.7777777777777778,
             "#fb9f3a"
            ],
            [
             0.8888888888888888,
             "#fdca26"
            ],
            [
             1,
             "#f0f921"
            ]
           ]
          },
          "colorway": [
           "#636efa",
           "#EF553B",
           "#00cc96",
           "#ab63fa",
           "#FFA15A",
           "#19d3f3",
           "#FF6692",
           "#B6E880",
           "#FF97FF",
           "#FECB52"
          ],
          "font": {
           "color": "#2a3f5f"
          },
          "geo": {
           "bgcolor": "white",
           "lakecolor": "white",
           "landcolor": "#E5ECF6",
           "showlakes": true,
           "showland": true,
           "subunitcolor": "white"
          },
          "hoverlabel": {
           "align": "left"
          },
          "hovermode": "closest",
          "mapbox": {
           "style": "light"
          },
          "paper_bgcolor": "white",
          "plot_bgcolor": "#E5ECF6",
          "polar": {
           "angularaxis": {
            "gridcolor": "white",
            "linecolor": "white",
            "ticks": ""
           },
           "bgcolor": "#E5ECF6",
           "radialaxis": {
            "gridcolor": "white",
            "linecolor": "white",
            "ticks": ""
           }
          },
          "scene": {
           "xaxis": {
            "backgroundcolor": "#E5ECF6",
            "gridcolor": "white",
            "gridwidth": 2,
            "linecolor": "white",
            "showbackground": true,
            "ticks": "",
            "zerolinecolor": "white"
           },
           "yaxis": {
            "backgroundcolor": "#E5ECF6",
            "gridcolor": "white",
            "gridwidth": 2,
            "linecolor": "white",
            "showbackground": true,
            "ticks": "",
            "zerolinecolor": "white"
           },
           "zaxis": {
            "backgroundcolor": "#E5ECF6",
            "gridcolor": "white",
            "gridwidth": 2,
            "linecolor": "white",
            "showbackground": true,
            "ticks": "",
            "zerolinecolor": "white"
           }
          },
          "shapedefaults": {
           "line": {
            "color": "#2a3f5f"
           }
          },
          "ternary": {
           "aaxis": {
            "gridcolor": "white",
            "linecolor": "white",
            "ticks": ""
           },
           "baxis": {
            "gridcolor": "white",
            "linecolor": "white",
            "ticks": ""
           },
           "bgcolor": "#E5ECF6",
           "caxis": {
            "gridcolor": "white",
            "linecolor": "white",
            "ticks": ""
           }
          },
          "title": {
           "x": 0.05
          },
          "xaxis": {
           "automargin": true,
           "gridcolor": "white",
           "linecolor": "white",
           "ticks": "",
           "title": {
            "standoff": 15
           },
           "zerolinecolor": "white",
           "zerolinewidth": 2
          },
          "yaxis": {
           "automargin": true,
           "gridcolor": "white",
           "linecolor": "white",
           "ticks": "",
           "title": {
            "standoff": 15
           },
           "zerolinecolor": "white",
           "zerolinewidth": 2
          }
         }
        },
        "xaxis": {
         "anchor": "y",
         "domain": [
          0,
          1
         ],
         "title": {
          "text": "Income_cat"
         }
        },
        "yaxis": {
         "anchor": "x",
         "domain": [
          0,
          1
         ],
         "title": {
          "text": "MntFishProducts"
         }
        }
       }
      }
     },
     "metadata": {},
     "output_type": "display_data"
    }
   ],
   "source": [
    "px.bar(recent_items,x = recent_items[\"Income_cat\"],y = recent_items['MntFishProducts'],color=recent_items['Recency_caty'],barmode='group')"
   ]
  },
  {
   "cell_type": "code",
   "execution_count": 73,
   "metadata": {},
   "outputs": [
    {
     "data": {
      "application/vnd.plotly.v1+json": {
       "config": {
        "plotlyServerURL": "https://plot.ly"
       },
       "data": [
        {
         "alignmentgroup": "True",
         "hovertemplate": "Recency_caty=Frequent between 11 to 20 days<br>Income_cat=%{x}<br>MntSweetProducts=%{y}<extra></extra>",
         "legendgroup": "Frequent between 11 to 20 days",
         "marker": {
          "color": "#636efa",
          "pattern": {
           "shape": ""
          }
         },
         "name": "Frequent between 11 to 20 days",
         "offsetgroup": "Frequent between 11 to 20 days",
         "orientation": "v",
         "showlegend": true,
         "textposition": "auto",
         "type": "bar",
         "x": [
          "within_51k-80K",
          "within_21k-50K",
          "within_21k-50K",
          "within_20K",
          "within_51k-80K",
          "within_51k-80K",
          "within 81k-100k",
          "within_21k-50K",
          "within 81k-100k",
          "within_21k-50K",
          "within_21k-50K",
          "within 81k-100k",
          "within_21k-50K",
          "within_21k-50K",
          "within_21k-50K",
          "within_21k-50K",
          "within_51k-80K",
          "within_51k-80K",
          "within_21k-50K",
          "within_51k-80K",
          "within_21k-50K",
          "within 81k-100k",
          "within_51k-80K",
          "within_21k-50K",
          "within_51k-80K",
          "within_51k-80K",
          "within_21k-50K",
          "within_21k-50K",
          "within_21k-50K",
          "within_21k-50K",
          "within_51k-80K",
          "within_51k-80K",
          "within_21k-50K",
          "within_21k-50K",
          "within_21k-50K",
          "within_51k-80K",
          "within_21k-50K",
          "within 81k-100k",
          "within_21k-50K",
          "within_21k-50K",
          "within_51k-80K",
          "within_21k-50K",
          "within_51k-80K",
          "within_21k-50K",
          "within_21k-50K",
          "within_21k-50K",
          "within_51k-80K",
          "within_21k-50K",
          "within_21k-50K",
          "within 81k-100k",
          "within_21k-50K",
          "within_51k-80K",
          "within_51k-80K",
          "within_20K",
          "within_21k-50K",
          "within_21k-50K",
          "within_51k-80K",
          "within_21k-50K",
          "within_21k-50K",
          "within_51k-80K",
          "within_51k-80K",
          "within 81k-100k",
          "within_51k-80K",
          "within_51k-80K",
          "within_51k-80K",
          "within_51k-80K",
          "within_51k-80K",
          "within_21k-50K",
          "within_20K",
          "within_21k-50K",
          "within_21k-50K",
          "within_51k-80K",
          "within 81k-100k",
          "within_21k-50K",
          "within 81k-100k",
          "within_21k-50K",
          "within_51k-80K",
          "within_21k-50K",
          "within 81k-100k",
          "within_20K",
          "within 81k-100k",
          "within 81k-100k",
          "within_51k-80K",
          "within_21k-50K",
          "within_51k-80K",
          "within_51k-80K",
          "within_51k-80K",
          "within_21k-50K",
          "within_21k-50K",
          "within_21k-50K",
          "within 81k-100k",
          "within_21k-50K",
          "within_21k-50K",
          "within_51k-80K",
          "within_21k-50K",
          "within_21k-50K",
          "within_21k-50K",
          "within_20K",
          "within 81k-100k",
          "within 81k-100k",
          "within_21k-50K",
          "within_21k-50K",
          "within_51k-80K",
          "within_21k-50K",
          "within_20K",
          "within_21k-50K",
          "within_51k-80K",
          "within_51k-80K",
          "within_51k-80K",
          "within_51k-80K",
          "within_51k-80K",
          "within_21k-50K",
          "within 81k-100k",
          "within_51k-80K",
          "within_21k-50K",
          "within_51k-80K",
          "within_21k-50K",
          "within_21k-50K",
          "within_21k-50K",
          "within_51k-80K",
          "within_51k-80K",
          "within_21k-50K",
          "within_21k-50K",
          "within_51k-80K",
          "within_21k-50K",
          "within_20K",
          "within_51k-80K",
          "within_51k-80K",
          "within 81k-100k",
          "within_51k-80K",
          "within_21k-50K",
          "within_20K",
          "within_21k-50K",
          "within_51k-80K",
          "within_51k-80K",
          "within_51k-80K",
          "within_21k-50K",
          "within_51k-80K",
          "within_51k-80K",
          "within_51k-80K",
          "within_51k-80K",
          "within_21k-50K",
          "within_21k-50K",
          "within 81k-100k",
          "within_21k-50K",
          "within_21k-50K",
          "within_51k-80K",
          "within_21k-50K",
          "within_51k-80K",
          "within_51k-80K",
          "within_21k-50K",
          "within_21k-50K",
          "within_51k-80K",
          "within_21k-50K",
          "within_51k-80K",
          "within_51k-80K",
          "within_21k-50K",
          "within 81k-100k",
          "within_21k-50K",
          "within_51k-80K",
          "within_20K",
          "within_21k-50K",
          "within_51k-80K",
          "within_21k-50K",
          "within_51k-80K",
          "within 81k-100k",
          "within_21k-50K",
          "within_51k-80K",
          "within_21k-50K",
          "within_21k-50K",
          "within_21k-50K",
          "within_21k-50K",
          "within_21k-50K",
          "within_21k-50K",
          "within_51k-80K",
          "within_51k-80K",
          "within_51k-80K",
          "within_21k-50K",
          "within_21k-50K",
          "within 81k-100k",
          "within_21k-50K",
          "within_51k-80K",
          "within_51k-80K",
          "within_20K",
          "within_51k-80K",
          "within_21k-50K",
          "within_21k-50K",
          "within_21k-50K",
          "within_21k-50K",
          "within_20K",
          "within_21k-50K",
          "within_51k-80K",
          "within_51k-80K",
          "within_21k-50K",
          "within_21k-50K",
          "within_21k-50K",
          "within_21k-50K",
          "within_21k-50K",
          "within_21k-50K",
          "within_51k-80K",
          "within_21k-50K",
          "within_21k-50K",
          "within_21k-50K",
          "within_21k-50K",
          "within_51k-80K",
          "within_21k-50K",
          "within_21k-50K",
          "within_20K",
          "within_51k-80K",
          "within_51k-80K",
          "within_20K",
          "within_51k-80K",
          "within_20K",
          "within_51k-80K"
         ],
         "xaxis": "x",
         "y": [
          42,
          3,
          12,
          2,
          13,
          18,
          24,
          3,
          65,
          1,
          4,
          22,
          0,
          4,
          16,
          14,
          16,
          0,
          0,
          76,
          0,
          33,
          32,
          4,
          102,
          149,
          2,
          8,
          12,
          0,
          74,
          141,
          9,
          3,
          4,
          2,
          2,
          25,
          3,
          1,
          0,
          4,
          24,
          40,
          3,
          3,
          0,
          9,
          3,
          26,
          1,
          28,
          0,
          3,
          4,
          2,
          34,
          0,
          2,
          4,
          76,
          38,
          25,
          17,
          60,
          0,
          121,
          0,
          10,
          0,
          3,
          121,
          198,
          3,
          12,
          1,
          110,
          14,
          138,
          7,
          28,
          27,
          67,
          1,
          8,
          4,
          71,
          8,
          14,
          0,
          45,
          15,
          1,
          3,
          9,
          3,
          16,
          0,
          42,
          55,
          0,
          0,
          77,
          0,
          3,
          13,
          83,
          38,
          9,
          0,
          32,
          1,
          137,
          13,
          14,
          13,
          7,
          0,
          2,
          0,
          34,
          3,
          6,
          55,
          26,
          0,
          175,
          162,
          69,
          14,
          3,
          4,
          14,
          30,
          64,
          7,
          0,
          0,
          46,
          8,
          67,
          2,
          2,
          114,
          0,
          7,
          42,
          2,
          98,
          152,
          13,
          1,
          28,
          1,
          121,
          23,
          0,
          65,
          2,
          25,
          17,
          44,
          0,
          0,
          12,
          40,
          11,
          83,
          0,
          5,
          7,
          0,
          9,
          8,
          45,
          77,
          24,
          1,
          0,
          142,
          4,
          4,
          8,
          2,
          0,
          94,
          0,
          4,
          0,
          4,
          7,
          29,
          8,
          3,
          23,
          3,
          7,
          21,
          5,
          54,
          0,
          2,
          2,
          1,
          36,
          1,
          7,
          1,
          5,
          0,
          4,
          43,
          3,
          13
         ],
         "yaxis": "y"
        },
        {
         "alignmentgroup": "True",
         "hovertemplate": "Recency_caty=Most Frequent within 10 days<br>Income_cat=%{x}<br>MntSweetProducts=%{y}<extra></extra>",
         "legendgroup": "Most Frequent within 10 days",
         "marker": {
          "color": "#EF553B",
          "pattern": {
           "shape": ""
          }
         },
         "name": "Most Frequent within 10 days",
         "offsetgroup": "Most Frequent within 10 days",
         "orientation": "v",
         "showlegend": true,
         "textposition": "auto",
         "type": "bar",
         "x": [
          "within_51k-80K",
          "within_21k-50K",
          "within_51k-80K",
          "within 81k-100k",
          "within_21k-50K",
          "within_51k-80K",
          "within_51k-80K",
          "within_51k-80K",
          "within_51k-80K",
          "within_51k-80K",
          "within_21k-50K",
          "within_51k-80K",
          "within_51k-80K",
          "within_51k-80K",
          "within_51k-80K",
          "within_51k-80K",
          "within_21k-50K",
          "within_51k-80K",
          "within_51k-80K",
          "within_51k-80K",
          "within_20K",
          "within_51k-80K",
          "within_51k-80K",
          "within 81k-100k",
          "within_51k-80K",
          "within_101k-120k",
          "within_21k-50K",
          "within_51k-80K",
          "within_21k-50K",
          "within_21k-50K",
          "within_21k-50K",
          "within_21k-50K",
          "within_51k-80K",
          "within_51k-80K",
          "within_21k-50K",
          "within 81k-100k",
          "within_51k-80K",
          "within_51k-80K",
          "within_51k-80K",
          "within_21k-50K",
          "within_21k-50K",
          "within_51k-80K",
          "within 81k-100k",
          "within_21k-50K",
          "within_51k-80K",
          "within_51k-80K",
          "within_51k-80K",
          "within_21k-50K",
          "within_21k-50K",
          "within_51k-80K",
          "within_21k-50K",
          "within 81k-100k",
          "within 81k-100k",
          "within_21k-50K",
          "within_21k-50K",
          "within_51k-80K",
          "within_21k-50K",
          "within_51k-80K",
          "within_21k-50K",
          "within_21k-50K",
          "within_21k-50K",
          "within_51k-80K",
          "within_51k-80K",
          "within_21k-50K",
          "within_51k-80K",
          "within_21k-50K",
          "within_21k-50K",
          "within_21k-50K",
          "within_51k-80K",
          "within_51k-80K",
          "within_21k-50K",
          "within_51k-80K",
          "within_51k-80K",
          "within_51k-80K",
          "within_21k-50K",
          "within_21k-50K",
          "within_21k-50K",
          "within 81k-100k",
          "within_21k-50K",
          "within_51k-80K",
          "within_21k-50K",
          "within 81k-100k",
          "within_21k-50K",
          "within_21k-50K",
          "within 81k-100k",
          "within_51k-80K",
          "within_51k-80K",
          "within_51k-80K",
          "within 81k-100k",
          "within 81k-100k",
          "within_51k-80K",
          "within_51k-80K",
          "within_20K",
          "within 81k-100k",
          "within_21k-50K",
          "within 81k-100k",
          "within_51k-80K",
          "within 81k-100k",
          "within_21k-50K",
          "within_51k-80K",
          "within_21k-50K",
          "within_21k-50K",
          "within_21k-50K",
          "within_51k-80K",
          "within_21k-50K",
          "within_51k-80K",
          "within 81k-100k",
          "within_21k-50K",
          "within_21k-50K",
          "within_51k-80K",
          "within_21k-50K",
          "within_21k-50K",
          "within 81k-100k",
          "within_21k-50K",
          "within_51k-80K",
          "within_51k-80K",
          "within_51k-80K",
          "within_51k-80K",
          "within_20K",
          "within_51k-80K",
          "within_21k-50K",
          "within_21k-50K",
          "within_21k-50K",
          "within_21k-50K",
          "within_20K",
          "within_20K",
          "within_20K",
          "within_51k-80K",
          "within_21k-50K",
          "within_51k-80K",
          "within_21k-50K",
          "within_51k-80K",
          "within_51k-80K",
          "within_20K",
          "within_21k-50K",
          "within_21k-50K",
          "within 81k-100k",
          "within_21k-50K",
          "within_51k-80K",
          "within_51k-80K",
          "within_21k-50K",
          "within_21k-50K",
          "within_21k-50K",
          "within_51k-80K",
          "within_51k-80K",
          "within_21k-50K",
          "within_51k-80K",
          "within_51k-80K",
          "within_21k-50K",
          "within_21k-50K",
          "within_51k-80K",
          "within_51k-80K",
          "within_21k-50K",
          "within_21k-50K",
          "within_51k-80K",
          "within_21k-50K",
          "within_21k-50K",
          "within_21k-50K",
          "within_51k-80K",
          "within_51k-80K",
          "within_51k-80K",
          "within_20K",
          "within_21k-50K",
          "within_21k-50K",
          "within_21k-50K",
          "within_51k-80K",
          "within_21k-50K",
          "within_20K",
          "within_21k-50K",
          "within_51k-80K",
          "within_20K",
          "within_21k-50K",
          "within_21k-50K",
          "within_51k-80K",
          "within_21k-50K",
          "within_21k-50K",
          "within_21k-50K",
          "within_51k-80K",
          "within_21k-50K",
          "within_21k-50K",
          "within 81k-100k",
          "within_51k-80K",
          "within_21k-50K",
          "within 81k-100k",
          "within_51k-80K",
          "within_51k-80K",
          "within_51k-80K",
          "within_21k-50K",
          "within_51k-80K",
          "within_101k-120k",
          "within_21k-50K",
          "within_21k-50K",
          "within_51k-80K",
          "within_51k-80K",
          "within_51k-80K",
          "within_51k-80K",
          "within_21k-50K",
          "within_21k-50K",
          "within_51k-80K",
          "within_21k-50K",
          "within_51k-80K",
          "within 81k-100k",
          "within_21k-50K",
          "within_21k-50K",
          "within_21k-50K",
          "within_21k-50K",
          "within_51k-80K",
          "within_51k-80K",
          "within_51k-80K",
          "within_51k-80K",
          "within_21k-50K",
          "within_20K",
          "within_21k-50K",
          "within_51k-80K",
          "within_51k-80K",
          "within_51k-80K",
          "within_51k-80K",
          "within_21k-50K",
          "within_21k-50K",
          "within_21k-50K",
          "within_51k-80K",
          "within_51k-80K",
          "within_21k-50K",
          "within_51k-80K",
          "within_21k-50K",
          "within_51k-80K",
          "within_21k-50K",
          "within_20K",
          "within_21k-50K",
          "within_51k-80K"
         ],
         "xaxis": "x",
         "y": [
          6,
          22,
          68,
          178,
          1,
          167,
          6,
          82,
          60,
          0,
          0,
          3,
          89,
          41,
          20,
          13,
          12,
          28,
          12,
          3,
          2,
          0,
          0,
          138,
          13,
          172,
          2,
          2,
          4,
          0,
          1,
          2,
          97,
          128,
          3,
          134,
          42,
          7,
          29,
          0,
          0,
          172,
          16,
          0,
          16,
          20,
          14,
          0,
          62,
          58,
          3,
          19,
          123,
          8,
          6,
          0,
          2,
          4,
          2,
          11,
          0,
          44,
          4,
          0,
          9,
          2,
          2,
          0,
          28,
          21,
          5,
          0,
          133,
          32,
          26,
          5,
          16,
          148,
          1,
          30,
          18,
          35,
          0,
          0,
          30,
          36,
          51,
          7,
          18,
          19,
          13,
          15,
          7,
          35,
          1,
          69,
          41,
          20,
          5,
          50,
          0,
          4,
          0,
          53,
          5,
          0,
          44,
          10,
          3,
          10,
          1,
          3,
          160,
          0,
          28,
          99,
          21,
          151,
          14,
          14,
          2,
          1,
          2,
          3,
          4,
          0,
          3,
          75,
          15,
          96,
          10,
          0,
          29,
          8,
          13,
          5,
          19,
          3,
          7,
          0,
          2,
          4,
          0,
          50,
          5,
          0,
          12,
          197,
          8,
          1,
          176,
          0,
          2,
          1,
          44,
          3,
          8,
          3,
          80,
          11,
          0,
          2,
          5,
          3,
          3,
          80,
          0,
          16,
          3,
          53,
          4,
          0,
          14,
          26,
          8,
          6,
          0,
          89,
          3,
          8,
          23,
          138,
          0,
          21,
          0,
          29,
          6,
          8,
          19,
          262,
          5,
          4,
          30,
          26,
          21,
          0,
          3,
          0,
          5,
          1,
          37,
          101,
          0,
          12,
          4,
          49,
          7,
          44,
          73,
          3,
          49,
          4,
          16,
          5,
          0,
          25,
          48,
          5,
          2,
          15,
          138,
          92,
          3,
          9,
          2,
          0,
          3,
          8,
          0,
          30
         ],
         "yaxis": "y"
        }
       ],
       "layout": {
        "barmode": "group",
        "legend": {
         "title": {
          "text": "Recency_caty"
         },
         "tracegroupgap": 0
        },
        "margin": {
         "t": 60
        },
        "template": {
         "data": {
          "bar": [
           {
            "error_x": {
             "color": "#2a3f5f"
            },
            "error_y": {
             "color": "#2a3f5f"
            },
            "marker": {
             "line": {
              "color": "#E5ECF6",
              "width": 0.5
             },
             "pattern": {
              "fillmode": "overlay",
              "size": 10,
              "solidity": 0.2
             }
            },
            "type": "bar"
           }
          ],
          "barpolar": [
           {
            "marker": {
             "line": {
              "color": "#E5ECF6",
              "width": 0.5
             },
             "pattern": {
              "fillmode": "overlay",
              "size": 10,
              "solidity": 0.2
             }
            },
            "type": "barpolar"
           }
          ],
          "carpet": [
           {
            "aaxis": {
             "endlinecolor": "#2a3f5f",
             "gridcolor": "white",
             "linecolor": "white",
             "minorgridcolor": "white",
             "startlinecolor": "#2a3f5f"
            },
            "baxis": {
             "endlinecolor": "#2a3f5f",
             "gridcolor": "white",
             "linecolor": "white",
             "minorgridcolor": "white",
             "startlinecolor": "#2a3f5f"
            },
            "type": "carpet"
           }
          ],
          "choropleth": [
           {
            "colorbar": {
             "outlinewidth": 0,
             "ticks": ""
            },
            "type": "choropleth"
           }
          ],
          "contour": [
           {
            "colorbar": {
             "outlinewidth": 0,
             "ticks": ""
            },
            "colorscale": [
             [
              0,
              "#0d0887"
             ],
             [
              0.1111111111111111,
              "#46039f"
             ],
             [
              0.2222222222222222,
              "#7201a8"
             ],
             [
              0.3333333333333333,
              "#9c179e"
             ],
             [
              0.4444444444444444,
              "#bd3786"
             ],
             [
              0.5555555555555556,
              "#d8576b"
             ],
             [
              0.6666666666666666,
              "#ed7953"
             ],
             [
              0.7777777777777778,
              "#fb9f3a"
             ],
             [
              0.8888888888888888,
              "#fdca26"
             ],
             [
              1,
              "#f0f921"
             ]
            ],
            "type": "contour"
           }
          ],
          "contourcarpet": [
           {
            "colorbar": {
             "outlinewidth": 0,
             "ticks": ""
            },
            "type": "contourcarpet"
           }
          ],
          "heatmap": [
           {
            "colorbar": {
             "outlinewidth": 0,
             "ticks": ""
            },
            "colorscale": [
             [
              0,
              "#0d0887"
             ],
             [
              0.1111111111111111,
              "#46039f"
             ],
             [
              0.2222222222222222,
              "#7201a8"
             ],
             [
              0.3333333333333333,
              "#9c179e"
             ],
             [
              0.4444444444444444,
              "#bd3786"
             ],
             [
              0.5555555555555556,
              "#d8576b"
             ],
             [
              0.6666666666666666,
              "#ed7953"
             ],
             [
              0.7777777777777778,
              "#fb9f3a"
             ],
             [
              0.8888888888888888,
              "#fdca26"
             ],
             [
              1,
              "#f0f921"
             ]
            ],
            "type": "heatmap"
           }
          ],
          "heatmapgl": [
           {
            "colorbar": {
             "outlinewidth": 0,
             "ticks": ""
            },
            "colorscale": [
             [
              0,
              "#0d0887"
             ],
             [
              0.1111111111111111,
              "#46039f"
             ],
             [
              0.2222222222222222,
              "#7201a8"
             ],
             [
              0.3333333333333333,
              "#9c179e"
             ],
             [
              0.4444444444444444,
              "#bd3786"
             ],
             [
              0.5555555555555556,
              "#d8576b"
             ],
             [
              0.6666666666666666,
              "#ed7953"
             ],
             [
              0.7777777777777778,
              "#fb9f3a"
             ],
             [
              0.8888888888888888,
              "#fdca26"
             ],
             [
              1,
              "#f0f921"
             ]
            ],
            "type": "heatmapgl"
           }
          ],
          "histogram": [
           {
            "marker": {
             "pattern": {
              "fillmode": "overlay",
              "size": 10,
              "solidity": 0.2
             }
            },
            "type": "histogram"
           }
          ],
          "histogram2d": [
           {
            "colorbar": {
             "outlinewidth": 0,
             "ticks": ""
            },
            "colorscale": [
             [
              0,
              "#0d0887"
             ],
             [
              0.1111111111111111,
              "#46039f"
             ],
             [
              0.2222222222222222,
              "#7201a8"
             ],
             [
              0.3333333333333333,
              "#9c179e"
             ],
             [
              0.4444444444444444,
              "#bd3786"
             ],
             [
              0.5555555555555556,
              "#d8576b"
             ],
             [
              0.6666666666666666,
              "#ed7953"
             ],
             [
              0.7777777777777778,
              "#fb9f3a"
             ],
             [
              0.8888888888888888,
              "#fdca26"
             ],
             [
              1,
              "#f0f921"
             ]
            ],
            "type": "histogram2d"
           }
          ],
          "histogram2dcontour": [
           {
            "colorbar": {
             "outlinewidth": 0,
             "ticks": ""
            },
            "colorscale": [
             [
              0,
              "#0d0887"
             ],
             [
              0.1111111111111111,
              "#46039f"
             ],
             [
              0.2222222222222222,
              "#7201a8"
             ],
             [
              0.3333333333333333,
              "#9c179e"
             ],
             [
              0.4444444444444444,
              "#bd3786"
             ],
             [
              0.5555555555555556,
              "#d8576b"
             ],
             [
              0.6666666666666666,
              "#ed7953"
             ],
             [
              0.7777777777777778,
              "#fb9f3a"
             ],
             [
              0.8888888888888888,
              "#fdca26"
             ],
             [
              1,
              "#f0f921"
             ]
            ],
            "type": "histogram2dcontour"
           }
          ],
          "mesh3d": [
           {
            "colorbar": {
             "outlinewidth": 0,
             "ticks": ""
            },
            "type": "mesh3d"
           }
          ],
          "parcoords": [
           {
            "line": {
             "colorbar": {
              "outlinewidth": 0,
              "ticks": ""
             }
            },
            "type": "parcoords"
           }
          ],
          "pie": [
           {
            "automargin": true,
            "type": "pie"
           }
          ],
          "scatter": [
           {
            "fillpattern": {
             "fillmode": "overlay",
             "size": 10,
             "solidity": 0.2
            },
            "type": "scatter"
           }
          ],
          "scatter3d": [
           {
            "line": {
             "colorbar": {
              "outlinewidth": 0,
              "ticks": ""
             }
            },
            "marker": {
             "colorbar": {
              "outlinewidth": 0,
              "ticks": ""
             }
            },
            "type": "scatter3d"
           }
          ],
          "scattercarpet": [
           {
            "marker": {
             "colorbar": {
              "outlinewidth": 0,
              "ticks": ""
             }
            },
            "type": "scattercarpet"
           }
          ],
          "scattergeo": [
           {
            "marker": {
             "colorbar": {
              "outlinewidth": 0,
              "ticks": ""
             }
            },
            "type": "scattergeo"
           }
          ],
          "scattergl": [
           {
            "marker": {
             "colorbar": {
              "outlinewidth": 0,
              "ticks": ""
             }
            },
            "type": "scattergl"
           }
          ],
          "scattermapbox": [
           {
            "marker": {
             "colorbar": {
              "outlinewidth": 0,
              "ticks": ""
             }
            },
            "type": "scattermapbox"
           }
          ],
          "scatterpolar": [
           {
            "marker": {
             "colorbar": {
              "outlinewidth": 0,
              "ticks": ""
             }
            },
            "type": "scatterpolar"
           }
          ],
          "scatterpolargl": [
           {
            "marker": {
             "colorbar": {
              "outlinewidth": 0,
              "ticks": ""
             }
            },
            "type": "scatterpolargl"
           }
          ],
          "scatterternary": [
           {
            "marker": {
             "colorbar": {
              "outlinewidth": 0,
              "ticks": ""
             }
            },
            "type": "scatterternary"
           }
          ],
          "surface": [
           {
            "colorbar": {
             "outlinewidth": 0,
             "ticks": ""
            },
            "colorscale": [
             [
              0,
              "#0d0887"
             ],
             [
              0.1111111111111111,
              "#46039f"
             ],
             [
              0.2222222222222222,
              "#7201a8"
             ],
             [
              0.3333333333333333,
              "#9c179e"
             ],
             [
              0.4444444444444444,
              "#bd3786"
             ],
             [
              0.5555555555555556,
              "#d8576b"
             ],
             [
              0.6666666666666666,
              "#ed7953"
             ],
             [
              0.7777777777777778,
              "#fb9f3a"
             ],
             [
              0.8888888888888888,
              "#fdca26"
             ],
             [
              1,
              "#f0f921"
             ]
            ],
            "type": "surface"
           }
          ],
          "table": [
           {
            "cells": {
             "fill": {
              "color": "#EBF0F8"
             },
             "line": {
              "color": "white"
             }
            },
            "header": {
             "fill": {
              "color": "#C8D4E3"
             },
             "line": {
              "color": "white"
             }
            },
            "type": "table"
           }
          ]
         },
         "layout": {
          "annotationdefaults": {
           "arrowcolor": "#2a3f5f",
           "arrowhead": 0,
           "arrowwidth": 1
          },
          "autotypenumbers": "strict",
          "coloraxis": {
           "colorbar": {
            "outlinewidth": 0,
            "ticks": ""
           }
          },
          "colorscale": {
           "diverging": [
            [
             0,
             "#8e0152"
            ],
            [
             0.1,
             "#c51b7d"
            ],
            [
             0.2,
             "#de77ae"
            ],
            [
             0.3,
             "#f1b6da"
            ],
            [
             0.4,
             "#fde0ef"
            ],
            [
             0.5,
             "#f7f7f7"
            ],
            [
             0.6,
             "#e6f5d0"
            ],
            [
             0.7,
             "#b8e186"
            ],
            [
             0.8,
             "#7fbc41"
            ],
            [
             0.9,
             "#4d9221"
            ],
            [
             1,
             "#276419"
            ]
           ],
           "sequential": [
            [
             0,
             "#0d0887"
            ],
            [
             0.1111111111111111,
             "#46039f"
            ],
            [
             0.2222222222222222,
             "#7201a8"
            ],
            [
             0.3333333333333333,
             "#9c179e"
            ],
            [
             0.4444444444444444,
             "#bd3786"
            ],
            [
             0.5555555555555556,
             "#d8576b"
            ],
            [
             0.6666666666666666,
             "#ed7953"
            ],
            [
             0.7777777777777778,
             "#fb9f3a"
            ],
            [
             0.8888888888888888,
             "#fdca26"
            ],
            [
             1,
             "#f0f921"
            ]
           ],
           "sequentialminus": [
            [
             0,
             "#0d0887"
            ],
            [
             0.1111111111111111,
             "#46039f"
            ],
            [
             0.2222222222222222,
             "#7201a8"
            ],
            [
             0.3333333333333333,
             "#9c179e"
            ],
            [
             0.4444444444444444,
             "#bd3786"
            ],
            [
             0.5555555555555556,
             "#d8576b"
            ],
            [
             0.6666666666666666,
             "#ed7953"
            ],
            [
             0.7777777777777778,
             "#fb9f3a"
            ],
            [
             0.8888888888888888,
             "#fdca26"
            ],
            [
             1,
             "#f0f921"
            ]
           ]
          },
          "colorway": [
           "#636efa",
           "#EF553B",
           "#00cc96",
           "#ab63fa",
           "#FFA15A",
           "#19d3f3",
           "#FF6692",
           "#B6E880",
           "#FF97FF",
           "#FECB52"
          ],
          "font": {
           "color": "#2a3f5f"
          },
          "geo": {
           "bgcolor": "white",
           "lakecolor": "white",
           "landcolor": "#E5ECF6",
           "showlakes": true,
           "showland": true,
           "subunitcolor": "white"
          },
          "hoverlabel": {
           "align": "left"
          },
          "hovermode": "closest",
          "mapbox": {
           "style": "light"
          },
          "paper_bgcolor": "white",
          "plot_bgcolor": "#E5ECF6",
          "polar": {
           "angularaxis": {
            "gridcolor": "white",
            "linecolor": "white",
            "ticks": ""
           },
           "bgcolor": "#E5ECF6",
           "radialaxis": {
            "gridcolor": "white",
            "linecolor": "white",
            "ticks": ""
           }
          },
          "scene": {
           "xaxis": {
            "backgroundcolor": "#E5ECF6",
            "gridcolor": "white",
            "gridwidth": 2,
            "linecolor": "white",
            "showbackground": true,
            "ticks": "",
            "zerolinecolor": "white"
           },
           "yaxis": {
            "backgroundcolor": "#E5ECF6",
            "gridcolor": "white",
            "gridwidth": 2,
            "linecolor": "white",
            "showbackground": true,
            "ticks": "",
            "zerolinecolor": "white"
           },
           "zaxis": {
            "backgroundcolor": "#E5ECF6",
            "gridcolor": "white",
            "gridwidth": 2,
            "linecolor": "white",
            "showbackground": true,
            "ticks": "",
            "zerolinecolor": "white"
           }
          },
          "shapedefaults": {
           "line": {
            "color": "#2a3f5f"
           }
          },
          "ternary": {
           "aaxis": {
            "gridcolor": "white",
            "linecolor": "white",
            "ticks": ""
           },
           "baxis": {
            "gridcolor": "white",
            "linecolor": "white",
            "ticks": ""
           },
           "bgcolor": "#E5ECF6",
           "caxis": {
            "gridcolor": "white",
            "linecolor": "white",
            "ticks": ""
           }
          },
          "title": {
           "x": 0.05
          },
          "xaxis": {
           "automargin": true,
           "gridcolor": "white",
           "linecolor": "white",
           "ticks": "",
           "title": {
            "standoff": 15
           },
           "zerolinecolor": "white",
           "zerolinewidth": 2
          },
          "yaxis": {
           "automargin": true,
           "gridcolor": "white",
           "linecolor": "white",
           "ticks": "",
           "title": {
            "standoff": 15
           },
           "zerolinecolor": "white",
           "zerolinewidth": 2
          }
         }
        },
        "xaxis": {
         "anchor": "y",
         "domain": [
          0,
          1
         ],
         "title": {
          "text": "Income_cat"
         }
        },
        "yaxis": {
         "anchor": "x",
         "domain": [
          0,
          1
         ],
         "title": {
          "text": "MntSweetProducts"
         }
        }
       }
      }
     },
     "metadata": {},
     "output_type": "display_data"
    }
   ],
   "source": [
    "px.bar(recent_items,x = recent_items[\"Income_cat\"],y = recent_items['MntSweetProducts'],color=recent_items['Recency_caty'],barmode='group')"
   ]
  },
  {
   "cell_type": "code",
   "execution_count": 74,
   "metadata": {},
   "outputs": [
    {
     "data": {
      "application/vnd.plotly.v1+json": {
       "config": {
        "plotlyServerURL": "https://plot.ly"
       },
       "data": [
        {
         "alignmentgroup": "True",
         "hovertemplate": "Recency_caty=Frequent between 11 to 20 days<br>Income_cat=%{x}<br>MntGoldProds=%{y}<extra></extra>",
         "legendgroup": "Frequent between 11 to 20 days",
         "marker": {
          "color": "#636efa",
          "pattern": {
           "shape": ""
          }
         },
         "name": "Frequent between 11 to 20 days",
         "offsetgroup": "Frequent between 11 to 20 days",
         "orientation": "v",
         "showlegend": true,
         "textposition": "auto",
         "type": "bar",
         "x": [
          "within_51k-80K",
          "within_21k-50K",
          "within_21k-50K",
          "within_20K",
          "within_51k-80K",
          "within_51k-80K",
          "within 81k-100k",
          "within_21k-50K",
          "within 81k-100k",
          "within_21k-50K",
          "within_21k-50K",
          "within 81k-100k",
          "within_21k-50K",
          "within_21k-50K",
          "within_21k-50K",
          "within_21k-50K",
          "within_51k-80K",
          "within_51k-80K",
          "within_21k-50K",
          "within_51k-80K",
          "within_21k-50K",
          "within 81k-100k",
          "within_51k-80K",
          "within_21k-50K",
          "within_51k-80K",
          "within_51k-80K",
          "within_21k-50K",
          "within_21k-50K",
          "within_21k-50K",
          "within_21k-50K",
          "within_51k-80K",
          "within_51k-80K",
          "within_21k-50K",
          "within_21k-50K",
          "within_21k-50K",
          "within_51k-80K",
          "within_21k-50K",
          "within 81k-100k",
          "within_21k-50K",
          "within_21k-50K",
          "within_51k-80K",
          "within_21k-50K",
          "within_51k-80K",
          "within_21k-50K",
          "within_21k-50K",
          "within_21k-50K",
          "within_51k-80K",
          "within_21k-50K",
          "within_21k-50K",
          "within 81k-100k",
          "within_21k-50K",
          "within_51k-80K",
          "within_51k-80K",
          "within_20K",
          "within_21k-50K",
          "within_21k-50K",
          "within_51k-80K",
          "within_21k-50K",
          "within_21k-50K",
          "within_51k-80K",
          "within_51k-80K",
          "within 81k-100k",
          "within_51k-80K",
          "within_51k-80K",
          "within_51k-80K",
          "within_51k-80K",
          "within_51k-80K",
          "within_21k-50K",
          "within_20K",
          "within_21k-50K",
          "within_21k-50K",
          "within_51k-80K",
          "within 81k-100k",
          "within_21k-50K",
          "within 81k-100k",
          "within_21k-50K",
          "within_51k-80K",
          "within_21k-50K",
          "within 81k-100k",
          "within_20K",
          "within 81k-100k",
          "within 81k-100k",
          "within_51k-80K",
          "within_21k-50K",
          "within_51k-80K",
          "within_51k-80K",
          "within_51k-80K",
          "within_21k-50K",
          "within_21k-50K",
          "within_21k-50K",
          "within 81k-100k",
          "within_21k-50K",
          "within_21k-50K",
          "within_51k-80K",
          "within_21k-50K",
          "within_21k-50K",
          "within_21k-50K",
          "within_20K",
          "within 81k-100k",
          "within 81k-100k",
          "within_21k-50K",
          "within_21k-50K",
          "within_51k-80K",
          "within_21k-50K",
          "within_20K",
          "within_21k-50K",
          "within_51k-80K",
          "within_51k-80K",
          "within_51k-80K",
          "within_51k-80K",
          "within_51k-80K",
          "within_21k-50K",
          "within 81k-100k",
          "within_51k-80K",
          "within_21k-50K",
          "within_51k-80K",
          "within_21k-50K",
          "within_21k-50K",
          "within_21k-50K",
          "within_51k-80K",
          "within_51k-80K",
          "within_21k-50K",
          "within_21k-50K",
          "within_51k-80K",
          "within_21k-50K",
          "within_20K",
          "within_51k-80K",
          "within_51k-80K",
          "within 81k-100k",
          "within_51k-80K",
          "within_21k-50K",
          "within_20K",
          "within_21k-50K",
          "within_51k-80K",
          "within_51k-80K",
          "within_51k-80K",
          "within_21k-50K",
          "within_51k-80K",
          "within_51k-80K",
          "within_51k-80K",
          "within_51k-80K",
          "within_21k-50K",
          "within_21k-50K",
          "within 81k-100k",
          "within_21k-50K",
          "within_21k-50K",
          "within_51k-80K",
          "within_21k-50K",
          "within_51k-80K",
          "within_51k-80K",
          "within_21k-50K",
          "within_21k-50K",
          "within_51k-80K",
          "within_21k-50K",
          "within_51k-80K",
          "within_51k-80K",
          "within_21k-50K",
          "within 81k-100k",
          "within_21k-50K",
          "within_51k-80K",
          "within_20K",
          "within_21k-50K",
          "within_51k-80K",
          "within_21k-50K",
          "within_51k-80K",
          "within 81k-100k",
          "within_21k-50K",
          "within_51k-80K",
          "within_21k-50K",
          "within_21k-50K",
          "within_21k-50K",
          "within_21k-50K",
          "within_21k-50K",
          "within_21k-50K",
          "within_51k-80K",
          "within_51k-80K",
          "within_51k-80K",
          "within_21k-50K",
          "within_21k-50K",
          "within 81k-100k",
          "within_21k-50K",
          "within_51k-80K",
          "within_51k-80K",
          "within_20K",
          "within_51k-80K",
          "within_21k-50K",
          "within_21k-50K",
          "within_21k-50K",
          "within_21k-50K",
          "within_20K",
          "within_21k-50K",
          "within_51k-80K",
          "within_51k-80K",
          "within_21k-50K",
          "within_21k-50K",
          "within_21k-50K",
          "within_21k-50K",
          "within_21k-50K",
          "within_21k-50K",
          "within_51k-80K",
          "within_21k-50K",
          "within_21k-50K",
          "within_21k-50K",
          "within_21k-50K",
          "within_51k-80K",
          "within_21k-50K",
          "within_21k-50K",
          "within_20K",
          "within_51k-80K",
          "within_51k-80K",
          "within_20K",
          "within_51k-80K",
          "within_20K",
          "within_51k-80K"
         ],
         "xaxis": "x",
         "y": [
          14,
          2,
          28,
          12,
          80,
          6,
          38,
          9,
          76,
          7,
          27,
          43,
          72,
          10,
          116,
          20,
          33,
          6,
          12,
          15,
          4,
          172,
          192,
          8,
          12,
          116,
          21,
          6,
          28,
          3,
          74,
          28,
          12,
          8,
          15,
          17,
          21,
          122,
          18,
          3,
          22,
          1,
          157,
          55,
          107,
          32,
          4,
          3,
          2,
          26,
          3,
          14,
          22,
          1,
          1,
          3,
          17,
          3,
          3,
          24,
          134,
          0,
          12,
          120,
          30,
          37,
          83,
          1,
          30,
          2,
          64,
          83,
          79,
          144,
          36,
          18,
          6,
          42,
          80,
          32,
          183,
          44,
          40,
          34,
          177,
          4,
          17,
          17,
          20,
          110,
          68,
          40,
          21,
          96,
          28,
          18,
          12,
          1,
          231,
          37,
          12,
          3,
          83,
          1,
          14,
          16,
          99,
          133,
          45,
          2,
          16,
          6,
          114,
          13,
          19,
          13,
          8,
          1,
          13,
          11,
          76,
          12,
          3,
          241,
          47,
          3,
          95,
          37,
          138,
          205,
          14,
          18,
          42,
          38,
          140,
          23,
          3,
          109,
          15,
          246,
          2,
          10,
          3,
          45,
          1,
          12,
          21,
          15,
          14,
          35,
          30,
          3,
          21,
          0,
          38,
          31,
          12,
          76,
          2,
          77,
          20,
          88,
          35,
          4,
          127,
          40,
          9,
          83,
          18,
          3,
          11,
          13,
          31,
          17,
          52,
          42,
          166,
          31,
          3,
          66,
          16,
          40,
          26,
          6,
          59,
          219,
          4,
          11,
          9,
          18,
          12,
          49,
          13,
          1,
          50,
          13,
          11,
          10,
          2,
          54,
          12,
          17,
          64,
          25,
          97,
          0,
          3,
          13,
          21,
          0,
          18,
          29,
          5,
          80
         ],
         "yaxis": "y"
        },
        {
         "alignmentgroup": "True",
         "hovertemplate": "Recency_caty=Most Frequent within 10 days<br>Income_cat=%{x}<br>MntGoldProds=%{y}<extra></extra>",
         "legendgroup": "Most Frequent within 10 days",
         "marker": {
          "color": "#EF553B",
          "pattern": {
           "shape": ""
          }
         },
         "name": "Most Frequent within 10 days",
         "offsetgroup": "Most Frequent within 10 days",
         "orientation": "v",
         "showlegend": true,
         "textposition": "auto",
         "type": "bar",
         "x": [
          "within_51k-80K",
          "within_21k-50K",
          "within_51k-80K",
          "within 81k-100k",
          "within_21k-50K",
          "within_51k-80K",
          "within_51k-80K",
          "within_51k-80K",
          "within_51k-80K",
          "within_51k-80K",
          "within_21k-50K",
          "within_51k-80K",
          "within_51k-80K",
          "within_51k-80K",
          "within_51k-80K",
          "within_51k-80K",
          "within_21k-50K",
          "within_51k-80K",
          "within_51k-80K",
          "within_51k-80K",
          "within_20K",
          "within_51k-80K",
          "within_51k-80K",
          "within 81k-100k",
          "within_51k-80K",
          "within_101k-120k",
          "within_21k-50K",
          "within_51k-80K",
          "within_21k-50K",
          "within_21k-50K",
          "within_21k-50K",
          "within_21k-50K",
          "within_51k-80K",
          "within_51k-80K",
          "within_21k-50K",
          "within 81k-100k",
          "within_51k-80K",
          "within_51k-80K",
          "within_51k-80K",
          "within_21k-50K",
          "within_21k-50K",
          "within_51k-80K",
          "within 81k-100k",
          "within_21k-50K",
          "within_51k-80K",
          "within_51k-80K",
          "within_51k-80K",
          "within_21k-50K",
          "within_21k-50K",
          "within_51k-80K",
          "within_21k-50K",
          "within 81k-100k",
          "within 81k-100k",
          "within_21k-50K",
          "within_21k-50K",
          "within_51k-80K",
          "within_21k-50K",
          "within_51k-80K",
          "within_21k-50K",
          "within_21k-50K",
          "within_21k-50K",
          "within_51k-80K",
          "within_51k-80K",
          "within_21k-50K",
          "within_51k-80K",
          "within_21k-50K",
          "within_21k-50K",
          "within_21k-50K",
          "within_51k-80K",
          "within_51k-80K",
          "within_21k-50K",
          "within_51k-80K",
          "within_51k-80K",
          "within_51k-80K",
          "within_21k-50K",
          "within_21k-50K",
          "within_21k-50K",
          "within 81k-100k",
          "within_21k-50K",
          "within_51k-80K",
          "within_21k-50K",
          "within 81k-100k",
          "within_21k-50K",
          "within_21k-50K",
          "within 81k-100k",
          "within_51k-80K",
          "within_51k-80K",
          "within_51k-80K",
          "within 81k-100k",
          "within 81k-100k",
          "within_51k-80K",
          "within_51k-80K",
          "within_20K",
          "within 81k-100k",
          "within_21k-50K",
          "within 81k-100k",
          "within_51k-80K",
          "within 81k-100k",
          "within_21k-50K",
          "within_51k-80K",
          "within_21k-50K",
          "within_21k-50K",
          "within_21k-50K",
          "within_51k-80K",
          "within_21k-50K",
          "within_51k-80K",
          "within 81k-100k",
          "within_21k-50K",
          "within_21k-50K",
          "within_51k-80K",
          "within_21k-50K",
          "within_21k-50K",
          "within 81k-100k",
          "within_21k-50K",
          "within_51k-80K",
          "within_51k-80K",
          "within_51k-80K",
          "within_51k-80K",
          "within_20K",
          "within_51k-80K",
          "within_21k-50K",
          "within_21k-50K",
          "within_21k-50K",
          "within_21k-50K",
          "within_20K",
          "within_20K",
          "within_20K",
          "within_51k-80K",
          "within_21k-50K",
          "within_51k-80K",
          "within_21k-50K",
          "within_51k-80K",
          "within_51k-80K",
          "within_20K",
          "within_21k-50K",
          "within_21k-50K",
          "within 81k-100k",
          "within_21k-50K",
          "within_51k-80K",
          "within_51k-80K",
          "within_21k-50K",
          "within_21k-50K",
          "within_21k-50K",
          "within_51k-80K",
          "within_51k-80K",
          "within_21k-50K",
          "within_51k-80K",
          "within_51k-80K",
          "within_21k-50K",
          "within_21k-50K",
          "within_51k-80K",
          "within_51k-80K",
          "within_21k-50K",
          "within_21k-50K",
          "within_51k-80K",
          "within_21k-50K",
          "within_21k-50K",
          "within_21k-50K",
          "within_51k-80K",
          "within_51k-80K",
          "within_51k-80K",
          "within_20K",
          "within_21k-50K",
          "within_21k-50K",
          "within_21k-50K",
          "within_51k-80K",
          "within_21k-50K",
          "within_20K",
          "within_21k-50K",
          "within_51k-80K",
          "within_20K",
          "within_21k-50K",
          "within_21k-50K",
          "within_51k-80K",
          "within_21k-50K",
          "within_21k-50K",
          "within_21k-50K",
          "within_51k-80K",
          "within_21k-50K",
          "within_21k-50K",
          "within 81k-100k",
          "within_51k-80K",
          "within_21k-50K",
          "within 81k-100k",
          "within_51k-80K",
          "within_51k-80K",
          "within_51k-80K",
          "within_21k-50K",
          "within_51k-80K",
          "within_101k-120k",
          "within_21k-50K",
          "within_21k-50K",
          "within_51k-80K",
          "within_51k-80K",
          "within_51k-80K",
          "within_51k-80K",
          "within_21k-50K",
          "within_21k-50K",
          "within_51k-80K",
          "within_21k-50K",
          "within_51k-80K",
          "within 81k-100k",
          "within_21k-50K",
          "within_21k-50K",
          "within_21k-50K",
          "within_21k-50K",
          "within_51k-80K",
          "within_51k-80K",
          "within_51k-80K",
          "within_51k-80K",
          "within_21k-50K",
          "within_20K",
          "within_21k-50K",
          "within_51k-80K",
          "within_51k-80K",
          "within_51k-80K",
          "within_51k-80K",
          "within_21k-50K",
          "within_21k-50K",
          "within_21k-50K",
          "within_51k-80K",
          "within_51k-80K",
          "within_21k-50K",
          "within_51k-80K",
          "within_21k-50K",
          "within_51k-80K",
          "within_21k-50K",
          "within_20K",
          "within_21k-50K",
          "within_51k-80K"
         ],
         "xaxis": "x",
         "y": [
          41,
          43,
          22,
          102,
          3,
          32,
          6,
          109,
          12,
          51,
          4,
          34,
          58,
          130,
          50,
          42,
          3,
          14,
          12,
          27,
          15,
          1,
          14,
          27,
          181,
          148,
          20,
          13,
          8,
          1,
          2,
          18,
          30,
          48,
          3,
          57,
          21,
          10,
          14,
          28,
          1,
          172,
          16,
          5,
          66,
          50,
          21,
          0,
          108,
          91,
          20,
          0,
          47,
          12,
          24,
          30,
          9,
          30,
          16,
          26,
          1,
          48,
          19,
          17,
          67,
          31,
          18,
          3,
          9,
          21,
          11,
          86,
          121,
          90,
          112,
          5,
          17,
          22,
          10,
          32,
          18,
          54,
          17,
          0,
          33,
          48,
          135,
          28,
          37,
          0,
          80,
          15,
          26,
          8,
          5,
          51,
          64,
          20,
          6,
          40,
          8,
          7,
          6,
          10,
          26,
          34,
          147,
          125,
          2,
          42,
          2,
          3,
          45,
          24,
          21,
          33,
          25,
          66,
          7,
          34,
          23,
          1,
          10,
          8,
          25,
          4,
          262,
          97,
          0,
          168,
          102,
          34,
          95,
          22,
          27,
          31,
          119,
          2,
          71,
          15,
          41,
          1,
          0,
          40,
          10,
          5,
          153,
          197,
          12,
          39,
          48,
          91,
          5,
          20,
          133,
          22,
          24,
          42,
          35,
          17,
          9,
          10,
          7,
          3,
          26,
          80,
          1,
          42,
          3,
          107,
          7,
          0,
          25,
          191,
          11,
          16,
          0,
          29,
          15,
          69,
          17,
          150,
          1,
          63,
          30,
          95,
          26,
          16,
          57,
          3,
          23,
          5,
          8,
          145,
          0,
          160,
          15,
          10,
          22,
          3,
          55,
          62,
          8,
          12,
          8,
          42,
          143,
          133,
          43,
          11,
          42,
          16,
          17,
          22,
          125,
          12,
          128,
          7,
          2,
          19,
          150,
          129,
          42,
          56,
          0,
          152,
          42,
          21,
          17,
          61
         ],
         "yaxis": "y"
        }
       ],
       "layout": {
        "barmode": "group",
        "legend": {
         "title": {
          "text": "Recency_caty"
         },
         "tracegroupgap": 0
        },
        "margin": {
         "t": 60
        },
        "template": {
         "data": {
          "bar": [
           {
            "error_x": {
             "color": "#2a3f5f"
            },
            "error_y": {
             "color": "#2a3f5f"
            },
            "marker": {
             "line": {
              "color": "#E5ECF6",
              "width": 0.5
             },
             "pattern": {
              "fillmode": "overlay",
              "size": 10,
              "solidity": 0.2
             }
            },
            "type": "bar"
           }
          ],
          "barpolar": [
           {
            "marker": {
             "line": {
              "color": "#E5ECF6",
              "width": 0.5
             },
             "pattern": {
              "fillmode": "overlay",
              "size": 10,
              "solidity": 0.2
             }
            },
            "type": "barpolar"
           }
          ],
          "carpet": [
           {
            "aaxis": {
             "endlinecolor": "#2a3f5f",
             "gridcolor": "white",
             "linecolor": "white",
             "minorgridcolor": "white",
             "startlinecolor": "#2a3f5f"
            },
            "baxis": {
             "endlinecolor": "#2a3f5f",
             "gridcolor": "white",
             "linecolor": "white",
             "minorgridcolor": "white",
             "startlinecolor": "#2a3f5f"
            },
            "type": "carpet"
           }
          ],
          "choropleth": [
           {
            "colorbar": {
             "outlinewidth": 0,
             "ticks": ""
            },
            "type": "choropleth"
           }
          ],
          "contour": [
           {
            "colorbar": {
             "outlinewidth": 0,
             "ticks": ""
            },
            "colorscale": [
             [
              0,
              "#0d0887"
             ],
             [
              0.1111111111111111,
              "#46039f"
             ],
             [
              0.2222222222222222,
              "#7201a8"
             ],
             [
              0.3333333333333333,
              "#9c179e"
             ],
             [
              0.4444444444444444,
              "#bd3786"
             ],
             [
              0.5555555555555556,
              "#d8576b"
             ],
             [
              0.6666666666666666,
              "#ed7953"
             ],
             [
              0.7777777777777778,
              "#fb9f3a"
             ],
             [
              0.8888888888888888,
              "#fdca26"
             ],
             [
              1,
              "#f0f921"
             ]
            ],
            "type": "contour"
           }
          ],
          "contourcarpet": [
           {
            "colorbar": {
             "outlinewidth": 0,
             "ticks": ""
            },
            "type": "contourcarpet"
           }
          ],
          "heatmap": [
           {
            "colorbar": {
             "outlinewidth": 0,
             "ticks": ""
            },
            "colorscale": [
             [
              0,
              "#0d0887"
             ],
             [
              0.1111111111111111,
              "#46039f"
             ],
             [
              0.2222222222222222,
              "#7201a8"
             ],
             [
              0.3333333333333333,
              "#9c179e"
             ],
             [
              0.4444444444444444,
              "#bd3786"
             ],
             [
              0.5555555555555556,
              "#d8576b"
             ],
             [
              0.6666666666666666,
              "#ed7953"
             ],
             [
              0.7777777777777778,
              "#fb9f3a"
             ],
             [
              0.8888888888888888,
              "#fdca26"
             ],
             [
              1,
              "#f0f921"
             ]
            ],
            "type": "heatmap"
           }
          ],
          "heatmapgl": [
           {
            "colorbar": {
             "outlinewidth": 0,
             "ticks": ""
            },
            "colorscale": [
             [
              0,
              "#0d0887"
             ],
             [
              0.1111111111111111,
              "#46039f"
             ],
             [
              0.2222222222222222,
              "#7201a8"
             ],
             [
              0.3333333333333333,
              "#9c179e"
             ],
             [
              0.4444444444444444,
              "#bd3786"
             ],
             [
              0.5555555555555556,
              "#d8576b"
             ],
             [
              0.6666666666666666,
              "#ed7953"
             ],
             [
              0.7777777777777778,
              "#fb9f3a"
             ],
             [
              0.8888888888888888,
              "#fdca26"
             ],
             [
              1,
              "#f0f921"
             ]
            ],
            "type": "heatmapgl"
           }
          ],
          "histogram": [
           {
            "marker": {
             "pattern": {
              "fillmode": "overlay",
              "size": 10,
              "solidity": 0.2
             }
            },
            "type": "histogram"
           }
          ],
          "histogram2d": [
           {
            "colorbar": {
             "outlinewidth": 0,
             "ticks": ""
            },
            "colorscale": [
             [
              0,
              "#0d0887"
             ],
             [
              0.1111111111111111,
              "#46039f"
             ],
             [
              0.2222222222222222,
              "#7201a8"
             ],
             [
              0.3333333333333333,
              "#9c179e"
             ],
             [
              0.4444444444444444,
              "#bd3786"
             ],
             [
              0.5555555555555556,
              "#d8576b"
             ],
             [
              0.6666666666666666,
              "#ed7953"
             ],
             [
              0.7777777777777778,
              "#fb9f3a"
             ],
             [
              0.8888888888888888,
              "#fdca26"
             ],
             [
              1,
              "#f0f921"
             ]
            ],
            "type": "histogram2d"
           }
          ],
          "histogram2dcontour": [
           {
            "colorbar": {
             "outlinewidth": 0,
             "ticks": ""
            },
            "colorscale": [
             [
              0,
              "#0d0887"
             ],
             [
              0.1111111111111111,
              "#46039f"
             ],
             [
              0.2222222222222222,
              "#7201a8"
             ],
             [
              0.3333333333333333,
              "#9c179e"
             ],
             [
              0.4444444444444444,
              "#bd3786"
             ],
             [
              0.5555555555555556,
              "#d8576b"
             ],
             [
              0.6666666666666666,
              "#ed7953"
             ],
             [
              0.7777777777777778,
              "#fb9f3a"
             ],
             [
              0.8888888888888888,
              "#fdca26"
             ],
             [
              1,
              "#f0f921"
             ]
            ],
            "type": "histogram2dcontour"
           }
          ],
          "mesh3d": [
           {
            "colorbar": {
             "outlinewidth": 0,
             "ticks": ""
            },
            "type": "mesh3d"
           }
          ],
          "parcoords": [
           {
            "line": {
             "colorbar": {
              "outlinewidth": 0,
              "ticks": ""
             }
            },
            "type": "parcoords"
           }
          ],
          "pie": [
           {
            "automargin": true,
            "type": "pie"
           }
          ],
          "scatter": [
           {
            "fillpattern": {
             "fillmode": "overlay",
             "size": 10,
             "solidity": 0.2
            },
            "type": "scatter"
           }
          ],
          "scatter3d": [
           {
            "line": {
             "colorbar": {
              "outlinewidth": 0,
              "ticks": ""
             }
            },
            "marker": {
             "colorbar": {
              "outlinewidth": 0,
              "ticks": ""
             }
            },
            "type": "scatter3d"
           }
          ],
          "scattercarpet": [
           {
            "marker": {
             "colorbar": {
              "outlinewidth": 0,
              "ticks": ""
             }
            },
            "type": "scattercarpet"
           }
          ],
          "scattergeo": [
           {
            "marker": {
             "colorbar": {
              "outlinewidth": 0,
              "ticks": ""
             }
            },
            "type": "scattergeo"
           }
          ],
          "scattergl": [
           {
            "marker": {
             "colorbar": {
              "outlinewidth": 0,
              "ticks": ""
             }
            },
            "type": "scattergl"
           }
          ],
          "scattermapbox": [
           {
            "marker": {
             "colorbar": {
              "outlinewidth": 0,
              "ticks": ""
             }
            },
            "type": "scattermapbox"
           }
          ],
          "scatterpolar": [
           {
            "marker": {
             "colorbar": {
              "outlinewidth": 0,
              "ticks": ""
             }
            },
            "type": "scatterpolar"
           }
          ],
          "scatterpolargl": [
           {
            "marker": {
             "colorbar": {
              "outlinewidth": 0,
              "ticks": ""
             }
            },
            "type": "scatterpolargl"
           }
          ],
          "scatterternary": [
           {
            "marker": {
             "colorbar": {
              "outlinewidth": 0,
              "ticks": ""
             }
            },
            "type": "scatterternary"
           }
          ],
          "surface": [
           {
            "colorbar": {
             "outlinewidth": 0,
             "ticks": ""
            },
            "colorscale": [
             [
              0,
              "#0d0887"
             ],
             [
              0.1111111111111111,
              "#46039f"
             ],
             [
              0.2222222222222222,
              "#7201a8"
             ],
             [
              0.3333333333333333,
              "#9c179e"
             ],
             [
              0.4444444444444444,
              "#bd3786"
             ],
             [
              0.5555555555555556,
              "#d8576b"
             ],
             [
              0.6666666666666666,
              "#ed7953"
             ],
             [
              0.7777777777777778,
              "#fb9f3a"
             ],
             [
              0.8888888888888888,
              "#fdca26"
             ],
             [
              1,
              "#f0f921"
             ]
            ],
            "type": "surface"
           }
          ],
          "table": [
           {
            "cells": {
             "fill": {
              "color": "#EBF0F8"
             },
             "line": {
              "color": "white"
             }
            },
            "header": {
             "fill": {
              "color": "#C8D4E3"
             },
             "line": {
              "color": "white"
             }
            },
            "type": "table"
           }
          ]
         },
         "layout": {
          "annotationdefaults": {
           "arrowcolor": "#2a3f5f",
           "arrowhead": 0,
           "arrowwidth": 1
          },
          "autotypenumbers": "strict",
          "coloraxis": {
           "colorbar": {
            "outlinewidth": 0,
            "ticks": ""
           }
          },
          "colorscale": {
           "diverging": [
            [
             0,
             "#8e0152"
            ],
            [
             0.1,
             "#c51b7d"
            ],
            [
             0.2,
             "#de77ae"
            ],
            [
             0.3,
             "#f1b6da"
            ],
            [
             0.4,
             "#fde0ef"
            ],
            [
             0.5,
             "#f7f7f7"
            ],
            [
             0.6,
             "#e6f5d0"
            ],
            [
             0.7,
             "#b8e186"
            ],
            [
             0.8,
             "#7fbc41"
            ],
            [
             0.9,
             "#4d9221"
            ],
            [
             1,
             "#276419"
            ]
           ],
           "sequential": [
            [
             0,
             "#0d0887"
            ],
            [
             0.1111111111111111,
             "#46039f"
            ],
            [
             0.2222222222222222,
             "#7201a8"
            ],
            [
             0.3333333333333333,
             "#9c179e"
            ],
            [
             0.4444444444444444,
             "#bd3786"
            ],
            [
             0.5555555555555556,
             "#d8576b"
            ],
            [
             0.6666666666666666,
             "#ed7953"
            ],
            [
             0.7777777777777778,
             "#fb9f3a"
            ],
            [
             0.8888888888888888,
             "#fdca26"
            ],
            [
             1,
             "#f0f921"
            ]
           ],
           "sequentialminus": [
            [
             0,
             "#0d0887"
            ],
            [
             0.1111111111111111,
             "#46039f"
            ],
            [
             0.2222222222222222,
             "#7201a8"
            ],
            [
             0.3333333333333333,
             "#9c179e"
            ],
            [
             0.4444444444444444,
             "#bd3786"
            ],
            [
             0.5555555555555556,
             "#d8576b"
            ],
            [
             0.6666666666666666,
             "#ed7953"
            ],
            [
             0.7777777777777778,
             "#fb9f3a"
            ],
            [
             0.8888888888888888,
             "#fdca26"
            ],
            [
             1,
             "#f0f921"
            ]
           ]
          },
          "colorway": [
           "#636efa",
           "#EF553B",
           "#00cc96",
           "#ab63fa",
           "#FFA15A",
           "#19d3f3",
           "#FF6692",
           "#B6E880",
           "#FF97FF",
           "#FECB52"
          ],
          "font": {
           "color": "#2a3f5f"
          },
          "geo": {
           "bgcolor": "white",
           "lakecolor": "white",
           "landcolor": "#E5ECF6",
           "showlakes": true,
           "showland": true,
           "subunitcolor": "white"
          },
          "hoverlabel": {
           "align": "left"
          },
          "hovermode": "closest",
          "mapbox": {
           "style": "light"
          },
          "paper_bgcolor": "white",
          "plot_bgcolor": "#E5ECF6",
          "polar": {
           "angularaxis": {
            "gridcolor": "white",
            "linecolor": "white",
            "ticks": ""
           },
           "bgcolor": "#E5ECF6",
           "radialaxis": {
            "gridcolor": "white",
            "linecolor": "white",
            "ticks": ""
           }
          },
          "scene": {
           "xaxis": {
            "backgroundcolor": "#E5ECF6",
            "gridcolor": "white",
            "gridwidth": 2,
            "linecolor": "white",
            "showbackground": true,
            "ticks": "",
            "zerolinecolor": "white"
           },
           "yaxis": {
            "backgroundcolor": "#E5ECF6",
            "gridcolor": "white",
            "gridwidth": 2,
            "linecolor": "white",
            "showbackground": true,
            "ticks": "",
            "zerolinecolor": "white"
           },
           "zaxis": {
            "backgroundcolor": "#E5ECF6",
            "gridcolor": "white",
            "gridwidth": 2,
            "linecolor": "white",
            "showbackground": true,
            "ticks": "",
            "zerolinecolor": "white"
           }
          },
          "shapedefaults": {
           "line": {
            "color": "#2a3f5f"
           }
          },
          "ternary": {
           "aaxis": {
            "gridcolor": "white",
            "linecolor": "white",
            "ticks": ""
           },
           "baxis": {
            "gridcolor": "white",
            "linecolor": "white",
            "ticks": ""
           },
           "bgcolor": "#E5ECF6",
           "caxis": {
            "gridcolor": "white",
            "linecolor": "white",
            "ticks": ""
           }
          },
          "title": {
           "x": 0.05
          },
          "xaxis": {
           "automargin": true,
           "gridcolor": "white",
           "linecolor": "white",
           "ticks": "",
           "title": {
            "standoff": 15
           },
           "zerolinecolor": "white",
           "zerolinewidth": 2
          },
          "yaxis": {
           "automargin": true,
           "gridcolor": "white",
           "linecolor": "white",
           "ticks": "",
           "title": {
            "standoff": 15
           },
           "zerolinecolor": "white",
           "zerolinewidth": 2
          }
         }
        },
        "xaxis": {
         "anchor": "y",
         "domain": [
          0,
          1
         ],
         "title": {
          "text": "Income_cat"
         }
        },
        "yaxis": {
         "anchor": "x",
         "domain": [
          0,
          1
         ],
         "title": {
          "text": "MntGoldProds"
         }
        }
       }
      }
     },
     "metadata": {},
     "output_type": "display_data"
    }
   ],
   "source": [
    "px.bar(recent_items,x = recent_items[\"Income_cat\"],y = recent_items['MntGoldProds'],color=recent_items['Recency_caty'],barmode='group')"
   ]
  }
 ],
 "metadata": {
  "kernelspec": {
   "display_name": "venv",
   "language": "python",
   "name": "python3"
  },
  "language_info": {
   "codemirror_mode": {
    "name": "ipython",
    "version": 3
   },
   "file_extension": ".py",
   "mimetype": "text/x-python",
   "name": "python",
   "nbconvert_exporter": "python",
   "pygments_lexer": "ipython3",
   "version": "3.10.2"
  },
  "orig_nbformat": 4,
  "vscode": {
   "interpreter": {
    "hash": "c8a936d3487bf1dbd8b2885adf8415fc7f652a2a0ea23434ad2b8fcba835f889"
   }
  }
 },
 "nbformat": 4,
 "nbformat_minor": 2
}
